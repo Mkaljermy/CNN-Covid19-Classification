{
  "cells": [
    {
      "cell_type": "code",
      "source": [
        "from google.colab import drive\n",
        "drive.mount('/content/drive')"
      ],
      "metadata": {
        "colab": {
          "base_uri": "https://localhost:8080/"
        },
        "id": "tD9qF9_MVYma",
        "outputId": "6029e562-1106-4358-c62a-8123462833db"
      },
      "execution_count": null,
      "outputs": [
        {
          "output_type": "stream",
          "name": "stdout",
          "text": [
            "Mounted at /content/drive\n"
          ]
        }
      ]
    },
    {
      "cell_type": "markdown",
      "metadata": {
        "id": "66esVyRsWGbo"
      },
      "source": [
        "# Reading the data"
      ]
    },
    {
      "cell_type": "code",
      "source": [
        "import pandas as pd\n",
        "train_df = pd.read_csv('/content/drive/MyDrive/CNN/train.csv')"
      ],
      "metadata": {
        "id": "N_ndfkDbOBJx"
      },
      "execution_count": null,
      "outputs": []
    },
    {
      "cell_type": "code",
      "source": [
        "train_df"
      ],
      "metadata": {
        "colab": {
          "base_uri": "https://localhost:8080/",
          "height": 423
        },
        "id": "5qZdxMT9QZA5",
        "outputId": "001adfeb-8245-41da-b90c-2de2ca6b1958"
      },
      "execution_count": null,
      "outputs": [
        {
          "output_type": "execute_result",
          "data": {
            "text/plain": [
              "               Image   Label\n",
              "0     597631776.jpeg  normal\n",
              "1      35266064.jpeg   virus\n",
              "2     467414642.jpeg  normal\n",
              "3      35667640.jpeg  normal\n",
              "4     618841263.jpeg  normal\n",
              "...              ...     ...\n",
              "1191  118777221.jpeg   virus\n",
              "1192  375945707.jpeg  normal\n",
              "1193  531745860.jpeg   virus\n",
              "1194  121544623.jpeg   covid\n",
              "1195  327147141.jpeg   virus\n",
              "\n",
              "[1196 rows x 2 columns]"
            ],
            "text/html": [
              "\n",
              "  <div id=\"df-982157fe-f1bb-48f1-918b-bf4b1713ee11\" class=\"colab-df-container\">\n",
              "    <div>\n",
              "<style scoped>\n",
              "    .dataframe tbody tr th:only-of-type {\n",
              "        vertical-align: middle;\n",
              "    }\n",
              "\n",
              "    .dataframe tbody tr th {\n",
              "        vertical-align: top;\n",
              "    }\n",
              "\n",
              "    .dataframe thead th {\n",
              "        text-align: right;\n",
              "    }\n",
              "</style>\n",
              "<table border=\"1\" class=\"dataframe\">\n",
              "  <thead>\n",
              "    <tr style=\"text-align: right;\">\n",
              "      <th></th>\n",
              "      <th>Image</th>\n",
              "      <th>Label</th>\n",
              "    </tr>\n",
              "  </thead>\n",
              "  <tbody>\n",
              "    <tr>\n",
              "      <th>0</th>\n",
              "      <td>597631776.jpeg</td>\n",
              "      <td>normal</td>\n",
              "    </tr>\n",
              "    <tr>\n",
              "      <th>1</th>\n",
              "      <td>35266064.jpeg</td>\n",
              "      <td>virus</td>\n",
              "    </tr>\n",
              "    <tr>\n",
              "      <th>2</th>\n",
              "      <td>467414642.jpeg</td>\n",
              "      <td>normal</td>\n",
              "    </tr>\n",
              "    <tr>\n",
              "      <th>3</th>\n",
              "      <td>35667640.jpeg</td>\n",
              "      <td>normal</td>\n",
              "    </tr>\n",
              "    <tr>\n",
              "      <th>4</th>\n",
              "      <td>618841263.jpeg</td>\n",
              "      <td>normal</td>\n",
              "    </tr>\n",
              "    <tr>\n",
              "      <th>...</th>\n",
              "      <td>...</td>\n",
              "      <td>...</td>\n",
              "    </tr>\n",
              "    <tr>\n",
              "      <th>1191</th>\n",
              "      <td>118777221.jpeg</td>\n",
              "      <td>virus</td>\n",
              "    </tr>\n",
              "    <tr>\n",
              "      <th>1192</th>\n",
              "      <td>375945707.jpeg</td>\n",
              "      <td>normal</td>\n",
              "    </tr>\n",
              "    <tr>\n",
              "      <th>1193</th>\n",
              "      <td>531745860.jpeg</td>\n",
              "      <td>virus</td>\n",
              "    </tr>\n",
              "    <tr>\n",
              "      <th>1194</th>\n",
              "      <td>121544623.jpeg</td>\n",
              "      <td>covid</td>\n",
              "    </tr>\n",
              "    <tr>\n",
              "      <th>1195</th>\n",
              "      <td>327147141.jpeg</td>\n",
              "      <td>virus</td>\n",
              "    </tr>\n",
              "  </tbody>\n",
              "</table>\n",
              "<p>1196 rows × 2 columns</p>\n",
              "</div>\n",
              "    <div class=\"colab-df-buttons\">\n",
              "\n",
              "  <div class=\"colab-df-container\">\n",
              "    <button class=\"colab-df-convert\" onclick=\"convertToInteractive('df-982157fe-f1bb-48f1-918b-bf4b1713ee11')\"\n",
              "            title=\"Convert this dataframe to an interactive table.\"\n",
              "            style=\"display:none;\">\n",
              "\n",
              "  <svg xmlns=\"http://www.w3.org/2000/svg\" height=\"24px\" viewBox=\"0 -960 960 960\">\n",
              "    <path d=\"M120-120v-720h720v720H120Zm60-500h600v-160H180v160Zm220 220h160v-160H400v160Zm0 220h160v-160H400v160ZM180-400h160v-160H180v160Zm440 0h160v-160H620v160ZM180-180h160v-160H180v160Zm440 0h160v-160H620v160Z\"/>\n",
              "  </svg>\n",
              "    </button>\n",
              "\n",
              "  <style>\n",
              "    .colab-df-container {\n",
              "      display:flex;\n",
              "      gap: 12px;\n",
              "    }\n",
              "\n",
              "    .colab-df-convert {\n",
              "      background-color: #E8F0FE;\n",
              "      border: none;\n",
              "      border-radius: 50%;\n",
              "      cursor: pointer;\n",
              "      display: none;\n",
              "      fill: #1967D2;\n",
              "      height: 32px;\n",
              "      padding: 0 0 0 0;\n",
              "      width: 32px;\n",
              "    }\n",
              "\n",
              "    .colab-df-convert:hover {\n",
              "      background-color: #E2EBFA;\n",
              "      box-shadow: 0px 1px 2px rgba(60, 64, 67, 0.3), 0px 1px 3px 1px rgba(60, 64, 67, 0.15);\n",
              "      fill: #174EA6;\n",
              "    }\n",
              "\n",
              "    .colab-df-buttons div {\n",
              "      margin-bottom: 4px;\n",
              "    }\n",
              "\n",
              "    [theme=dark] .colab-df-convert {\n",
              "      background-color: #3B4455;\n",
              "      fill: #D2E3FC;\n",
              "    }\n",
              "\n",
              "    [theme=dark] .colab-df-convert:hover {\n",
              "      background-color: #434B5C;\n",
              "      box-shadow: 0px 1px 3px 1px rgba(0, 0, 0, 0.15);\n",
              "      filter: drop-shadow(0px 1px 2px rgba(0, 0, 0, 0.3));\n",
              "      fill: #FFFFFF;\n",
              "    }\n",
              "  </style>\n",
              "\n",
              "    <script>\n",
              "      const buttonEl =\n",
              "        document.querySelector('#df-982157fe-f1bb-48f1-918b-bf4b1713ee11 button.colab-df-convert');\n",
              "      buttonEl.style.display =\n",
              "        google.colab.kernel.accessAllowed ? 'block' : 'none';\n",
              "\n",
              "      async function convertToInteractive(key) {\n",
              "        const element = document.querySelector('#df-982157fe-f1bb-48f1-918b-bf4b1713ee11');\n",
              "        const dataTable =\n",
              "          await google.colab.kernel.invokeFunction('convertToInteractive',\n",
              "                                                    [key], {});\n",
              "        if (!dataTable) return;\n",
              "\n",
              "        const docLinkHtml = 'Like what you see? Visit the ' +\n",
              "          '<a target=\"_blank\" href=https://colab.research.google.com/notebooks/data_table.ipynb>data table notebook</a>'\n",
              "          + ' to learn more about interactive tables.';\n",
              "        element.innerHTML = '';\n",
              "        dataTable['output_type'] = 'display_data';\n",
              "        await google.colab.output.renderOutput(dataTable, element);\n",
              "        const docLink = document.createElement('div');\n",
              "        docLink.innerHTML = docLinkHtml;\n",
              "        element.appendChild(docLink);\n",
              "      }\n",
              "    </script>\n",
              "  </div>\n",
              "\n",
              "\n",
              "<div id=\"df-c638c158-726f-4bb1-b9cd-2e085ac6f2ae\">\n",
              "  <button class=\"colab-df-quickchart\" onclick=\"quickchart('df-c638c158-726f-4bb1-b9cd-2e085ac6f2ae')\"\n",
              "            title=\"Suggest charts\"\n",
              "            style=\"display:none;\">\n",
              "\n",
              "<svg xmlns=\"http://www.w3.org/2000/svg\" height=\"24px\"viewBox=\"0 0 24 24\"\n",
              "     width=\"24px\">\n",
              "    <g>\n",
              "        <path d=\"M19 3H5c-1.1 0-2 .9-2 2v14c0 1.1.9 2 2 2h14c1.1 0 2-.9 2-2V5c0-1.1-.9-2-2-2zM9 17H7v-7h2v7zm4 0h-2V7h2v10zm4 0h-2v-4h2v4z\"/>\n",
              "    </g>\n",
              "</svg>\n",
              "  </button>\n",
              "\n",
              "<style>\n",
              "  .colab-df-quickchart {\n",
              "      --bg-color: #E8F0FE;\n",
              "      --fill-color: #1967D2;\n",
              "      --hover-bg-color: #E2EBFA;\n",
              "      --hover-fill-color: #174EA6;\n",
              "      --disabled-fill-color: #AAA;\n",
              "      --disabled-bg-color: #DDD;\n",
              "  }\n",
              "\n",
              "  [theme=dark] .colab-df-quickchart {\n",
              "      --bg-color: #3B4455;\n",
              "      --fill-color: #D2E3FC;\n",
              "      --hover-bg-color: #434B5C;\n",
              "      --hover-fill-color: #FFFFFF;\n",
              "      --disabled-bg-color: #3B4455;\n",
              "      --disabled-fill-color: #666;\n",
              "  }\n",
              "\n",
              "  .colab-df-quickchart {\n",
              "    background-color: var(--bg-color);\n",
              "    border: none;\n",
              "    border-radius: 50%;\n",
              "    cursor: pointer;\n",
              "    display: none;\n",
              "    fill: var(--fill-color);\n",
              "    height: 32px;\n",
              "    padding: 0;\n",
              "    width: 32px;\n",
              "  }\n",
              "\n",
              "  .colab-df-quickchart:hover {\n",
              "    background-color: var(--hover-bg-color);\n",
              "    box-shadow: 0 1px 2px rgba(60, 64, 67, 0.3), 0 1px 3px 1px rgba(60, 64, 67, 0.15);\n",
              "    fill: var(--button-hover-fill-color);\n",
              "  }\n",
              "\n",
              "  .colab-df-quickchart-complete:disabled,\n",
              "  .colab-df-quickchart-complete:disabled:hover {\n",
              "    background-color: var(--disabled-bg-color);\n",
              "    fill: var(--disabled-fill-color);\n",
              "    box-shadow: none;\n",
              "  }\n",
              "\n",
              "  .colab-df-spinner {\n",
              "    border: 2px solid var(--fill-color);\n",
              "    border-color: transparent;\n",
              "    border-bottom-color: var(--fill-color);\n",
              "    animation:\n",
              "      spin 1s steps(1) infinite;\n",
              "  }\n",
              "\n",
              "  @keyframes spin {\n",
              "    0% {\n",
              "      border-color: transparent;\n",
              "      border-bottom-color: var(--fill-color);\n",
              "      border-left-color: var(--fill-color);\n",
              "    }\n",
              "    20% {\n",
              "      border-color: transparent;\n",
              "      border-left-color: var(--fill-color);\n",
              "      border-top-color: var(--fill-color);\n",
              "    }\n",
              "    30% {\n",
              "      border-color: transparent;\n",
              "      border-left-color: var(--fill-color);\n",
              "      border-top-color: var(--fill-color);\n",
              "      border-right-color: var(--fill-color);\n",
              "    }\n",
              "    40% {\n",
              "      border-color: transparent;\n",
              "      border-right-color: var(--fill-color);\n",
              "      border-top-color: var(--fill-color);\n",
              "    }\n",
              "    60% {\n",
              "      border-color: transparent;\n",
              "      border-right-color: var(--fill-color);\n",
              "    }\n",
              "    80% {\n",
              "      border-color: transparent;\n",
              "      border-right-color: var(--fill-color);\n",
              "      border-bottom-color: var(--fill-color);\n",
              "    }\n",
              "    90% {\n",
              "      border-color: transparent;\n",
              "      border-bottom-color: var(--fill-color);\n",
              "    }\n",
              "  }\n",
              "</style>\n",
              "\n",
              "  <script>\n",
              "    async function quickchart(key) {\n",
              "      const quickchartButtonEl =\n",
              "        document.querySelector('#' + key + ' button');\n",
              "      quickchartButtonEl.disabled = true;  // To prevent multiple clicks.\n",
              "      quickchartButtonEl.classList.add('colab-df-spinner');\n",
              "      try {\n",
              "        const charts = await google.colab.kernel.invokeFunction(\n",
              "            'suggestCharts', [key], {});\n",
              "      } catch (error) {\n",
              "        console.error('Error during call to suggestCharts:', error);\n",
              "      }\n",
              "      quickchartButtonEl.classList.remove('colab-df-spinner');\n",
              "      quickchartButtonEl.classList.add('colab-df-quickchart-complete');\n",
              "    }\n",
              "    (() => {\n",
              "      let quickchartButtonEl =\n",
              "        document.querySelector('#df-c638c158-726f-4bb1-b9cd-2e085ac6f2ae button');\n",
              "      quickchartButtonEl.style.display =\n",
              "        google.colab.kernel.accessAllowed ? 'block' : 'none';\n",
              "    })();\n",
              "  </script>\n",
              "</div>\n",
              "\n",
              "  <div id=\"id_dd9603d8-1722-430e-8702-8e70eacee7a0\">\n",
              "    <style>\n",
              "      .colab-df-generate {\n",
              "        background-color: #E8F0FE;\n",
              "        border: none;\n",
              "        border-radius: 50%;\n",
              "        cursor: pointer;\n",
              "        display: none;\n",
              "        fill: #1967D2;\n",
              "        height: 32px;\n",
              "        padding: 0 0 0 0;\n",
              "        width: 32px;\n",
              "      }\n",
              "\n",
              "      .colab-df-generate:hover {\n",
              "        background-color: #E2EBFA;\n",
              "        box-shadow: 0px 1px 2px rgba(60, 64, 67, 0.3), 0px 1px 3px 1px rgba(60, 64, 67, 0.15);\n",
              "        fill: #174EA6;\n",
              "      }\n",
              "\n",
              "      [theme=dark] .colab-df-generate {\n",
              "        background-color: #3B4455;\n",
              "        fill: #D2E3FC;\n",
              "      }\n",
              "\n",
              "      [theme=dark] .colab-df-generate:hover {\n",
              "        background-color: #434B5C;\n",
              "        box-shadow: 0px 1px 3px 1px rgba(0, 0, 0, 0.15);\n",
              "        filter: drop-shadow(0px 1px 2px rgba(0, 0, 0, 0.3));\n",
              "        fill: #FFFFFF;\n",
              "      }\n",
              "    </style>\n",
              "    <button class=\"colab-df-generate\" onclick=\"generateWithVariable('train_df')\"\n",
              "            title=\"Generate code using this dataframe.\"\n",
              "            style=\"display:none;\">\n",
              "\n",
              "  <svg xmlns=\"http://www.w3.org/2000/svg\" height=\"24px\"viewBox=\"0 0 24 24\"\n",
              "       width=\"24px\">\n",
              "    <path d=\"M7,19H8.4L18.45,9,17,7.55,7,17.6ZM5,21V16.75L18.45,3.32a2,2,0,0,1,2.83,0l1.4,1.43a1.91,1.91,0,0,1,.58,1.4,1.91,1.91,0,0,1-.58,1.4L9.25,21ZM18.45,9,17,7.55Zm-12,3A5.31,5.31,0,0,0,4.9,8.1,5.31,5.31,0,0,0,1,6.5,5.31,5.31,0,0,0,4.9,4.9,5.31,5.31,0,0,0,6.5,1,5.31,5.31,0,0,0,8.1,4.9,5.31,5.31,0,0,0,12,6.5,5.46,5.46,0,0,0,6.5,12Z\"/>\n",
              "  </svg>\n",
              "    </button>\n",
              "    <script>\n",
              "      (() => {\n",
              "      const buttonEl =\n",
              "        document.querySelector('#id_dd9603d8-1722-430e-8702-8e70eacee7a0 button.colab-df-generate');\n",
              "      buttonEl.style.display =\n",
              "        google.colab.kernel.accessAllowed ? 'block' : 'none';\n",
              "\n",
              "      buttonEl.onclick = () => {\n",
              "        google.colab.notebook.generateWithVariable('train_df');\n",
              "      }\n",
              "      })();\n",
              "    </script>\n",
              "  </div>\n",
              "\n",
              "    </div>\n",
              "  </div>\n"
            ],
            "application/vnd.google.colaboratory.intrinsic+json": {
              "type": "dataframe",
              "variable_name": "train_df",
              "summary": "{\n  \"name\": \"train_df\",\n  \"rows\": 1196,\n  \"fields\": [\n    {\n      \"column\": \"Image\",\n      \"properties\": {\n        \"dtype\": \"string\",\n        \"num_unique_values\": 1196,\n        \"samples\": [\n          \"582347275.jpeg\",\n          \"551707543.jpeg\",\n          \"40852600.jpeg\"\n        ],\n        \"semantic_type\": \"\",\n        \"description\": \"\"\n      }\n    },\n    {\n      \"column\": \"Label\",\n      \"properties\": {\n        \"dtype\": \"category\",\n        \"num_unique_values\": 3,\n        \"samples\": [\n          \"normal\",\n          \"virus\",\n          \"covid\"\n        ],\n        \"semantic_type\": \"\",\n        \"description\": \"\"\n      }\n    }\n  ]\n}"
            }
          },
          "metadata": {},
          "execution_count": 3
        }
      ]
    },
    {
      "cell_type": "code",
      "source": [
        "train_df.info()"
      ],
      "metadata": {
        "colab": {
          "base_uri": "https://localhost:8080/"
        },
        "id": "vPF4rLQ3QZ3p",
        "outputId": "4ce0de9a-f2cf-4326-ecb3-c3c40956bb96"
      },
      "execution_count": null,
      "outputs": [
        {
          "output_type": "stream",
          "name": "stdout",
          "text": [
            "<class 'pandas.core.frame.DataFrame'>\n",
            "RangeIndex: 1196 entries, 0 to 1195\n",
            "Data columns (total 2 columns):\n",
            " #   Column  Non-Null Count  Dtype \n",
            "---  ------  --------------  ----- \n",
            " 0   Image   1196 non-null   object\n",
            " 1   Label   1196 non-null   object\n",
            "dtypes: object(2)\n",
            "memory usage: 18.8+ KB\n"
          ]
        }
      ]
    },
    {
      "cell_type": "code",
      "source": [
        "import matplotlib.pyplot as plt\n",
        "import seaborn as sns\n",
        "\n",
        "sns.countplot(x = train_df['Label'])\n",
        "plt.show()"
      ],
      "metadata": {
        "colab": {
          "base_uri": "https://localhost:8080/",
          "height": 449
        },
        "id": "NJbwgRsDQbTk",
        "outputId": "fb7f0403-f7e9-4081-952b-961e4f1e99d9"
      },
      "execution_count": null,
      "outputs": [
        {
          "output_type": "display_data",
          "data": {
            "text/plain": [
              "<Figure size 640x480 with 1 Axes>"
            ],
            "image/png": "[encoded data removed]"
          },
          "metadata": {}
        }
      ]
    },
    {
      "cell_type": "markdown",
      "source": [
        "# Reading the data and make it balance"
      ],
      "metadata": {
        "id": "0CIq9jrdQz-w"
      }
    },
    {
      "cell_type": "code",
      "source": [
        "train_dir = '/content/drive/MyDrive/CNN/train'\n",
        "validation_dir = '/content/drive/MyDrive/CNN/validation'\n",
        "train_covid_dir = '/content/drive/MyDrive/CNN/train/covid'\n",
        "train_normal_dir = '/content/drive/MyDrive/CNN/train/normal'\n",
        "train_virus_dir = '/content/drive/MyDrive/CNN/train/virus'\n",
        "validation_covid_dir = '/content/drive/MyDrive/CNN/validation/covid'\n",
        "validation_normal_dir = '/content/drive/MyDrive/CNN/validation/normal'\n",
        "validation_virus_dir = '/content/drive/MyDrive/CNN/validation/virus'"
      ],
      "metadata": {
        "id": "usY6FHy6Ql4m"
      },
      "execution_count": null,
      "outputs": []
    },
    {
      "cell_type": "code",
      "source": [
        "import os\n",
        "os.listdir(train_dir), len(os.listdir(train_covid_dir)), len(os.listdir(train_normal_dir)), len(os.listdir(train_virus_dir))"
      ],
      "metadata": {
        "colab": {
          "base_uri": "https://localhost:8080/"
        },
        "id": "hpEPmqmzRSYo",
        "outputId": "29d92539-2dbb-4632-8343-92d44f2fd93d"
      },
      "execution_count": null,
      "outputs": [
        {
          "output_type": "execute_result",
          "data": {
            "text/plain": [
              "(['covid', 'normal', 'virus'], 400, 400, 400)"
            ]
          },
          "metadata": {},
          "execution_count": 7
        }
      ]
    },
    {
      "cell_type": "markdown",
      "source": [
        "# make the data balunced"
      ],
      "metadata": {
        "id": "69_Q-ReCIMbd"
      }
    },
    {
      "cell_type": "code",
      "source": [
        "import os\n",
        "import shutil\n",
        "import numpy as np\n",
        "from tensorflow.keras.preprocessing.image import ImageDataGenerator, img_to_array, load_img\n",
        "\n",
        "# Directories for each class\n",
        "#base_dir = 'path/to/train'\n",
        "#covid_dir = os.path.join(base_dir, 'covid')\n",
        "#normal_dir = os.path.join(base_dir, 'normal')\n",
        "#virus_dir = os.path.join(base_dir, 'virus')\n",
        "\n",
        "# Data augmentation configuration\n",
        "datagen = ImageDataGenerator(\n",
        "    rotation_range=40,\n",
        "    width_shift_range=0.2,\n",
        "    height_shift_range=0.2,\n",
        "    shear_range=0.2,\n",
        "    zoom_range=0.2,\n",
        "    horizontal_flip=True,\n",
        "    fill_mode='nearest'\n",
        ")\n",
        "\n",
        "def augment_images(directory, target_count):\n",
        "    valid_extensions = ('.png', '.jpg', '.jpeg', '.tiff', '.bmp', '.gif')\n",
        "    images = [os.path.join(directory, f) for f in os.listdir(directory) if f.lower().endswith(valid_extensions)]\n",
        "    current_count = len(images)\n",
        "    if current_count >= target_count:\n",
        "        return\n",
        "\n",
        "    i = 0\n",
        "    while len(os.listdir(directory)) < target_count:\n",
        "        img_path = images[i % current_count]\n",
        "        img = load_img(img_path)\n",
        "        x = img_to_array(img)\n",
        "        x = x.reshape((1,) + x.shape)\n",
        "        prefix = os.path.splitext(os.path.basename(img_path))[0]\n",
        "\n",
        "        for batch in datagen.flow(x, batch_size=1, save_to_dir=directory, save_prefix=prefix, save_format='png'):\n",
        "            if len(os.listdir(directory)) >= target_count:\n",
        "                break\n",
        "        i += 1\n",
        "\n",
        "# Augment the 'covid' and 'virus' directories\n",
        "augment_images(train_covid_dir, 500)\n",
        "augment_images(train_virus_dir, 500)\n",
        "augment_images(train_normal_dir, 500)\n",
        "\n"
      ],
      "metadata": {
        "id": "R492uIwzUdc-"
      },
      "execution_count": null,
      "outputs": []
    },
    {
      "cell_type": "code",
      "source": [
        "os.listdir(train_dir), len(os.listdir(train_covid_dir)), len(os.listdir(train_normal_dir)), len(os.listdir(train_virus_dir))"
      ],
      "metadata": {
        "colab": {
          "base_uri": "https://localhost:8080/"
        },
        "id": "107S2AspV5lD",
        "outputId": "d19b6a05-a71d-46d3-ce4b-9b5119b2cb01"
      },
      "execution_count": null,
      "outputs": [
        {
          "output_type": "execute_result",
          "data": {
            "text/plain": [
              "(['covid', 'normal', 'virus'], 400, 400, 400)"
            ]
          },
          "metadata": {},
          "execution_count": 8
        }
      ]
    },
    {
      "cell_type": "markdown",
      "source": [
        "# Hide"
      ],
      "metadata": {
        "id": "dtWo9Ap5LQZl"
      }
    },
    {
      "cell_type": "code",
      "execution_count": null,
      "metadata": {
        "colab": {
          "background_save": true
        },
        "id": "R89yiOOtSzo6"
      },
      "outputs": [],
      "source": [
        "from getpass import getpass\n",
        "import os\n",
        "! mkdir ~/.kaggle\n",
        "! cp kaggle.json ~/.kaggle/\n",
        "! chmod 600 ~/.kaggle/kaggle.json"
      ]
    },
    {
      "cell_type": "code",
      "execution_count": null,
      "metadata": {
        "colab": {
          "base_uri": "https://localhost:8080/"
        },
        "id": "HpFPVf09S7tB",
        "outputId": "a68e31c8-4578-4289-b902-e90750d92530"
      },
      "outputs": [
        {
          "name": "stdout",
          "output_type": "stream",
          "text": [
            "Downloading copy-of-shai-level-2-training.zip to /content\n",
            " 98% 517M/526M [00:07<00:00, 82.3MB/s]\n",
            "100% 526M/526M [00:07<00:00, 76.6MB/s]\n"
          ]
        }
      ],
      "source": [
        "!kaggle competitions download -c copy-of-shai-level-2-training"
      ]
    },
    {
      "cell_type": "code",
      "execution_count": null,
      "metadata": {
        "id": "gMk8dwVnS91P"
      },
      "outputs": [],
      "source": [
        "!chmod 777 *"
      ]
    },
    {
      "cell_type": "code",
      "execution_count": null,
      "metadata": {
        "colab": {
          "base_uri": "https://localhost:8080/"
        },
        "id": "OjxfdZ8SS_-x",
        "outputId": "a8aebd0e-7901-4cbe-93cd-6fc9a627215c"
      },
      "outputs": [
        {
          "name": "stdout",
          "output_type": "stream",
          "text": [
            "Archive:  copy-of-shai-level-2-training.zip\n",
            "  inflating: sample_submission.csv   \n",
            "  inflating: test/040263.jpeg        \n",
            "  inflating: test/0621724.jpeg       \n",
            "  inflating: test/0777738.jpeg       \n",
            "  inflating: test/10256151.jpeg      \n",
            "  inflating: test/105615245.jpeg     \n",
            "  inflating: test/10674923.jpeg      \n",
            "  inflating: test/10779808.jpeg      \n",
            "  inflating: test/109152324.jpeg     \n",
            "  inflating: test/111993936.jpeg     \n",
            "  inflating: test/11352122.jpeg      \n",
            "  inflating: test/11545830.jpeg      \n",
            "  inflating: test/117560797.jpeg     \n",
            "  inflating: test/118551363.jpeg     \n",
            "  inflating: test/119145669.jpeg     \n",
            "  inflating: test/11971304.png       \n",
            "  inflating: test/120186574.jpeg     \n",
            "  inflating: test/12119481.png       \n",
            "  inflating: test/121283966.jpeg     \n",
            "  inflating: test/123325136.jpeg     \n",
            "  inflating: test/123789527.jpeg     \n",
            "  inflating: test/126307058.jpeg     \n",
            "  inflating: test/126768317.jpg      \n",
            "  inflating: test/127126503.jpeg     \n",
            "  inflating: test/127438827.jpeg     \n",
            "  inflating: test/128826625.jpeg     \n",
            "  inflating: test/12902449.jpeg      \n",
            "  inflating: test/12926440.jpeg      \n",
            "  inflating: test/131170700.jpeg     \n",
            "  inflating: test/131226856.jpeg     \n",
            "  inflating: test/13183326.jpeg      \n",
            "  inflating: test/1322685.jpeg       \n",
            "  inflating: test/133370911.png      \n",
            "  inflating: test/13364638.jpeg      \n",
            "  inflating: test/13377048.jpeg      \n",
            "  inflating: test/134259858.jpeg     \n",
            "  inflating: test/134828663.jpeg     \n",
            "  inflating: test/135859431.jpeg     \n",
            "  inflating: test/13613269.jpg       \n",
            "  inflating: test/137206964.jpeg     \n",
            "  inflating: test/137560586.jpeg     \n",
            "  inflating: test/138353166.png      \n",
            "  inflating: test/141271976.jpeg     \n",
            "  inflating: test/141863110.jpeg     \n",
            "  inflating: test/142172796.png      \n",
            "  inflating: test/142598916.jpeg     \n",
            "  inflating: test/142631592.jpeg     \n",
            "  inflating: test/143750423.jpeg     \n",
            "  inflating: test/145123550.jpeg     \n",
            "  inflating: test/145694786.jpeg     \n",
            "  inflating: test/146248074.jpeg     \n",
            "  inflating: test/146411760.jpeg     \n",
            "  inflating: test/150151236.jpeg     \n",
            "  inflating: test/150850741.png      \n",
            "  inflating: test/151826377.jpg      \n",
            "  inflating: test/152195180.jpeg     \n",
            "  inflating: test/153703730.jpeg     \n",
            "  inflating: test/15459704.jpeg      \n",
            "  inflating: test/157446270.jpeg     \n",
            "  inflating: test/157676012.jpeg     \n",
            "  inflating: test/15925689.jpeg      \n",
            "  inflating: test/161909425.jpeg     \n",
            "  inflating: test/162701037.png      \n",
            "  inflating: test/164914182.jpeg     \n",
            "  inflating: test/165201707.jpeg     \n",
            "  inflating: test/165296841.jpeg     \n",
            "  inflating: test/166321486.jpeg     \n",
            "  inflating: test/167116054.jpeg     \n",
            "  inflating: test/168490915.jpeg     \n",
            "  inflating: test/170871224.jpeg     \n",
            "  inflating: test/170908011.jpeg     \n",
            "  inflating: test/172148048.jpeg     \n",
            "  inflating: test/173228486.jpg      \n",
            "  inflating: test/175254813.jpg      \n",
            "  inflating: test/17695837.jpeg      \n",
            "  inflating: test/177974648.png      \n",
            "  inflating: test/178326245.jpeg     \n",
            "  inflating: test/178434487.jpeg     \n",
            "  inflating: test/180520918.jpeg     \n",
            "  inflating: test/181426145.jpg      \n",
            "  inflating: test/183916797.jpg      \n",
            "  inflating: test/184355935.jpeg     \n",
            "  inflating: test/184910011.jpeg     \n",
            "  inflating: test/186920821.jpeg     \n",
            "  inflating: test/187692863.jpeg     \n",
            "  inflating: test/188238579.png      \n",
            "  inflating: test/188560746.jpeg     \n",
            "  inflating: test/189482539.jpeg     \n",
            "  inflating: test/190396416.jpeg     \n",
            "  inflating: test/191651465.jpeg     \n",
            "  inflating: test/192301058.jpeg     \n",
            "  inflating: test/1931523.jpeg       \n",
            "  inflating: test/193578364.jpeg     \n",
            "  inflating: test/195769535.jpeg     \n",
            "  inflating: test/19754880.jpeg      \n",
            "  inflating: test/197841286.jpeg     \n",
            "  inflating: test/199421490.jpeg     \n",
            "  inflating: test/200701465.jpeg     \n",
            "  inflating: test/20231059.jpeg      \n",
            "  inflating: test/20250657.jpeg      \n",
            "  inflating: test/202846859.jpeg     \n",
            "  inflating: test/20328626.jpeg      \n",
            "  inflating: test/204851638.jpeg     \n",
            "  inflating: test/206220152.jpeg     \n",
            "  inflating: test/206243325.jpeg     \n",
            "  inflating: test/207847164.jpeg     \n",
            "  inflating: test/208891523.jpeg     \n",
            "  inflating: test/210522155.png      \n",
            "  inflating: test/21235419.jpeg      \n",
            "  inflating: test/212734249.jpeg     \n",
            "  inflating: test/213538292.jpg      \n",
            "  inflating: test/213807718.jpeg     \n",
            "  inflating: test/21446397.jpeg      \n",
            "  inflating: test/214735856.jpeg     \n",
            "  inflating: test/216319301.jpeg     \n",
            "  inflating: test/216643732.jpg      \n",
            "  inflating: test/217279968.jpeg     \n",
            "  inflating: test/217847889.jpeg     \n",
            "  inflating: test/217910082.png      \n",
            "  inflating: test/218480838.jpeg     \n",
            "  inflating: test/218954275.jpeg     \n",
            "  inflating: test/219535494.jpeg     \n",
            "  inflating: test/220224391.jpeg     \n",
            "  inflating: test/220786852.jpeg     \n",
            "  inflating: test/22181107.jpeg      \n",
            "  inflating: test/223463051.jpeg     \n",
            "  inflating: test/223507116.jpeg     \n",
            "  inflating: test/225208802.jpeg     \n",
            "  inflating: test/227636205.png      \n",
            "  inflating: test/228480734.jpeg     \n",
            "  inflating: test/231190514.png      \n",
            "  inflating: test/232629532.jpeg     \n",
            "  inflating: test/232935803.png      \n",
            "  inflating: test/233528008.jpeg     \n",
            "  inflating: test/234361463.jpeg     \n",
            "  inflating: test/234915339.png      \n",
            "  inflating: test/237487502.jpeg     \n",
            "  inflating: test/238229127.jpeg     \n",
            "  inflating: test/23956073.jpeg      \n",
            "  inflating: test/239660643.jpeg     \n",
            "  inflating: test/241443184.jpeg     \n",
            "  inflating: test/241456276.jpeg     \n",
            "  inflating: test/24169231.jpeg      \n",
            "  inflating: test/243750791.jpeg     \n",
            "  inflating: test/245277831.jpeg     \n",
            "  inflating: test/245308217.jpeg     \n",
            "  inflating: test/24606019.png       \n",
            "  inflating: test/247808038.png      \n",
            "  inflating: test/248879727.jpeg     \n",
            "  inflating: test/248891473.jpeg     \n",
            "  inflating: test/249667729.jpeg     \n",
            "  inflating: test/25177694.png       \n",
            "  inflating: test/252742491.jpeg     \n",
            "  inflating: test/253643500.jpeg     \n",
            "  inflating: test/254216862.jpeg     \n",
            "  inflating: test/254240462.png      \n",
            "  inflating: test/256199202.png      \n",
            "  inflating: test/256499192.jpeg     \n",
            "  inflating: test/25696247.jpeg      \n",
            "  inflating: test/25827110.png       \n",
            "  inflating: test/258346825.jpeg     \n",
            "  inflating: test/258437347.jpeg     \n",
            "  inflating: test/259403752.png      \n",
            "  inflating: test/259719616.jpeg     \n",
            "  inflating: test/261661816.png      \n",
            "  inflating: test/263695595.jpeg     \n",
            "  inflating: test/263744.png         \n",
            "  inflating: test/265265103.png      \n",
            "  inflating: test/265641647.jpeg     \n",
            "  inflating: test/265759154.jpeg     \n",
            "  inflating: test/266287682.jpeg     \n",
            "  inflating: test/266831585.jpeg     \n",
            "  inflating: test/267373811.jpeg     \n",
            "  inflating: test/267401811.png      \n",
            "  inflating: test/267458848.jpeg     \n",
            "  inflating: test/27262248.png       \n",
            "  inflating: test/27398384.png       \n",
            "  inflating: test/274884740.jpeg     \n",
            "  inflating: test/27496082.png       \n",
            "  inflating: test/275552818.jpeg     \n",
            "  inflating: test/276674679.png      \n",
            "  inflating: test/276793173.jpeg     \n",
            "  inflating: test/278495997.jpeg     \n",
            "  inflating: test/278985403.jpeg     \n",
            "  inflating: test/27913684.jpeg      \n",
            "  inflating: test/280169118.jpeg     \n",
            "  inflating: test/280574781.png      \n",
            "  inflating: test/281676134.png      \n",
            "  inflating: test/28281205.png       \n",
            "  inflating: test/283820556.jpeg     \n",
            "  inflating: test/283957062.jpeg     \n",
            "  inflating: test/28491606.jpeg      \n",
            "  inflating: test/2852089.jpeg       \n",
            "  inflating: test/286885621.png      \n",
            "  inflating: test/28811898.png       \n",
            "  inflating: test/28958890.png       \n",
            "  inflating: test/29056110.jpeg      \n",
            "  inflating: test/29162480.jpeg      \n",
            "  inflating: test/295744140.jpeg     \n",
            "  inflating: test/296910194.jpeg     \n",
            "  inflating: test/297495843.jpeg     \n",
            "  inflating: test/297565150.jpeg     \n",
            "  inflating: test/298277022.jpeg     \n",
            "  inflating: test/298911892.jpeg     \n",
            "  inflating: test/299855035.jpeg     \n",
            "  inflating: test/300238840.jpeg     \n",
            "  inflating: test/30280208.jpeg      \n",
            "  inflating: test/303320510.jpeg     \n",
            "  inflating: test/303608822.jpeg     \n",
            "  inflating: test/304792154.png      \n",
            "  inflating: test/305260970.jpeg     \n",
            "  inflating: test/305864554.jpeg     \n",
            "  inflating: test/306769545.jpeg     \n",
            "  inflating: test/311673358.jpeg     \n",
            "  inflating: test/31245998.jpeg      \n",
            "  inflating: test/31335817.jpeg      \n",
            "  inflating: test/314149497.jpeg     \n",
            "  inflating: test/314240047.jpeg     \n",
            "  inflating: test/316342938.jpeg     \n",
            "  inflating: test/316508403.jpeg     \n",
            "  inflating: test/317139474.png      \n",
            "  inflating: test/317329362.jpeg     \n",
            "  inflating: test/318102610.jpeg     \n",
            "  inflating: test/31816837.jpeg      \n",
            "  inflating: test/3184319.jpeg       \n",
            "  inflating: test/318565035.png      \n",
            "  inflating: test/31982727.jpg       \n",
            "  inflating: test/320325698.jpeg     \n",
            "  inflating: test/321291140.jpeg     \n",
            "  inflating: test/321419986.jpeg     \n",
            "  inflating: test/323439096.jpeg     \n",
            "  inflating: test/324158890.jpeg     \n",
            "  inflating: test/324711741.png      \n",
            "  inflating: test/325218220.jpeg     \n",
            "  inflating: test/329970013.png      \n",
            "  inflating: test/330450663.jpeg     \n",
            "  inflating: test/330809672.png      \n",
            "  inflating: test/330911987.jpeg     \n",
            "  inflating: test/331465724.jpeg     \n",
            "  inflating: test/33364229.jpeg      \n",
            "  inflating: test/335307954.png      \n",
            "  inflating: test/33585313.jpeg      \n",
            "  inflating: test/337385832.jpg      \n",
            "  inflating: test/337563339.jpeg     \n",
            "  inflating: test/338570962.jpeg     \n",
            "  inflating: test/338662439.png      \n",
            "  inflating: test/338755300.jpeg     \n",
            "  inflating: test/339892877.png      \n",
            "  inflating: test/34277220.png       \n",
            "  inflating: test/344993646.jpeg     \n",
            "  inflating: test/345599199.jpeg     \n",
            "  inflating: test/345786684.png      \n",
            "  inflating: test/346129838.jpeg     \n",
            "  inflating: test/347124305.jpeg     \n",
            "  inflating: test/347515523.jpeg     \n",
            "  inflating: test/34756369.jpeg      \n",
            "  inflating: test/348198115.jpeg     \n",
            "  inflating: test/348297584.png      \n",
            "  inflating: test/350603018.png      \n",
            "  inflating: test/35340617.jpeg      \n",
            "  inflating: test/353440531.jpeg     \n",
            "  inflating: test/354452279.jpeg     \n",
            "  inflating: test/35497500.jpeg      \n",
            "  inflating: test/355872211.jpeg     \n",
            "  inflating: test/355878790.png      \n",
            "  inflating: test/356565805.jpeg     \n",
            "  inflating: test/356572766.jpeg     \n",
            "  inflating: test/35659196.jpeg      \n",
            "  inflating: test/358492427.png      \n",
            "  inflating: test/358657359.jpeg     \n",
            "  inflating: test/360747863.png      \n",
            "  inflating: test/361595203.jpeg     \n",
            "  inflating: test/361777242.jpeg     \n",
            "  inflating: test/36198751.png       \n",
            "  inflating: test/362472295.jpeg     \n",
            "  inflating: test/36265997.jpeg      \n",
            "  inflating: test/363549817.jpeg     \n",
            "  inflating: test/369980488.jpeg     \n",
            "  inflating: test/371819452.jpeg     \n",
            "  inflating: test/372308713.jpg      \n",
            "  inflating: test/372851859.jpeg     \n",
            "  inflating: test/373908730.png      \n",
            "  inflating: test/377156045.jpeg     \n",
            "  inflating: test/378618615.jpeg     \n",
            "  inflating: test/380348883.jpeg     \n",
            "  inflating: test/38137826.png       \n",
            "  inflating: test/382746854.jpeg     \n",
            "  inflating: test/383379112.jpeg     \n",
            "  inflating: test/383729087.jpeg     \n",
            "  inflating: test/387237118.jpeg     \n",
            "  inflating: test/387926609.png      \n",
            "  inflating: test/388300695.jpeg     \n",
            "  inflating: test/389173173.jpeg     \n",
            "  inflating: test/389746075.jpeg     \n",
            "  inflating: test/390195011.png      \n",
            "  inflating: test/39114540.png       \n",
            "  inflating: test/391203177.jpeg     \n",
            "  inflating: test/391687124.jpeg     \n",
            "  inflating: test/39180429.jpeg      \n",
            "  inflating: test/392835007.jpeg     \n",
            "  inflating: test/394671235.jpeg     \n",
            "  inflating: test/3957269.jpeg       \n",
            "  inflating: test/397793764.jpeg     \n",
            "  inflating: test/399455019.png      \n",
            "  inflating: test/399638405.jpeg     \n",
            "  inflating: test/400106806.jpeg     \n",
            "  inflating: test/400335390.jpg      \n",
            "  inflating: test/401680512.png      \n",
            "  inflating: test/402124007.png      \n",
            "  inflating: test/402726370.jpeg     \n",
            "  inflating: test/403445760.png      \n",
            "  inflating: test/403505222.jpeg     \n",
            "  inflating: test/403802041.jpeg     \n",
            "  inflating: test/404642494.jpeg     \n",
            "  inflating: test/40490777.png       \n",
            "  inflating: test/40498341.jpeg      \n",
            "  inflating: test/405533772.jpeg     \n",
            "  inflating: test/408906883.jpeg     \n",
            "  inflating: test/410633368.jpeg     \n",
            "  inflating: test/411739756.jpeg     \n",
            "  inflating: test/412412092.jpeg     \n",
            "  inflating: test/415358811.png      \n",
            "  inflating: test/415475589.jpeg     \n",
            "  inflating: test/4178595.jpeg       \n",
            "  inflating: test/418736286.jpeg     \n",
            "  inflating: test/418853001.jpeg     \n",
            "  inflating: test/419574502.jpeg     \n",
            "  inflating: test/421339146.jpeg     \n",
            "  inflating: test/424325341.jpeg     \n",
            "  inflating: test/425716630.jpeg     \n",
            "  inflating: test/427694033.jpeg     \n",
            "  inflating: test/429372075.jpeg     \n",
            "  inflating: test/42964877.jpeg      \n",
            "  inflating: test/4306069.png        \n",
            "  inflating: test/432242332.jpeg     \n",
            "  inflating: test/432494359.jpeg     \n",
            "  inflating: test/434790533.jpeg     \n",
            "  inflating: test/435710827.jpeg     \n",
            "  inflating: test/436763848.jpeg     \n",
            "  inflating: test/437370360.jpeg     \n",
            "  inflating: test/43785618.jpeg      \n",
            "  inflating: test/441272704.jpeg     \n",
            "  inflating: test/443512885.jpeg     \n",
            "  inflating: test/44634273.png       \n",
            "  inflating: test/44783272.jpeg      \n",
            "  inflating: test/448834992.jpeg     \n",
            "  inflating: test/449314144.jpeg     \n",
            "  inflating: test/450384971.jpeg     \n",
            "  inflating: test/452425330.jpeg     \n",
            "  inflating: test/453701956.jpeg     \n",
            "  inflating: test/454167484.jpeg     \n",
            "  inflating: test/454684198.jpeg     \n",
            "  inflating: test/456942595.jpeg     \n",
            "  inflating: test/45822710.jpeg      \n",
            "  inflating: test/459169794.jpeg     \n",
            "  inflating: test/460268228.jpeg     \n",
            "  inflating: test/460439802.jpeg     \n",
            "  inflating: test/461323699.jpeg     \n",
            "  inflating: test/46254727.jpeg      \n",
            "  inflating: test/4639440.jpeg       \n",
            "  inflating: test/464770257.jpeg     \n",
            "  inflating: test/469951591.jpeg     \n",
            "  inflating: test/472806412.jpeg     \n",
            "  inflating: test/473339607.jpeg     \n",
            "  inflating: test/475421420.jpeg     \n",
            "  inflating: test/476221590.jpeg     \n",
            "  inflating: test/4767455.jpeg       \n",
            "  inflating: test/477881588.jpeg     \n",
            "  inflating: test/479501637.jpeg     \n",
            "  inflating: test/481520573.jpeg     \n",
            "  inflating: test/483675909.jpeg     \n",
            "  inflating: test/48491979.png       \n",
            "  inflating: test/485553871.jpeg     \n",
            "  inflating: test/485975601.jpeg     \n",
            "  inflating: test/486664429.jpeg     \n",
            "  inflating: test/48855.jpeg         \n",
            "  inflating: test/489872343.jpeg     \n",
            "  inflating: test/491589162.jpeg     \n",
            "  inflating: test/493429115.jpeg     \n",
            "  inflating: test/49562187.jpeg      \n",
            "  inflating: test/497349813.jpeg     \n",
            "  inflating: test/499172213.jpeg     \n",
            "  inflating: test/49980939.jpeg      \n",
            "  inflating: test/5001566.jpeg       \n",
            "  inflating: test/50119848.png       \n",
            "  inflating: test/502889396.jpeg     \n",
            "  inflating: test/503509928.jpeg     \n",
            "  inflating: test/503951856.jpeg     \n",
            "  inflating: test/505272635.jpeg     \n",
            "  inflating: test/505897954.jpeg     \n",
            "  inflating: test/508651377.jpeg     \n",
            "  inflating: test/509307627.jpeg     \n",
            "  inflating: test/510641086.jpeg     \n",
            "  inflating: test/513948076.jpeg     \n",
            "  inflating: test/514567016.jpeg     \n",
            "  inflating: test/516497716.jpeg     \n",
            "  inflating: test/517209766.jpeg     \n",
            "  inflating: test/519426587.jpeg     \n",
            "  inflating: test/522980292.jpeg     \n",
            "  inflating: test/523833667.jpeg     \n",
            "  inflating: test/524149427.jpeg     \n",
            "  inflating: test/5264695.jpeg       \n",
            "  inflating: test/52786186.jpeg      \n",
            "  inflating: test/528603085.jpeg     \n",
            "  inflating: test/529200250.jpeg     \n",
            "  inflating: test/53110770.png       \n",
            "  inflating: test/534696584.jpeg     \n",
            "  inflating: test/539342539.jpeg     \n",
            "  inflating: test/540446246.jpeg     \n",
            "  inflating: test/54297332.png       \n",
            "  inflating: test/543591260.jpeg     \n",
            "  inflating: test/544341964.jpeg     \n",
            "  inflating: test/545163486.jpeg     \n",
            "  inflating: test/545726869.jpeg     \n",
            "  inflating: test/546442205.jpeg     \n",
            "  inflating: test/547652789.jpeg     \n",
            "  inflating: test/548977352.jpeg     \n",
            "  inflating: test/549474924.jpeg     \n",
            "  inflating: test/550335188.jpeg     \n",
            "  inflating: test/556169557.jpeg     \n",
            "  inflating: test/55692882.jpeg      \n",
            "  inflating: test/559265080.jpeg     \n",
            "  inflating: test/56323113.jpeg      \n",
            "  inflating: test/56376386.jpeg      \n",
            "  inflating: test/56469471.png       \n",
            "  inflating: test/565263164.jpeg     \n",
            "  inflating: test/56565364.jpeg      \n",
            "  inflating: test/566320558.jpeg     \n",
            "  inflating: test/570889527.jpeg     \n",
            "  inflating: test/571344100.jpeg     \n",
            "  inflating: test/5729753.jpeg       \n",
            "  inflating: test/574561062.jpeg     \n",
            "  inflating: test/577595239.jpeg     \n",
            "  inflating: test/578242651.jpeg     \n",
            "  inflating: test/578727723.jpeg     \n",
            "  inflating: test/57990163.jpeg      \n",
            "  inflating: test/583427008.jpeg     \n",
            "  inflating: test/58413695.jpeg      \n",
            "  inflating: test/58816551.png       \n",
            "  inflating: test/588632762.jpeg     \n",
            "  inflating: test/589520714.jpeg     \n",
            "  inflating: test/589986019.jpeg     \n",
            "  inflating: test/592583429.jpeg     \n",
            "  inflating: test/593187813.jpeg     \n",
            "  inflating: test/594564534.jpeg     \n",
            "  inflating: test/595623846.jpeg     \n",
            "  inflating: test/596521405.jpeg     \n",
            "  inflating: test/59690127.jpeg      \n",
            "  inflating: test/597582870.jpeg     \n",
            "  inflating: test/599572133.jpeg     \n",
            "  inflating: test/59987863.jpeg      \n",
            "  inflating: test/600954277.jpeg     \n",
            "  inflating: test/602547314.jpeg     \n",
            "  inflating: test/604279745.jpeg     \n",
            "  inflating: test/60612654.jpeg      \n",
            "  inflating: test/606979621.jpeg     \n",
            "  inflating: test/611114062.jpeg     \n",
            "  inflating: test/613365215.jpeg     \n",
            "  inflating: test/616647598.jpeg     \n",
            "  inflating: test/61902906.jpeg      \n",
            "  inflating: test/619357221.jpeg     \n",
            "  inflating: test/621283143.jpeg     \n",
            "  inflating: test/628566704.jpeg     \n",
            "  inflating: test/636702294.jpeg     \n",
            "  inflating: test/643791781.jpeg     \n",
            "  inflating: test/645545738.jpeg     \n",
            "  inflating: test/647696171.jpeg     \n",
            "  inflating: test/651180519.jpeg     \n",
            "  inflating: test/655137057.jpeg     \n",
            "  inflating: test/65593865.jpg       \n",
            "  inflating: test/65787464.jpeg      \n",
            "  inflating: test/659332262.jpeg     \n",
            "  inflating: test/660358312.jpeg     \n",
            "  inflating: test/663290082.jpeg     \n",
            "  inflating: test/664463265.jpeg     \n",
            "  inflating: test/66640991.jpeg      \n",
            "  inflating: test/68141781.jpg       \n",
            "  inflating: test/68280029.jpeg      \n",
            "  inflating: test/69490724.jpeg      \n",
            "  inflating: test/6963610.jpeg       \n",
            "  inflating: test/70795821.png       \n",
            "  inflating: test/70836631.jpeg      \n",
            "  inflating: test/71243231.jpeg      \n",
            "  inflating: test/71489582.jpeg      \n",
            "  inflating: test/71537910.jpeg      \n",
            "  inflating: test/7232029.jpeg       \n",
            "  inflating: test/73630565.jpeg      \n",
            "  inflating: test/74225174.jpeg      \n",
            "  inflating: test/75955923.jpeg      \n",
            "  inflating: test/77747066.png       \n",
            "  inflating: test/77787664.jpeg      \n",
            "  inflating: test/7872088.jpeg       \n",
            "  inflating: test/80920235.jpeg      \n",
            "  inflating: test/8142540.jpeg       \n",
            "  inflating: test/81475516.jpeg      \n",
            "  inflating: test/82424924.jpeg      \n",
            "  inflating: test/83282773.jpg       \n",
            "  inflating: test/837711.jpeg        \n",
            "  inflating: test/84699018.jpeg      \n",
            "  inflating: test/8559162.jpeg       \n",
            "  inflating: test/86575122.png       \n",
            "  inflating: test/87956925.jpeg      \n",
            "  inflating: test/87957497.jpeg      \n",
            "  inflating: test/88251828.png       \n",
            "  inflating: test/88620578.jpeg      \n",
            "  inflating: test/89564400.jpeg      \n",
            "  inflating: test/91476830.jpeg      \n",
            "  inflating: test/91847150.jpeg      \n",
            "  inflating: test/92690536.jpeg      \n",
            "  inflating: test/93490032.jpg       \n",
            "  inflating: test/93559118.jpeg      \n",
            "  inflating: test/98633775.jpeg      \n",
            "  inflating: test/98777712.jpeg      \n",
            "  inflating: test/9947263.jpeg       \n",
            "  inflating: train.csv               \n",
            "  inflating: train/covid/100126173.png  \n",
            "  inflating: train/covid/101418710.jpg  \n",
            "  inflating: train/covid/10217856.png  \n",
            "  inflating: train/covid/102244181.jpeg  \n",
            "  inflating: train/covid/103445962.jpeg  \n",
            "  inflating: train/covid/104801348.jpeg  \n",
            "  inflating: train/covid/105435866.jpg  \n",
            "  inflating: train/covid/106531287.png  \n",
            "  inflating: train/covid/108711238.jpeg  \n",
            "  inflating: train/covid/11059951.png  \n",
            "  inflating: train/covid/111313983.png  \n",
            "  inflating: train/covid/112170361.jpeg  \n",
            "  inflating: train/covid/113381928.png  \n",
            "  inflating: train/covid/114316671.jpeg  \n",
            "  inflating: train/covid/115415399.png  \n",
            "  inflating: train/covid/116257521.jpeg  \n",
            "  inflating: train/covid/1163101.png  \n",
            "  inflating: train/covid/117705762.jpeg  \n",
            "  inflating: train/covid/118263797.jpg  \n",
            "  inflating: train/covid/119467573.jpeg  \n",
            "  inflating: train/covid/120305668.jpg  \n",
            "  inflating: train/covid/121544623.jpeg  \n",
            "  inflating: train/covid/122621261.png  \n",
            "  inflating: train/covid/124503416.jpeg  \n",
            "  inflating: train/covid/125678401.png  \n",
            "  inflating: train/covid/128806879.jpg  \n",
            "  inflating: train/covid/129492200.jpg  \n",
            "  inflating: train/covid/130772883.png  \n",
            "  inflating: train/covid/132238463.jpeg  \n",
            "  inflating: train/covid/135813462.jpg  \n",
            "  inflating: train/covid/13985560.png  \n",
            "  inflating: train/covid/139959675.jpeg  \n",
            "  inflating: train/covid/140679403.jpeg  \n",
            "  inflating: train/covid/14290647.png  \n",
            "  inflating: train/covid/144568354.jpeg  \n",
            "  inflating: train/covid/145773243.jpg  \n",
            "  inflating: train/covid/147287905.jpg  \n",
            "  inflating: train/covid/148596722.jpg  \n",
            "  inflating: train/covid/149267707.jpg  \n",
            "  inflating: train/covid/152796509.jpg  \n",
            "  inflating: train/covid/153694761.jpeg  \n",
            "  inflating: train/covid/154210583.jpeg  \n",
            "  inflating: train/covid/155808512.png  \n",
            "  inflating: train/covid/156782146.jpg  \n",
            "  inflating: train/covid/15722646.jpeg  \n",
            "  inflating: train/covid/158980396.jpeg  \n",
            "  inflating: train/covid/159658412.jpeg  \n",
            "  inflating: train/covid/160178172.jpeg  \n",
            "  inflating: train/covid/163305230.jpg  \n",
            "  inflating: train/covid/165972827.jpg  \n",
            "  inflating: train/covid/16600404.png  \n",
            "  inflating: train/covid/166938971.png  \n",
            "  inflating: train/covid/167297045.jpg  \n",
            "  inflating: train/covid/168223836.jpg  \n",
            "  inflating: train/covid/169600350.jpg  \n",
            "  inflating: train/covid/17097390.jpg  \n",
            "  inflating: train/covid/171751014.jpg  \n",
            "  inflating: train/covid/172718552.jpg  \n",
            "  inflating: train/covid/174118572.png  \n",
            "  inflating: train/covid/17557165.png  \n",
            "  inflating: train/covid/179832287.jpg  \n",
            "  inflating: train/covid/180541085.jpg  \n",
            "  inflating: train/covid/18224711.png  \n",
            "  inflating: train/covid/182883424.jpeg  \n",
            "  inflating: train/covid/185655165.jpeg  \n",
            "  inflating: train/covid/186280870.png  \n",
            "  inflating: train/covid/189564869.jpeg  \n",
            "  inflating: train/covid/190804375.jpeg  \n",
            "  inflating: train/covid/191714037.jpeg  \n",
            "  inflating: train/covid/19172737.jpg  \n",
            "  inflating: train/covid/192829942.jpeg  \n",
            "  inflating: train/covid/194223468.png  \n",
            "  inflating: train/covid/195907905.jpg  \n",
            "  inflating: train/covid/196508505.jpeg  \n",
            "  inflating: train/covid/197109078.jpeg  \n",
            "  inflating: train/covid/198530531.png  \n",
            "  inflating: train/covid/199708390.png  \n",
            "  inflating: train/covid/200886896.jpeg  \n",
            "  inflating: train/covid/20112616.png  \n",
            "  inflating: train/covid/201496438.jpeg  \n",
            "  inflating: train/covid/203600462.jpeg  \n",
            "  inflating: train/covid/20570183.jpeg  \n",
            "  inflating: train/covid/207807826.jpeg  \n",
            "  inflating: train/covid/209501675.jpg  \n",
            "  inflating: train/covid/211807895.png  \n",
            "  inflating: train/covid/212428355.jpg  \n",
            "  inflating: train/covid/21271579.png  \n",
            "  inflating: train/covid/215330205.jpg  \n",
            "  inflating: train/covid/218717860.jpg  \n",
            "  inflating: train/covid/219114319.png  \n",
            "  inflating: train/covid/220428998.png  \n",
            "  inflating: train/covid/221929290.png  \n",
            "  inflating: train/covid/222155701.png  \n",
            "  inflating: train/covid/22320332.png  \n",
            "  inflating: train/covid/223883782.jpeg  \n",
            "  inflating: train/covid/2244621.png  \n",
            "  inflating: train/covid/224682364.jpeg  \n",
            "  inflating: train/covid/225228102.png  \n",
            "  inflating: train/covid/226783858.png  \n",
            "  inflating: train/covid/228729822.png  \n",
            "  inflating: train/covid/229874392.png  \n",
            "  inflating: train/covid/230176345.png  \n",
            "  inflating: train/covid/23366533.jpeg  \n",
            "  inflating: train/covid/233830071.png  \n",
            "  inflating: train/covid/235481514.png  \n",
            "  inflating: train/covid/236664162.png  \n",
            "  inflating: train/covid/237798656.jpeg  \n",
            "  inflating: train/covid/238619602.png  \n",
            "  inflating: train/covid/239310545.png  \n",
            "  inflating: train/covid/240716046.png  \n",
            "  inflating: train/covid/2414990.png  \n",
            "  inflating: train/covid/242249048.png  \n",
            "  inflating: train/covid/243363504.png  \n",
            "  inflating: train/covid/244853268.png  \n",
            "  inflating: train/covid/245156080.png  \n",
            "  inflating: train/covid/24675237.png  \n",
            "  inflating: train/covid/24830334.png  \n",
            "  inflating: train/covid/249509732.png  \n",
            "  inflating: train/covid/250733697.jpeg  \n",
            "  inflating: train/covid/252372582.png  \n",
            "  inflating: train/covid/25383127.png  \n",
            "  inflating: train/covid/255828930.png  \n",
            "  inflating: train/covid/25681087.png  \n",
            "  inflating: train/covid/257192682.png  \n",
            "  inflating: train/covid/260134682.png  \n",
            "  inflating: train/covid/262551737.png  \n",
            "  inflating: train/covid/263678270.png  \n",
            "  inflating: train/covid/264600464.jpeg  \n",
            "  inflating: train/covid/266474042.png  \n",
            "  inflating: train/covid/268677789.png  \n",
            "  inflating: train/covid/269147384.png  \n",
            "  inflating: train/covid/270939248.png  \n",
            "  inflating: train/covid/271227309.png  \n",
            "  inflating: train/covid/274437699.png  \n",
            "  inflating: train/covid/275604710.png  \n",
            "  inflating: train/covid/27796834.png  \n",
            "  inflating: train/covid/278413333.jpeg  \n",
            "  inflating: train/covid/279652041.png  \n",
            "  inflating: train/covid/283764516.png  \n",
            "  inflating: train/covid/284474840.png  \n",
            "  inflating: train/covid/285865729.png  \n",
            "  inflating: train/covid/287763587.png  \n",
            "  inflating: train/covid/288669390.png  \n",
            "  inflating: train/covid/290757431.png  \n",
            "  inflating: train/covid/291210215.jpg  \n",
            "  inflating: train/covid/292243594.png  \n",
            "  inflating: train/covid/293306551.png  \n",
            "  inflating: train/covid/294977180.jpeg  \n",
            "  inflating: train/covid/295563779.png  \n",
            "  inflating: train/covid/296918614.jpeg  \n",
            "  inflating: train/covid/297542132.png  \n",
            "  inflating: train/covid/29871690.png  \n",
            "  inflating: train/covid/29945801.png  \n",
            "  inflating: train/covid/300790065.png  \n",
            "  inflating: train/covid/301629308.png  \n",
            "  inflating: train/covid/302628454.png  \n",
            "  inflating: train/covid/30385090.png  \n",
            "  inflating: train/covid/305115971.jpg  \n",
            "  inflating: train/covid/3051245.png  \n",
            "  inflating: train/covid/306255364.png  \n",
            "  inflating: train/covid/307239607.png  \n",
            "  inflating: train/covid/308711854.jpg  \n",
            "  inflating: train/covid/309808640.png  \n",
            "  inflating: train/covid/310221147.jpg  \n",
            "  inflating: train/covid/311578792.png  \n",
            "  inflating: train/covid/312624826.png  \n",
            "  inflating: train/covid/313119275.png  \n",
            "  inflating: train/covid/314636997.png  \n",
            "  inflating: train/covid/315145689.png  \n",
            "  inflating: train/covid/316614859.png  \n",
            "  inflating: train/covid/31697411.png  \n",
            "  inflating: train/covid/3202980.png  \n",
            "  inflating: train/covid/320678674.png  \n",
            "  inflating: train/covid/32116758.jpg  \n",
            "  inflating: train/covid/321275673.jpg  \n",
            "  inflating: train/covid/322516175.jpeg  \n",
            "  inflating: train/covid/323231619.png  \n",
            "  inflating: train/covid/325929263.png  \n",
            "  inflating: train/covid/326455939.png  \n",
            "  inflating: train/covid/327410620.png  \n",
            "  inflating: train/covid/328125223.png  \n",
            "  inflating: train/covid/33140042.png  \n",
            "  inflating: train/covid/33242214.png  \n",
            "  inflating: train/covid/333397187.png  \n",
            "  inflating: train/covid/334545678.png  \n",
            "  inflating: train/covid/3364829.png  \n",
            "  inflating: train/covid/336490533.jpeg  \n",
            "  inflating: train/covid/340155802.png  \n",
            "  inflating: train/covid/341284081.png  \n",
            "  inflating: train/covid/343425288.png  \n",
            "  inflating: train/covid/344784178.jpeg  \n",
            "  inflating: train/covid/3462366.png  \n",
            "  inflating: train/covid/346959741.png  \n",
            "  inflating: train/covid/347453825.png  \n",
            "  inflating: train/covid/349464963.jpeg  \n",
            "  inflating: train/covid/351429811.jpg  \n",
            "  inflating: train/covid/352528013.png  \n",
            "  inflating: train/covid/353806796.png  \n",
            "  inflating: train/covid/354315602.png  \n",
            "  inflating: train/covid/35484952.png  \n",
            "  inflating: train/covid/356874510.png  \n",
            "  inflating: train/covid/357355645.png  \n",
            "  inflating: train/covid/359657692.png  \n",
            "  inflating: train/covid/363710291.png  \n",
            "  inflating: train/covid/364402237.png  \n",
            "  inflating: train/covid/365585967.png  \n",
            "  inflating: train/covid/366899638.png  \n",
            "  inflating: train/covid/36701418.png  \n",
            "  inflating: train/covid/367974345.png  \n",
            "  inflating: train/covid/368584466.png  \n",
            "  inflating: train/covid/369116969.jpg  \n",
            "  inflating: train/covid/370712146.png  \n",
            "  inflating: train/covid/371327704.png  \n",
            "  inflating: train/covid/37170601.jpeg  \n",
            "  inflating: train/covid/374467762.png  \n",
            "  inflating: train/covid/375463.png  \n",
            "  inflating: train/covid/376587899.png  \n",
            "  inflating: train/covid/377404212.png  \n",
            "  inflating: train/covid/378306119.png  \n",
            "  inflating: train/covid/379818092.png  \n",
            "  inflating: train/covid/380174576.png  \n",
            "  inflating: train/covid/381102275.png  \n",
            "  inflating: train/covid/382526752.png  \n",
            "  inflating: train/covid/384572243.png  \n",
            "  inflating: train/covid/385833720.png  \n",
            "  inflating: train/covid/386458612.png  \n",
            "  inflating: train/covid/389168324.png  \n",
            "  inflating: train/covid/391819027.png  \n",
            "  inflating: train/covid/392981044.png  \n",
            "  inflating: train/covid/393560646.png  \n",
            "  inflating: train/covid/394862054.png  \n",
            "  inflating: train/covid/395684182.png  \n",
            "  inflating: train/covid/3967257.png  \n",
            "  inflating: train/covid/397465047.png  \n",
            "  inflating: train/covid/398104957.png  \n",
            "  inflating: train/covid/405102200.png  \n",
            "  inflating: train/covid/406270137.png  \n",
            "  inflating: train/covid/407426336.png  \n",
            "  inflating: train/covid/4079998.png  \n",
            "  inflating: train/covid/408134431.png  \n",
            "  inflating: train/covid/409203260.png  \n",
            "  inflating: train/covid/410433243.png  \n",
            "  inflating: train/covid/411190304.png  \n",
            "  inflating: train/covid/412820883.png  \n",
            "  inflating: train/covid/413229417.png  \n",
            "  inflating: train/covid/41444569.jpeg  \n",
            "  inflating: train/covid/415267.png  \n",
            "  inflating: train/covid/416988360.png  \n",
            "  inflating: train/covid/417396210.png  \n",
            "  inflating: train/covid/418795545.png  \n",
            "  inflating: train/covid/419784700.png  \n",
            "  inflating: train/covid/420914884.png  \n",
            "  inflating: train/covid/421167762.jpg  \n",
            "  inflating: train/covid/42853602.png  \n",
            "  inflating: train/covid/43345712.png  \n",
            "  inflating: train/covid/45839276.png  \n",
            "  inflating: train/covid/46682759.jpg  \n",
            "  inflating: train/covid/47388101.png  \n",
            "  inflating: train/covid/4967462.png  \n",
            "  inflating: train/covid/51435315.jpeg  \n",
            "  inflating: train/covid/52683102.jpg  \n",
            "  inflating: train/covid/5355949.png  \n",
            "  inflating: train/covid/55787089.png  \n",
            "  inflating: train/covid/57983890.png  \n",
            "  inflating: train/covid/5949963.jpg  \n",
            "  inflating: train/covid/61352045.jpeg  \n",
            "  inflating: train/covid/62982781.jpg  \n",
            "  inflating: train/covid/63852806.png  \n",
            "  inflating: train/covid/64226069.jpg  \n",
            "  inflating: train/covid/6618454.png  \n",
            "  inflating: train/covid/66780799.png  \n",
            "  inflating: train/covid/67280087.png  \n",
            "  inflating: train/covid/69652139.jpeg  \n",
            "  inflating: train/covid/73311188.jpg  \n",
            "  inflating: train/covid/75936450.png  \n",
            "  inflating: train/covid/76101006.png  \n",
            "  inflating: train/covid/7838835.jpeg  \n",
            "  inflating: train/covid/78701506.jpeg  \n",
            "  inflating: train/covid/79942708.jpeg  \n",
            "  inflating: train/covid/80956430.jpg  \n",
            "  inflating: train/covid/81729243.jpg  \n",
            "  inflating: train/covid/82414179.jpeg  \n",
            "  inflating: train/covid/84271309.png  \n",
            "  inflating: train/covid/85192594.jpg  \n",
            "  inflating: train/covid/8788606.png  \n",
            "  inflating: train/covid/89363541.jpg  \n",
            "  inflating: train/covid/90954522.jpg  \n",
            "  inflating: train/covid/91321192.jpg  \n",
            "  inflating: train/covid/92801606.jpg  \n",
            "  inflating: train/covid/94124125.jpeg  \n",
            "  inflating: train/covid/95500688.jpeg  \n",
            "  inflating: train/covid/9565606.png  \n",
            "  inflating: train/covid/96337326.jpeg  \n",
            "  inflating: train/covid/97411098.jpeg  \n",
            "  inflating: train/covid/99297261.png  \n",
            "  inflating: train/normal/100399932.jpeg  \n",
            "  inflating: train/normal/101212332.jpeg  \n",
            "  inflating: train/normal/102806672.jpeg  \n",
            "  inflating: train/normal/103401785.jpeg  \n",
            "  inflating: train/normal/104444312.jpeg  \n",
            "  inflating: train/normal/105831293.jpeg  \n",
            "  inflating: train/normal/106557272.jpeg  \n",
            "  inflating: train/normal/107485191.jpeg  \n",
            "  inflating: train/normal/108602728.jpeg  \n",
            "  inflating: train/normal/109320121.jpeg  \n",
            "  inflating: train/normal/110739909.jpeg  \n",
            "  inflating: train/normal/111341605.jpeg  \n",
            "  inflating: train/normal/112831659.jpeg  \n",
            "  inflating: train/normal/113519283.jpeg  \n",
            "  inflating: train/normal/114901497.jpeg  \n",
            "  inflating: train/normal/115664337.jpeg  \n",
            "  inflating: train/normal/116778140.jpeg  \n",
            "  inflating: train/normal/117664676.jpeg  \n",
            "  inflating: train/normal/120959059.jpeg  \n",
            "  inflating: train/normal/122387120.jpeg  \n",
            "  inflating: train/normal/124706761.jpeg  \n",
            "  inflating: train/normal/125842129.jpeg  \n",
            "  inflating: train/normal/126182799.jpeg  \n",
            "  inflating: train/normal/127236903.jpeg  \n",
            "  inflating: train/normal/12811542.jpeg  \n",
            "  inflating: train/normal/129462172.jpeg  \n",
            "  inflating: train/normal/130898535.jpeg  \n",
            "  inflating: train/normal/132721910.jpeg  \n",
            "  inflating: train/normal/133167366.jpeg  \n",
            "  inflating: train/normal/134351884.jpeg  \n",
            "  inflating: train/normal/135586766.jpeg  \n",
            "  inflating: train/normal/136284647.jpeg  \n",
            "  inflating: train/normal/137610188.jpeg  \n",
            "  inflating: train/normal/13824197.jpeg  \n",
            "  inflating: train/normal/138584594.jpeg  \n",
            "  inflating: train/normal/139426502.jpeg  \n",
            "  inflating: train/normal/140713446.jpeg  \n",
            "  inflating: train/normal/14309018.jpeg  \n",
            "  inflating: train/normal/143868053.jpeg  \n",
            "  inflating: train/normal/144901689.jpeg  \n",
            "  inflating: train/normal/146634803.jpeg  \n",
            "  inflating: train/normal/147209208.jpeg  \n",
            "  inflating: train/normal/148660819.jpeg  \n",
            "  inflating: train/normal/149704511.jpeg  \n",
            "  inflating: train/normal/150956942.jpeg  \n",
            "  inflating: train/normal/151153360.jpeg  \n",
            "  inflating: train/normal/153842267.jpeg  \n",
            "  inflating: train/normal/154113182.jpeg  \n",
            "  inflating: train/normal/155515903.jpeg  \n",
            "  inflating: train/normal/156104490.jpeg  \n",
            "  inflating: train/normal/1575343.jpeg  \n",
            "  inflating: train/normal/15834598.jpeg  \n",
            "  inflating: train/normal/160343467.jpeg  \n",
            "  inflating: train/normal/161166808.jpeg  \n",
            "  inflating: train/normal/162258256.jpeg  \n",
            "  inflating: train/normal/163418951.jpeg  \n",
            "  inflating: train/normal/164144571.jpeg  \n",
            "  inflating: train/normal/166498429.jpeg  \n",
            "  inflating: train/normal/16772019.jpeg  \n",
            "  inflating: train/normal/168692114.jpeg  \n",
            "  inflating: train/normal/16916742.jpeg  \n",
            "  inflating: train/normal/17113727.jpeg  \n",
            "  inflating: train/normal/172925265.jpeg  \n",
            "  inflating: train/normal/173237298.jpeg  \n",
            "  inflating: train/normal/174304413.jpeg  \n",
            "  inflating: train/normal/175718711.jpeg  \n",
            "  inflating: train/normal/176897589.jpeg  \n",
            "  inflating: train/normal/17719063.jpeg  \n",
            "  inflating: train/normal/177817657.jpeg  \n",
            "  inflating: train/normal/178631149.jpeg  \n",
            "  inflating: train/normal/179869612.jpeg  \n",
            "  inflating: train/normal/18114117.jpeg  \n",
            "  inflating: train/normal/182679775.jpeg  \n",
            "  inflating: train/normal/18385903.jpeg  \n",
            "  inflating: train/normal/18468686.jpeg  \n",
            "  inflating: train/normal/185911903.jpeg  \n",
            "  inflating: train/normal/187876689.jpeg  \n",
            "  inflating: train/normal/188119595.jpeg  \n",
            "  inflating: train/normal/189635389.jpeg  \n",
            "  inflating: train/normal/19146364.jpeg  \n",
            "  inflating: train/normal/192868373.jpeg  \n",
            "  inflating: train/normal/193605471.jpeg  \n",
            "  inflating: train/normal/194570014.jpeg  \n",
            "  inflating: train/normal/196242401.jpeg  \n",
            "  inflating: train/normal/19884668.jpeg  \n",
            "  inflating: train/normal/199817460.jpeg  \n",
            "  inflating: train/normal/201980025.jpeg  \n",
            "  inflating: train/normal/203790173.jpeg  \n",
            "  inflating: train/normal/20419009.jpeg  \n",
            "  inflating: train/normal/205469286.jpeg  \n",
            "  inflating: train/normal/208918435.jpeg  \n",
            "  inflating: train/normal/209909839.jpeg  \n",
            "  inflating: train/normal/210674515.jpeg  \n",
            "  inflating: train/normal/21149974.jpeg  \n",
            "  inflating: train/normal/215376389.jpeg  \n",
            "  inflating: train/normal/216981171.jpeg  \n",
            "  inflating: train/normal/221897306.jpeg  \n",
            "  inflating: train/normal/222203175.jpeg  \n",
            "  inflating: train/normal/224146546.jpeg  \n",
            "  inflating: train/normal/22515075.jpeg  \n",
            "  inflating: train/normal/226657665.jpeg  \n",
            "  inflating: train/normal/227810757.jpeg  \n",
            "  inflating: train/normal/228659998.jpeg  \n",
            "  inflating: train/normal/229784200.jpeg  \n",
            "  inflating: train/normal/230872045.jpeg  \n",
            "  inflating: train/normal/23138821.jpeg  \n",
            "  inflating: train/normal/232803754.jpeg  \n",
            "  inflating: train/normal/235124108.jpeg  \n",
            "  inflating: train/normal/236617887.jpeg  \n",
            "  inflating: train/normal/23839115.jpeg  \n",
            "  inflating: train/normal/240444954.jpeg  \n",
            "  inflating: train/normal/242456324.jpeg  \n",
            "  inflating: train/normal/243873674.jpeg  \n",
            "  inflating: train/normal/244593000.jpeg  \n",
            "  inflating: train/normal/246819662.jpeg  \n",
            "  inflating: train/normal/247856750.jpeg  \n",
            "  inflating: train/normal/24941474.jpeg  \n",
            "  inflating: train/normal/25030259.jpeg  \n",
            "  inflating: train/normal/251496769.jpeg  \n",
            "  inflating: train/normal/255522700.jpeg  \n",
            "  inflating: train/normal/257765505.jpeg  \n",
            "  inflating: train/normal/2580896.jpeg  \n",
            "  inflating: train/normal/260268276.jpeg  \n",
            "  inflating: train/normal/26102690.jpeg  \n",
            "  inflating: train/normal/261386104.jpeg  \n",
            "  inflating: train/normal/262980863.jpeg  \n",
            "  inflating: train/normal/263982757.jpeg  \n",
            "  inflating: train/normal/264224792.jpeg  \n",
            "  inflating: train/normal/268659871.jpeg  \n",
            "  inflating: train/normal/269698675.jpeg  \n",
            "  inflating: train/normal/27015909.jpeg  \n",
            "  inflating: train/normal/271259869.jpeg  \n",
            "  inflating: train/normal/272544098.jpeg  \n",
            "  inflating: train/normal/273449320.jpeg  \n",
            "  inflating: train/normal/274801353.jpeg  \n",
            "  inflating: train/normal/275505559.jpeg  \n",
            "  inflating: train/normal/2760468.jpeg  \n",
            "  inflating: train/normal/277735749.jpeg  \n",
            "  inflating: train/normal/279520874.jpeg  \n",
            "  inflating: train/normal/281904563.jpeg  \n",
            "  inflating: train/normal/2821896.jpeg  \n",
            "  inflating: train/normal/282740106.jpeg  \n",
            "  inflating: train/normal/285941460.jpeg  \n",
            "  inflating: train/normal/28647714.jpeg  \n",
            "  inflating: train/normal/287230124.jpeg  \n",
            "  inflating: train/normal/288940018.jpeg  \n",
            "  inflating: train/normal/2891350.jpeg  \n",
            "  inflating: train/normal/290171271.jpeg  \n",
            "  inflating: train/normal/29233257.jpeg  \n",
            "  inflating: train/normal/292927502.jpeg  \n",
            "  inflating: train/normal/293542802.jpeg  \n",
            "  inflating: train/normal/294884654.jpeg  \n",
            "  inflating: train/normal/299816259.jpeg  \n",
            "  inflating: train/normal/301667993.jpeg  \n",
            "  inflating: train/normal/304486050.jpeg  \n",
            "  inflating: train/normal/307942336.jpeg  \n",
            "  inflating: train/normal/308197200.jpeg  \n",
            "  inflating: train/normal/309447324.jpeg  \n",
            "  inflating: train/normal/30968287.jpeg  \n",
            "  inflating: train/normal/310758233.jpeg  \n",
            "  inflating: train/normal/312674273.jpeg  \n",
            "  inflating: train/normal/3154145.jpeg  \n",
            "  inflating: train/normal/315613288.jpeg  \n",
            "  inflating: train/normal/319745008.jpeg  \n",
            "  inflating: train/normal/322271980.jpeg  \n",
            "  inflating: train/normal/324573161.jpeg  \n",
            "  inflating: train/normal/326911135.jpeg  \n",
            "  inflating: train/normal/32760298.jpeg  \n",
            "  inflating: train/normal/328612247.jpeg  \n",
            "  inflating: train/normal/329419051.jpeg  \n",
            "  inflating: train/normal/32993651.jpeg  \n",
            "  inflating: train/normal/331179959.jpeg  \n",
            "  inflating: train/normal/332256491.jpeg  \n",
            "  inflating: train/normal/334890376.jpeg  \n",
            "  inflating: train/normal/33510923.jpeg  \n",
            "  inflating: train/normal/336615817.jpeg  \n",
            "  inflating: train/normal/337596475.jpeg  \n",
            "  inflating: train/normal/33813742.jpeg  \n",
            "  inflating: train/normal/3395580.jpeg  \n",
            "  inflating: train/normal/340648533.jpeg  \n",
            "  inflating: train/normal/341356391.jpeg  \n",
            "  inflating: train/normal/342591058.jpeg  \n",
            "  inflating: train/normal/343158822.jpeg  \n",
            "  inflating: train/normal/344471383.jpeg  \n",
            "  inflating: train/normal/34551247.jpeg  \n",
            "  inflating: train/normal/346164189.jpeg  \n",
            "  inflating: train/normal/348166050.jpeg  \n",
            "  inflating: train/normal/34976760.jpeg  \n",
            "  inflating: train/normal/349826458.jpeg  \n",
            "  inflating: train/normal/350736256.jpeg  \n",
            "  inflating: train/normal/351635001.jpeg  \n",
            "  inflating: train/normal/352453363.jpeg  \n",
            "  inflating: train/normal/355915287.jpeg  \n",
            "  inflating: train/normal/35667640.jpeg  \n",
            "  inflating: train/normal/357863243.jpeg  \n",
            "  inflating: train/normal/35835319.jpeg  \n",
            "  inflating: train/normal/35994808.jpeg  \n",
            "  inflating: train/normal/360575548.jpeg  \n",
            "  inflating: train/normal/362567324.jpeg  \n",
            "  inflating: train/normal/364643147.jpeg  \n",
            "  inflating: train/normal/365723927.jpeg  \n",
            "  inflating: train/normal/366172853.jpeg  \n",
            "  inflating: train/normal/367227250.jpeg  \n",
            "  inflating: train/normal/368450218.jpeg  \n",
            "  inflating: train/normal/369353307.jpeg  \n",
            "  inflating: train/normal/36939857.jpeg  \n",
            "  inflating: train/normal/370386238.jpeg  \n",
            "  inflating: train/normal/372131175.jpeg  \n",
            "  inflating: train/normal/3734876.jpeg  \n",
            "  inflating: train/normal/374766587.jpeg  \n",
            "  inflating: train/normal/375945707.jpeg  \n",
            "  inflating: train/normal/376681862.jpeg  \n",
            "  inflating: train/normal/37764371.jpeg  \n",
            "  inflating: train/normal/377983298.jpeg  \n",
            "  inflating: train/normal/379570587.jpeg  \n",
            "  inflating: train/normal/380785414.jpeg  \n",
            "  inflating: train/normal/381339474.jpeg  \n",
            "  inflating: train/normal/38350640.jpeg  \n",
            "  inflating: train/normal/383716661.jpeg  \n",
            "  inflating: train/normal/3843390.jpeg  \n",
            "  inflating: train/normal/385298609.jpeg  \n",
            "  inflating: train/normal/386910386.jpeg  \n",
            "  inflating: train/normal/387318785.jpeg  \n",
            "  inflating: train/normal/388561929.jpeg  \n",
            "  inflating: train/normal/390103495.jpeg  \n",
            "  inflating: train/normal/393518825.jpeg  \n",
            "  inflating: train/normal/395664537.jpeg  \n",
            "  inflating: train/normal/396952563.jpeg  \n",
            "  inflating: train/normal/397993079.jpeg  \n",
            "  inflating: train/normal/398904381.jpeg  \n",
            "  inflating: train/normal/399401653.jpeg  \n",
            "  inflating: train/normal/4019678.jpeg  \n",
            "  inflating: train/normal/402929346.jpeg  \n",
            "  inflating: train/normal/40541894.jpeg  \n",
            "  inflating: train/normal/40625454.jpeg  \n",
            "  inflating: train/normal/407813063.jpeg  \n",
            "  inflating: train/normal/409967676.jpeg  \n",
            "  inflating: train/normal/413973914.jpeg  \n",
            "  inflating: train/normal/414359018.jpeg  \n",
            "  inflating: train/normal/416771888.jpeg  \n",
            "  inflating: train/normal/417152330.jpeg  \n",
            "  inflating: train/normal/420693011.jpeg  \n",
            "  inflating: train/normal/421468393.jpeg  \n",
            "  inflating: train/normal/422686902.jpeg  \n",
            "  inflating: train/normal/423942485.jpeg  \n",
            "  inflating: train/normal/425289373.jpeg  \n",
            "  inflating: train/normal/4261023.jpeg  \n",
            "  inflating: train/normal/427684633.jpeg  \n",
            "  inflating: train/normal/428241239.jpeg  \n",
            "  inflating: train/normal/429962582.jpeg  \n",
            "  inflating: train/normal/430248331.jpeg  \n",
            "  inflating: train/normal/43149579.jpeg  \n",
            "  inflating: train/normal/433774270.jpeg  \n",
            "  inflating: train/normal/434458978.jpeg  \n",
            "  inflating: train/normal/435231972.jpeg  \n",
            "  inflating: train/normal/43570031.jpeg  \n",
            "  inflating: train/normal/43828447.jpeg  \n",
            "  inflating: train/normal/439134970.jpeg  \n",
            "  inflating: train/normal/440384246.jpeg  \n",
            "  inflating: train/normal/442737420.jpeg  \n",
            "  inflating: train/normal/443330761.jpeg  \n",
            "  inflating: train/normal/444188710.jpeg  \n",
            "  inflating: train/normal/44541401.jpeg  \n",
            "  inflating: train/normal/446433454.jpeg  \n",
            "  inflating: train/normal/447918875.jpeg  \n",
            "  inflating: train/normal/451842711.jpeg  \n",
            "  inflating: train/normal/4537857.jpeg  \n",
            "  inflating: train/normal/455728485.jpeg  \n",
            "  inflating: train/normal/457124478.jpeg  \n",
            "  inflating: train/normal/458894949.jpeg  \n",
            "  inflating: train/normal/459770282.jpeg  \n",
            "  inflating: train/normal/463138789.jpeg  \n",
            "  inflating: train/normal/464627678.jpeg  \n",
            "  inflating: train/normal/465885618.jpeg  \n",
            "  inflating: train/normal/466387715.jpeg  \n",
            "  inflating: train/normal/467414642.jpeg  \n",
            "  inflating: train/normal/468294751.jpeg  \n",
            "  inflating: train/normal/469980170.jpeg  \n",
            "  inflating: train/normal/470926584.jpeg  \n",
            "  inflating: train/normal/471599255.jpeg  \n",
            "  inflating: train/normal/47169009.jpeg  \n",
            "  inflating: train/normal/474529032.jpeg  \n",
            "  inflating: train/normal/476146659.jpeg  \n",
            "  inflating: train/normal/477379185.jpeg  \n",
            "  inflating: train/normal/478479707.jpeg  \n",
            "  inflating: train/normal/479286393.jpeg  \n",
            "  inflating: train/normal/480770588.jpeg  \n",
            "  inflating: train/normal/482430480.jpeg  \n",
            "  inflating: train/normal/483924342.jpeg  \n",
            "  inflating: train/normal/484349736.jpeg  \n",
            "  inflating: train/normal/48681001.jpeg  \n",
            "  inflating: train/normal/487635167.jpeg  \n",
            "  inflating: train/normal/488771803.jpeg  \n",
            "  inflating: train/normal/489873131.jpeg  \n",
            "  inflating: train/normal/490213067.jpeg  \n",
            "  inflating: train/normal/491372267.jpeg  \n",
            "  inflating: train/normal/492695409.jpeg  \n",
            "  inflating: train/normal/494638484.jpeg  \n",
            "  inflating: train/normal/496352201.jpeg  \n",
            "  inflating: train/normal/498639999.jpeg  \n",
            "  inflating: train/normal/499479437.jpeg  \n",
            "  inflating: train/normal/500280913.jpeg  \n",
            "  inflating: train/normal/501198902.jpeg  \n",
            "  inflating: train/normal/504324781.jpeg  \n",
            "  inflating: train/normal/50457206.jpeg  \n",
            "  inflating: train/normal/506761658.jpeg  \n",
            "  inflating: train/normal/50769171.jpeg  \n",
            "  inflating: train/normal/509871161.jpeg  \n",
            "  inflating: train/normal/51160573.jpeg  \n",
            "  inflating: train/normal/512240515.jpeg  \n",
            "  inflating: train/normal/513974031.jpeg  \n",
            "  inflating: train/normal/515284002.jpeg  \n",
            "  inflating: train/normal/51687213.jpeg  \n",
            "  inflating: train/normal/517601996.jpeg  \n",
            "  inflating: train/normal/518526866.jpeg  \n",
            "  inflating: train/normal/519372441.jpeg  \n",
            "  inflating: train/normal/520339718.jpeg  \n",
            "  inflating: train/normal/521821102.jpeg  \n",
            "  inflating: train/normal/522548295.jpeg  \n",
            "  inflating: train/normal/523434439.jpeg  \n",
            "  inflating: train/normal/52347783.jpeg  \n",
            "  inflating: train/normal/524746156.jpeg  \n",
            "  inflating: train/normal/525827182.jpeg  \n",
            "  inflating: train/normal/526242346.jpeg  \n",
            "  inflating: train/normal/528964570.jpeg  \n",
            "  inflating: train/normal/529767882.jpeg  \n",
            "  inflating: train/normal/530534750.jpeg  \n",
            "  inflating: train/normal/53185139.jpeg  \n",
            "  inflating: train/normal/532302690.jpeg  \n",
            "  inflating: train/normal/533742646.jpeg  \n",
            "  inflating: train/normal/534383690.jpeg  \n",
            "  inflating: train/normal/535628207.jpeg  \n",
            "  inflating: train/normal/536399096.jpeg  \n",
            "  inflating: train/normal/53728685.jpeg  \n",
            "  inflating: train/normal/537988483.jpeg  \n",
            "  inflating: train/normal/538403321.jpeg  \n",
            "  inflating: train/normal/540660806.jpeg  \n",
            "  inflating: train/normal/541241447.jpeg  \n",
            "  inflating: train/normal/542634377.jpeg  \n",
            "  inflating: train/normal/543230590.jpeg  \n",
            "  inflating: train/normal/54455352.jpeg  \n",
            "  inflating: train/normal/544944690.jpeg  \n",
            "  inflating: train/normal/549245704.jpeg  \n",
            "  inflating: train/normal/550783240.jpeg  \n",
            "  inflating: train/normal/551472877.jpeg  \n",
            "  inflating: train/normal/552593407.jpeg  \n",
            "  inflating: train/normal/553939018.jpeg  \n",
            "  inflating: train/normal/554275258.jpeg  \n",
            "  inflating: train/normal/555738953.jpeg  \n",
            "  inflating: train/normal/5572689.jpeg  \n",
            "  inflating: train/normal/558917923.jpeg  \n",
            "  inflating: train/normal/559791741.jpeg  \n",
            "  inflating: train/normal/56057623.jpeg  \n",
            "  inflating: train/normal/56190990.jpeg  \n",
            "  inflating: train/normal/562987335.jpeg  \n",
            "  inflating: train/normal/563572171.jpeg  \n",
            "  inflating: train/normal/564749206.jpeg  \n",
            "  inflating: train/normal/5677116.jpeg  \n",
            "  inflating: train/normal/568980797.jpeg  \n",
            "  inflating: train/normal/569680652.jpeg  \n",
            "  inflating: train/normal/570775796.jpeg  \n",
            "  inflating: train/normal/571646434.jpeg  \n",
            "  inflating: train/normal/572268200.jpeg  \n",
            "  inflating: train/normal/573536541.jpeg  \n",
            "  inflating: train/normal/57477265.jpeg  \n",
            "  inflating: train/normal/575557189.jpeg  \n",
            "  inflating: train/normal/576782042.jpeg  \n",
            "  inflating: train/normal/577378896.jpeg  \n",
            "  inflating: train/normal/579185377.jpeg  \n",
            "  inflating: train/normal/580150215.jpeg  \n",
            "  inflating: train/normal/581622839.jpeg  \n",
            "  inflating: train/normal/582347275.jpeg  \n",
            "  inflating: train/normal/58296271.jpeg  \n",
            "  inflating: train/normal/584820380.jpeg  \n",
            "  inflating: train/normal/585871630.jpeg  \n",
            "  inflating: train/normal/58657321.jpeg  \n",
            "  inflating: train/normal/587975675.jpeg  \n",
            "  inflating: train/normal/590479025.jpeg  \n",
            "  inflating: train/normal/591981466.jpeg  \n",
            "  inflating: train/normal/59260168.jpeg  \n",
            "  inflating: train/normal/593136617.jpeg  \n",
            "  inflating: train/normal/59417276.jpeg  \n",
            "  inflating: train/normal/595993073.jpeg  \n",
            "  inflating: train/normal/597631776.jpeg  \n",
            "  inflating: train/normal/598292360.jpeg  \n",
            "  inflating: train/normal/600745797.jpeg  \n",
            "  inflating: train/normal/601218372.jpeg  \n",
            "  inflating: train/normal/603577889.jpeg  \n",
            "  inflating: train/normal/604768686.jpeg  \n",
            "  inflating: train/normal/605676822.jpeg  \n",
            "  inflating: train/normal/606551650.jpeg  \n",
            "  inflating: train/normal/60713972.jpeg  \n",
            "  inflating: train/normal/608780986.jpeg  \n",
            "  inflating: train/normal/60899839.jpeg  \n",
            "  inflating: train/normal/609416879.jpeg  \n",
            "  inflating: train/normal/610382544.jpeg  \n",
            "  inflating: train/normal/61108629.jpeg  \n",
            "  inflating: train/normal/6113975.jpeg  \n",
            "  inflating: train/normal/612663492.jpeg  \n",
            "  inflating: train/normal/613707734.jpeg  \n",
            "  inflating: train/normal/614722911.jpeg  \n",
            "  inflating: train/normal/615818206.jpeg  \n",
            "  inflating: train/normal/616370420.jpeg  \n",
            "  inflating: train/normal/617586031.jpeg  \n",
            "  inflating: train/normal/618841263.jpeg  \n",
            "  inflating: train/normal/62011093.jpeg  \n",
            "  inflating: train/normal/62211222.jpeg  \n",
            "  inflating: train/normal/623570293.jpeg  \n",
            "  inflating: train/normal/62396714.jpeg  \n",
            "  inflating: train/normal/624498388.jpeg  \n",
            "  inflating: train/normal/625756059.jpeg  \n",
            "  inflating: train/normal/62650502.jpeg  \n",
            "  inflating: train/normal/627315195.jpeg  \n",
            "  inflating: train/normal/629822044.jpeg  \n",
            "  inflating: train/normal/630743583.jpeg  \n",
            "  inflating: train/normal/631914281.jpeg  \n",
            "  inflating: train/normal/632708354.jpeg  \n",
            "  inflating: train/normal/633561286.jpeg  \n",
            "  inflating: train/normal/634413518.jpeg  \n",
            "  inflating: train/normal/635452485.jpeg  \n",
            "  inflating: train/normal/63757416.jpeg  \n",
            "  inflating: train/normal/63767670.jpeg  \n",
            "  inflating: train/normal/638539146.jpeg  \n",
            "  inflating: train/normal/63912456.jpeg  \n",
            "  inflating: train/normal/64079278.jpeg  \n",
            "  inflating: train/normal/641164115.jpeg  \n",
            "  inflating: train/normal/642309787.jpeg  \n",
            "  inflating: train/normal/644633601.jpeg  \n",
            "  inflating: train/normal/64475219.jpeg  \n",
            "  inflating: train/normal/646974116.jpeg  \n",
            "  inflating: train/normal/648553262.jpeg  \n",
            "  inflating: train/normal/649706084.jpeg  \n",
            "  inflating: train/normal/6498983.jpeg  \n",
            "  inflating: train/normal/650458786.jpeg  \n",
            "  inflating: train/normal/652135172.jpeg  \n",
            "  inflating: train/normal/65390655.jpeg  \n",
            "  inflating: train/normal/65466493.jpeg  \n",
            "  inflating: train/normal/656207137.jpeg  \n",
            "  inflating: train/normal/657591239.jpeg  \n",
            "  inflating: train/normal/658788288.jpeg  \n",
            "  inflating: train/normal/661306976.jpeg  \n",
            "  inflating: train/normal/662198366.jpeg  \n",
            "  inflating: train/normal/665757562.jpeg  \n",
            "  inflating: train/normal/666569858.jpeg  \n",
            "  inflating: train/normal/667438887.jpeg  \n",
            "  inflating: train/normal/67361685.jpeg  \n",
            "  inflating: train/normal/70345750.jpeg  \n",
            "  inflating: train/normal/72800014.jpeg  \n",
            "  inflating: train/normal/7359998.jpeg  \n",
            "  inflating: train/normal/74273462.jpeg  \n",
            "  inflating: train/normal/75447199.jpeg  \n",
            "  inflating: train/normal/76914797.jpeg  \n",
            "  inflating: train/normal/77418519.jpeg  \n",
            "  inflating: train/normal/78881736.jpeg  \n",
            "  inflating: train/normal/79303761.jpeg  \n",
            "  inflating: train/normal/82158224.jpeg  \n",
            "  inflating: train/normal/83314942.jpeg  \n",
            "  inflating: train/normal/86620007.jpeg  \n",
            "  inflating: train/normal/8844330.jpeg  \n",
            "  inflating: train/normal/89366483.jpeg  \n",
            "  inflating: train/normal/90452454.jpeg  \n",
            "  inflating: train/normal/94202156.jpeg  \n",
            "  inflating: train/normal/95315587.jpeg  \n",
            "  inflating: train/normal/96355817.jpeg  \n",
            "  inflating: train/normal/97278916.jpeg  \n",
            "  inflating: train/normal/98388903.jpeg  \n",
            "  inflating: train/normal/9856653.jpeg  \n",
            "  inflating: train/normal/9910985.jpeg  \n",
            "  inflating: train/virus/100770198.jpeg  \n",
            "  inflating: train/virus/101389765.jpeg  \n",
            "  inflating: train/virus/102994356.jpeg  \n",
            "  inflating: train/virus/103448994.jpeg  \n",
            "  inflating: train/virus/10364395.jpeg  \n",
            "  inflating: train/virus/104365574.jpeg  \n",
            "  inflating: train/virus/107650013.jpeg  \n",
            "  inflating: train/virus/108136667.jpeg  \n",
            "  inflating: train/virus/109194571.jpeg  \n",
            "  inflating: train/virus/110925746.jpeg  \n",
            "  inflating: train/virus/112671406.jpeg  \n",
            "  inflating: train/virus/113777141.jpeg  \n",
            "  inflating: train/virus/114176220.jpeg  \n",
            "  inflating: train/virus/115155346.jpeg  \n",
            "  inflating: train/virus/116422116.jpeg  \n",
            "  inflating: train/virus/118777221.jpeg  \n",
            "  inflating: train/virus/119181967.jpeg  \n",
            "  inflating: train/virus/121967890.jpeg  \n",
            "  inflating: train/virus/122691494.jpeg  \n",
            "  inflating: train/virus/123954836.jpeg  \n",
            "  inflating: train/virus/124483007.jpeg  \n",
            "  inflating: train/virus/125282546.jpeg  \n",
            "  inflating: train/virus/128911129.jpeg  \n",
            "  inflating: train/virus/130618702.jpeg  \n",
            "  inflating: train/virus/136588039.jpeg  \n",
            "  inflating: train/virus/138923907.jpeg  \n",
            "  inflating: train/virus/139923878.jpeg  \n",
            "  inflating: train/virus/140969504.jpeg  \n",
            "  inflating: train/virus/141644429.jpeg  \n",
            "  inflating: train/virus/143206429.jpeg  \n",
            "  inflating: train/virus/14479628.jpeg  \n",
            "  inflating: train/virus/147640405.jpeg  \n",
            "  inflating: train/virus/14829169.jpeg  \n",
            "  inflating: train/virus/148426267.jpeg  \n",
            "  inflating: train/virus/149471093.jpeg  \n",
            "  inflating: train/virus/151746894.jpeg  \n",
            "  inflating: train/virus/152908252.jpeg  \n",
            "  inflating: train/virus/1536386.jpeg  \n",
            "  inflating: train/virus/154316344.jpeg  \n",
            "  inflating: train/virus/155782354.jpeg  \n",
            "  inflating: train/virus/156558492.jpeg  \n",
            "  inflating: train/virus/15717591.jpeg  \n",
            "  inflating: train/virus/158417911.jpeg  \n",
            "  inflating: train/virus/159684532.jpeg  \n",
            "  inflating: train/virus/160498387.jpeg  \n",
            "  inflating: train/virus/161612201.jpeg  \n",
            "  inflating: train/virus/162340959.jpeg  \n",
            "  inflating: train/virus/163965132.jpeg  \n",
            "  inflating: train/virus/164407875.jpeg  \n",
            "  inflating: train/virus/16450199.jpeg  \n",
            "  inflating: train/virus/167566072.jpeg  \n",
            "  inflating: train/virus/16996283.jpeg  \n",
            "  inflating: train/virus/171674761.jpeg  \n",
            "  inflating: train/virus/173705211.jpeg  \n",
            "  inflating: train/virus/174794630.jpeg  \n",
            "  inflating: train/virus/175798071.jpeg  \n",
            "  inflating: train/virus/176409702.jpeg  \n",
            "  inflating: train/virus/177212203.jpeg  \n",
            "  inflating: train/virus/17798630.jpeg  \n",
            "  inflating: train/virus/179321776.jpeg  \n",
            "  inflating: train/virus/180537296.jpeg  \n",
            "  inflating: train/virus/181304882.jpeg  \n",
            "  inflating: train/virus/182185211.jpeg  \n",
            "  inflating: train/virus/183970940.jpeg  \n",
            "  inflating: train/virus/184238391.jpeg  \n",
            "  inflating: train/virus/18542926.jpeg  \n",
            "  inflating: train/virus/18674139.jpeg  \n",
            "  inflating: train/virus/187850838.jpeg  \n",
            "  inflating: train/virus/18838493.jpeg  \n",
            "  inflating: train/virus/190323210.jpeg  \n",
            "  inflating: train/virus/19112100.jpeg  \n",
            "  inflating: train/virus/193802713.jpeg  \n",
            "  inflating: train/virus/194189028.jpeg  \n",
            "  inflating: train/virus/195296782.jpeg  \n",
            "  inflating: train/virus/196431994.jpeg  \n",
            "  inflating: train/virus/19691318.jpeg  \n",
            "  inflating: train/virus/198363857.jpeg  \n",
            "  inflating: train/virus/200134006.jpeg  \n",
            "  inflating: train/virus/201747117.jpeg  \n",
            "  inflating: train/virus/203244731.jpeg  \n",
            "  inflating: train/virus/20492240.jpeg  \n",
            "  inflating: train/virus/204960820.jpeg  \n",
            "  inflating: train/virus/205998041.jpeg  \n",
            "  inflating: train/virus/206688206.jpeg  \n",
            "  inflating: train/virus/20760027.jpeg  \n",
            "  inflating: train/virus/208595004.jpeg  \n",
            "  inflating: train/virus/209307151.jpeg  \n",
            "  inflating: train/virus/210185961.jpeg  \n",
            "  inflating: train/virus/211973351.jpeg  \n",
            "  inflating: train/virus/21279446.jpeg  \n",
            "  inflating: train/virus/213551069.jpeg  \n",
            "  inflating: train/virus/214273150.jpeg  \n",
            "  inflating: train/virus/21465395.jpeg  \n",
            "  inflating: train/virus/215650255.jpeg  \n",
            "  inflating: train/virus/219817921.jpeg  \n",
            "  inflating: train/virus/22128349.jpeg  \n",
            "  inflating: train/virus/222435169.jpeg  \n",
            "  inflating: train/virus/22422945.jpeg  \n",
            "  inflating: train/virus/224562251.jpeg  \n",
            "  inflating: train/virus/226514812.jpeg  \n",
            "  inflating: train/virus/227435379.jpeg  \n",
            "  inflating: train/virus/229396161.jpeg  \n",
            "  inflating: train/virus/230883722.jpeg  \n",
            "  inflating: train/virus/231492698.jpeg  \n",
            "  inflating: train/virus/233888214.jpeg  \n",
            "  inflating: train/virus/234909794.jpeg  \n",
            "  inflating: train/virus/235511892.jpeg  \n",
            "  inflating: train/virus/2363267.jpeg  \n",
            "  inflating: train/virus/236959065.jpeg  \n",
            "  inflating: train/virus/237985645.jpeg  \n",
            "  inflating: train/virus/238184132.jpeg  \n",
            "  inflating: train/virus/240235855.jpeg  \n",
            "  inflating: train/virus/242271096.jpeg  \n",
            "  inflating: train/virus/244905829.jpeg  \n",
            "  inflating: train/virus/246377854.jpeg  \n",
            "  inflating: train/virus/247331069.jpeg  \n",
            "  inflating: train/virus/24928921.jpeg  \n",
            "  inflating: train/virus/250662619.jpeg  \n",
            "  inflating: train/virus/251629687.jpeg  \n",
            "  inflating: train/virus/252165569.jpeg  \n",
            "  inflating: train/virus/25263068.jpeg  \n",
            "  inflating: train/virus/253244723.jpeg  \n",
            "  inflating: train/virus/254368911.jpeg  \n",
            "  inflating: train/virus/255622767.jpeg  \n",
            "  inflating: train/virus/256118345.jpeg  \n",
            "  inflating: train/virus/257316237.jpeg  \n",
            "  inflating: train/virus/259677021.jpeg  \n",
            "  inflating: train/virus/260356395.jpeg  \n",
            "  inflating: train/virus/261805077.jpeg  \n",
            "  inflating: train/virus/262661448.jpeg  \n",
            "  inflating: train/virus/264420820.jpeg  \n",
            "  inflating: train/virus/26476287.jpeg  \n",
            "  inflating: train/virus/268201865.jpeg  \n",
            "  inflating: train/virus/269928793.jpeg  \n",
            "  inflating: train/virus/27083814.jpeg  \n",
            "  inflating: train/virus/271275658.jpeg  \n",
            "  inflating: train/virus/27260186.jpeg  \n",
            "  inflating: train/virus/272609390.jpeg  \n",
            "  inflating: train/virus/273909801.jpeg  \n",
            "  inflating: train/virus/276989614.jpeg  \n",
            "  inflating: train/virus/277938199.jpeg  \n",
            "  inflating: train/virus/280193936.jpeg  \n",
            "  inflating: train/virus/281719460.jpeg  \n",
            "  inflating: train/virus/282528547.jpeg  \n",
            "  inflating: train/virus/284810842.jpeg  \n",
            "  inflating: train/virus/285425375.jpeg  \n",
            "  inflating: train/virus/286890534.jpeg  \n",
            "  inflating: train/virus/28753268.jpeg  \n",
            "  inflating: train/virus/287567501.jpeg  \n",
            "  inflating: train/virus/288242442.jpeg  \n",
            "  inflating: train/virus/289802477.jpeg  \n",
            "  inflating: train/virus/291197085.jpeg  \n",
            "  inflating: train/virus/292480807.jpeg  \n",
            "  inflating: train/virus/29327589.jpeg  \n",
            "  inflating: train/virus/29354198.jpeg  \n",
            "  inflating: train/virus/294407071.jpeg  \n",
            "  inflating: train/virus/295624533.jpeg  \n",
            "  inflating: train/virus/296922442.jpeg  \n",
            "  inflating: train/virus/299346768.jpeg  \n",
            "  inflating: train/virus/300654162.jpeg  \n",
            "  inflating: train/virus/30150007.jpeg  \n",
            "  inflating: train/virus/302640968.jpeg  \n",
            "  inflating: train/virus/30426626.jpeg  \n",
            "  inflating: train/virus/306575533.jpeg  \n",
            "  inflating: train/virus/307828065.jpeg  \n",
            "  inflating: train/virus/308713015.jpeg  \n",
            "  inflating: train/virus/30882180.jpeg  \n",
            "  inflating: train/virus/309373475.jpeg  \n",
            "  inflating: train/virus/31050865.jpeg  \n",
            "  inflating: train/virus/311733102.jpeg  \n",
            "  inflating: train/virus/312743710.jpeg  \n",
            "  inflating: train/virus/313240578.jpeg  \n",
            "  inflating: train/virus/315352224.jpeg  \n",
            "  inflating: train/virus/317157546.jpeg  \n",
            "  inflating: train/virus/319802713.jpeg  \n",
            "  inflating: train/virus/320320243.jpeg  \n",
            "  inflating: train/virus/32273481.jpeg  \n",
            "  inflating: train/virus/323771946.jpeg  \n",
            "  inflating: train/virus/325180737.jpeg  \n",
            "  inflating: train/virus/32593495.jpeg  \n",
            "  inflating: train/virus/326355203.jpeg  \n",
            "  inflating: train/virus/327147141.jpeg  \n",
            "  inflating: train/virus/328388294.jpeg  \n",
            "  inflating: train/virus/329851549.jpeg  \n",
            "  inflating: train/virus/332931304.jpeg  \n",
            "  inflating: train/virus/333323247.jpeg  \n",
            "  inflating: train/virus/334390413.jpeg  \n",
            "  inflating: train/virus/33542304.jpeg  \n",
            "  inflating: train/virus/336520755.jpeg  \n",
            "  inflating: train/virus/339758241.jpeg  \n",
            "  inflating: train/virus/340325769.jpeg  \n",
            "  inflating: train/virus/341224383.jpeg  \n",
            "  inflating: train/virus/342209970.jpeg  \n",
            "  inflating: train/virus/343505880.jpeg  \n",
            "  inflating: train/virus/349207943.jpeg  \n",
            "  inflating: train/virus/350103182.jpeg  \n",
            "  inflating: train/virus/351303976.jpeg  \n",
            "  inflating: train/virus/35266064.jpeg  \n",
            "  inflating: train/virus/357890661.jpeg  \n",
            "  inflating: train/virus/359651182.jpeg  \n",
            "  inflating: train/virus/360327776.jpeg  \n",
            "  inflating: train/virus/36249089.jpeg  \n",
            "  inflating: train/virus/363819808.jpeg  \n",
            "  inflating: train/virus/36470436.jpeg  \n",
            "  inflating: train/virus/365409286.jpeg  \n",
            "  inflating: train/virus/366104595.jpeg  \n",
            "  inflating: train/virus/367816894.jpeg  \n",
            "  inflating: train/virus/368426054.jpeg  \n",
            "  inflating: train/virus/370177477.jpeg  \n",
            "  inflating: train/virus/371585772.jpeg  \n",
            "  inflating: train/virus/37233511.jpeg  \n",
            "  inflating: train/virus/373600386.jpeg  \n",
            "  inflating: train/virus/374520589.jpeg  \n",
            "  inflating: train/virus/375639845.jpeg  \n",
            "  inflating: train/virus/376306213.jpeg  \n",
            "  inflating: train/virus/378789437.jpeg  \n",
            "  inflating: train/virus/379199685.jpeg  \n",
            "  inflating: train/virus/381341972.jpeg  \n",
            "  inflating: train/virus/38218222.jpeg  \n",
            "  inflating: train/virus/382544819.jpeg  \n",
            "  inflating: train/virus/384770948.jpeg  \n",
            "  inflating: train/virus/385290985.jpeg  \n",
            "  inflating: train/virus/386340749.jpeg  \n",
            "  inflating: train/virus/388338505.jpeg  \n",
            "  inflating: train/virus/390445883.jpeg  \n",
            "  inflating: train/virus/392624286.jpeg  \n",
            "  inflating: train/virus/393459486.jpeg  \n",
            "  inflating: train/virus/394191037.jpeg  \n",
            "  inflating: train/virus/395845881.jpeg  \n",
            "  inflating: train/virus/396733153.jpeg  \n",
            "  inflating: train/virus/39822954.jpeg  \n",
            "  inflating: train/virus/398262496.jpeg  \n",
            "  inflating: train/virus/400451675.jpeg  \n",
            "  inflating: train/virus/401205188.jpeg  \n",
            "  inflating: train/virus/404412247.jpeg  \n",
            "  inflating: train/virus/406702305.jpeg  \n",
            "  inflating: train/virus/407995770.jpeg  \n",
            "  inflating: train/virus/408365544.jpeg  \n",
            "  inflating: train/virus/40852600.jpeg  \n",
            "  inflating: train/virus/409349168.jpeg  \n",
            "  inflating: train/virus/4105474.jpeg  \n",
            "  inflating: train/virus/410785563.jpeg  \n",
            "  inflating: train/virus/411547011.jpeg  \n",
            "  inflating: train/virus/412205045.jpeg  \n",
            "  inflating: train/virus/413945802.jpeg  \n",
            "  inflating: train/virus/414354677.jpeg  \n",
            "  inflating: train/virus/415553224.jpeg  \n",
            "  inflating: train/virus/41609542.jpeg  \n",
            "  inflating: train/virus/416454895.jpeg  \n",
            "  inflating: train/virus/417335505.jpeg  \n",
            "  inflating: train/virus/419930371.jpeg  \n",
            "  inflating: train/virus/420715122.jpeg  \n",
            "  inflating: train/virus/422367643.jpeg  \n",
            "  inflating: train/virus/423544474.jpeg  \n",
            "  inflating: train/virus/424874239.jpeg  \n",
            "  inflating: train/virus/426875649.jpeg  \n",
            "  inflating: train/virus/42710946.jpeg  \n",
            "  inflating: train/virus/428877500.jpeg  \n",
            "  inflating: train/virus/430412151.jpeg  \n",
            "  inflating: train/virus/431144210.jpeg  \n",
            "  inflating: train/virus/43208806.jpeg  \n",
            "  inflating: train/virus/43349439.jpeg  \n",
            "  inflating: train/virus/436219242.jpeg  \n",
            "  inflating: train/virus/438769074.jpeg  \n",
            "  inflating: train/virus/439472675.jpeg  \n",
            "  inflating: train/virus/440133130.jpeg  \n",
            "  inflating: train/virus/44107489.jpeg  \n",
            "  inflating: train/virus/441940947.jpeg  \n",
            "  inflating: train/virus/442774888.jpeg  \n",
            "  inflating: train/virus/444968057.jpeg  \n",
            "  inflating: train/virus/445637113.jpeg  \n",
            "  inflating: train/virus/44627123.jpeg  \n",
            "  inflating: train/virus/447271164.jpeg  \n",
            "  inflating: train/virus/448888512.jpeg  \n",
            "  inflating: train/virus/449940122.jpeg  \n",
            "  inflating: train/virus/450133029.jpeg  \n",
            "  inflating: train/virus/451196950.jpeg  \n",
            "  inflating: train/virus/452411736.jpeg  \n",
            "  inflating: train/virus/453129593.jpeg  \n",
            "  inflating: train/virus/45588047.jpeg  \n",
            "  inflating: train/virus/45588949.jpeg  \n",
            "  inflating: train/virus/456153313.jpeg  \n",
            "  inflating: train/virus/457856217.jpeg  \n",
            "  inflating: train/virus/461551068.jpeg  \n",
            "  inflating: train/virus/462717136.jpeg  \n",
            "  inflating: train/virus/463293811.jpeg  \n",
            "  inflating: train/virus/46396197.jpeg  \n",
            "  inflating: train/virus/46544717.jpeg  \n",
            "  inflating: train/virus/46653113.jpeg  \n",
            "  inflating: train/virus/467537997.jpeg  \n",
            "  inflating: train/virus/468923074.jpeg  \n",
            "  inflating: train/virus/470310609.jpeg  \n",
            "  inflating: train/virus/471710662.jpeg  \n",
            "  inflating: train/virus/472206899.jpeg  \n",
            "  inflating: train/virus/473183485.jpeg  \n",
            "  inflating: train/virus/474758289.jpeg  \n",
            "  inflating: train/virus/475525990.jpeg  \n",
            "  inflating: train/virus/47671909.jpeg  \n",
            "  inflating: train/virus/478870256.jpeg  \n",
            "  inflating: train/virus/48020733.jpeg  \n",
            "  inflating: train/virus/481220891.jpeg  \n",
            "  inflating: train/virus/482927445.jpeg  \n",
            "  inflating: train/virus/484996683.jpeg  \n",
            "  inflating: train/virus/486878285.jpeg  \n",
            "  inflating: train/virus/487456965.jpeg  \n",
            "  inflating: train/virus/488943153.jpeg  \n",
            "  inflating: train/virus/490961375.jpeg  \n",
            "  inflating: train/virus/492830754.jpeg  \n",
            "  inflating: train/virus/4931248.jpeg  \n",
            "  inflating: train/virus/493757276.jpeg  \n",
            "  inflating: train/virus/494317586.jpeg  \n",
            "  inflating: train/virus/495502115.jpeg  \n",
            "  inflating: train/virus/496593614.jpeg  \n",
            "  inflating: train/virus/497570721.jpeg  \n",
            "  inflating: train/virus/498645893.jpeg  \n",
            "  inflating: train/virus/501108445.jpeg  \n",
            "  inflating: train/virus/502512594.jpeg  \n",
            "  inflating: train/virus/504412364.jpeg  \n",
            "  inflating: train/virus/506544857.jpeg  \n",
            "  inflating: train/virus/50699070.jpeg  \n",
            "  inflating: train/virus/507831372.jpeg  \n",
            "  inflating: train/virus/508497634.jpeg  \n",
            "  inflating: train/virus/510965227.jpeg  \n",
            "  inflating: train/virus/51131083.jpeg  \n",
            "  inflating: train/virus/511502820.jpeg  \n",
            "  inflating: train/virus/512620957.jpeg  \n",
            "  inflating: train/virus/514841918.jpeg  \n",
            "  inflating: train/virus/51528845.jpeg  \n",
            "  inflating: train/virus/516139066.jpeg  \n",
            "  inflating: train/virus/518407336.jpeg  \n",
            "  inflating: train/virus/520383427.jpeg  \n",
            "  inflating: train/virus/521956465.jpeg  \n",
            "  inflating: train/virus/52380457.jpeg  \n",
            "  inflating: train/virus/525487508.jpeg  \n",
            "  inflating: train/virus/526258730.jpeg  \n",
            "  inflating: train/virus/527669493.jpeg  \n",
            "  inflating: train/virus/530302198.jpeg  \n",
            "  inflating: train/virus/531745860.jpeg  \n",
            "  inflating: train/virus/532928380.jpeg  \n",
            "  inflating: train/virus/53380489.jpeg  \n",
            "  inflating: train/virus/533832357.jpeg  \n",
            "  inflating: train/virus/535223563.jpeg  \n",
            "  inflating: train/virus/536284052.jpeg  \n",
            "  inflating: train/virus/537726382.jpeg  \n",
            "  inflating: train/virus/538892206.jpeg  \n",
            "  inflating: train/virus/539854312.jpeg  \n",
            "  inflating: train/virus/541308673.jpeg  \n",
            "  inflating: train/virus/54191388.jpeg  \n",
            "  inflating: train/virus/542472017.jpeg  \n",
            "  inflating: train/virus/546281392.jpeg  \n",
            "  inflating: train/virus/547266360.jpeg  \n",
            "  inflating: train/virus/548649265.jpeg  \n",
            "  inflating: train/virus/551707543.jpeg  \n",
            "  inflating: train/virus/552836285.jpeg  \n",
            "  inflating: train/virus/553314453.jpeg  \n",
            "  inflating: train/virus/55388502.jpeg  \n",
            "  inflating: train/virus/554538219.jpeg  \n",
            "  inflating: train/virus/555200015.jpeg  \n",
            "  inflating: train/virus/556543421.jpeg  \n",
            "  inflating: train/virus/557439979.jpeg  \n",
            "  inflating: train/virus/558206364.jpeg  \n",
            "  inflating: train/virus/56094660.jpeg  \n",
            "  inflating: train/virus/561500251.jpeg  \n",
            "  inflating: train/virus/562128414.jpeg  \n",
            "  inflating: train/virus/56338704.jpeg  \n",
            "  inflating: train/virus/564782616.jpeg  \n",
            "  inflating: train/virus/566503995.jpeg  \n",
            "  inflating: train/virus/567621316.jpeg  \n",
            "  inflating: train/virus/5678761.jpeg  \n",
            "  inflating: train/virus/568945235.jpeg  \n",
            "  inflating: train/virus/569283521.jpeg  \n",
            "  inflating: train/virus/573493239.jpeg  \n",
            "  inflating: train/virus/574125981.jpeg  \n",
            "  inflating: train/virus/575492913.jpeg  \n",
            "  inflating: train/virus/576655999.jpeg  \n",
            "  inflating: train/virus/57875698.jpeg  \n",
            "  inflating: train/virus/580748088.jpeg  \n",
            "  inflating: train/virus/581888178.jpeg  \n",
            "  inflating: train/virus/582843388.jpeg  \n",
            "  inflating: train/virus/583575075.jpeg  \n",
            "  inflating: train/virus/584694764.jpeg  \n",
            "  inflating: train/virus/585708525.jpeg  \n",
            "  inflating: train/virus/586506520.jpeg  \n",
            "  inflating: train/virus/587817330.jpeg  \n",
            "  inflating: train/virus/58833582.jpeg  \n",
            "  inflating: train/virus/590345812.jpeg  \n",
            "  inflating: train/virus/591469882.jpeg  \n",
            "  inflating: train/virus/59479326.jpeg  \n",
            "  inflating: train/virus/59762419.jpeg  \n",
            "  inflating: train/virus/598858356.jpeg  \n",
            "  inflating: train/virus/601535268.jpeg  \n",
            "  inflating: train/virus/602569091.jpeg  \n",
            "  inflating: train/virus/603103007.jpeg  \n",
            "  inflating: train/virus/605710363.jpeg  \n",
            "  inflating: train/virus/60618335.jpeg  \n",
            "  inflating: train/virus/607251693.jpeg  \n",
            "  inflating: train/virus/608693555.jpeg  \n",
            "  inflating: train/virus/60925477.jpeg  \n",
            "  inflating: train/virus/610459242.jpeg  \n",
            "  inflating: train/virus/612801542.jpeg  \n",
            "  inflating: train/virus/614269980.jpeg  \n",
            "  inflating: train/virus/615312776.jpeg  \n",
            "  inflating: train/virus/617175900.jpeg  \n",
            "  inflating: train/virus/618132383.jpeg  \n",
            "  inflating: train/virus/62623841.jpeg  \n",
            "  inflating: train/virus/63831247.jpeg  \n",
            "  inflating: train/virus/64779449.jpeg  \n",
            "  inflating: train/virus/65326368.jpeg  \n",
            "  inflating: train/virus/66924138.jpeg  \n",
            "  inflating: train/virus/67182727.jpeg  \n",
            "  inflating: train/virus/6843754.jpeg  \n",
            "  inflating: train/virus/68731321.jpeg  \n",
            "  inflating: train/virus/72203796.jpeg  \n",
            "  inflating: train/virus/74370867.jpeg  \n",
            "  inflating: train/virus/76896453.jpeg  \n",
            "  inflating: train/virus/779013.jpeg  \n",
            "  inflating: train/virus/7812830.jpeg  \n",
            "  inflating: train/virus/7949318.jpeg  \n",
            "  inflating: train/virus/80912728.jpeg  \n",
            "  inflating: train/virus/81411175.jpeg  \n",
            "  inflating: train/virus/84536742.jpeg  \n",
            "  inflating: train/virus/85384960.jpeg  \n",
            "  inflating: train/virus/86149562.jpeg  \n",
            "  inflating: train/virus/87105973.jpeg  \n",
            "  inflating: train/virus/88163149.jpeg  \n",
            "  inflating: train/virus/90526300.jpeg  \n",
            "  inflating: train/virus/9116640.jpeg  \n",
            "  inflating: train/virus/92652135.jpeg  \n",
            "  inflating: train/virus/93343482.jpeg  \n",
            "  inflating: train/virus/94461150.jpeg  \n",
            "  inflating: train/virus/9574747.jpeg  \n",
            "  inflating: train/virus/96894393.jpeg  \n",
            "  inflating: train/virus/97192603.jpeg  \n"
          ]
        }
      ],
      "source": [
        "!unzip copy-of-shai-level-2-training.zip"
      ]
    },
    {
      "cell_type": "code",
      "execution_count": null,
      "metadata": {
        "id": "yzrzeF-PTB7Z"
      },
      "outputs": [],
      "source": [
        "import shutil"
      ]
    },
    {
      "cell_type": "code",
      "execution_count": null,
      "metadata": {
        "id": "-XleooGgab24"
      },
      "outputs": [],
      "source": [
        "import pandas as pd\n",
        "\n",
        "train_df = pd.read_csv('/content/drive/MyDrive/CNN/train.csv')"
      ]
    },
    {
      "cell_type": "code",
      "execution_count": null,
      "metadata": {
        "colab": {
          "base_uri": "https://localhost:8080/"
        },
        "id": "WkDaFB0balJz",
        "outputId": "20892d2e-8a53-49eb-95a8-3f7aa39632ce"
      },
      "outputs": [
        {
          "output_type": "execute_result",
          "data": {
            "text/plain": [
              "Label\n",
              "normal    468\n",
              "virus     433\n",
              "covid     295\n",
              "Name: count, dtype: int64"
            ]
          },
          "metadata": {},
          "execution_count": 4
        }
      ],
      "source": [
        "train_df['Label'].value_counts()"
      ]
    },
    {
      "cell_type": "code",
      "execution_count": null,
      "metadata": {
        "colab": {
          "base_uri": "https://localhost:8080/"
        },
        "id": "qEhNbc5YT1QJ",
        "outputId": "1c90db55-ab83-4093-990c-b01392fb11ac"
      },
      "outputs": [
        {
          "output_type": "stream",
          "name": "stdout",
          "text": [
            "<class 'pandas.core.frame.DataFrame'>\n",
            "RangeIndex: 1196 entries, 0 to 1195\n",
            "Data columns (total 2 columns):\n",
            " #   Column  Non-Null Count  Dtype \n",
            "---  ------  --------------  ----- \n",
            " 0   Image   1196 non-null   object\n",
            " 1   Label   1196 non-null   object\n",
            "dtypes: object(2)\n",
            "memory usage: 18.8+ KB\n"
          ]
        }
      ],
      "source": [
        "train_df.info()"
      ]
    },
    {
      "cell_type": "code",
      "execution_count": null,
      "metadata": {
        "colab": {
          "base_uri": "https://localhost:8080/"
        },
        "id": "H1TO_q-mT32l",
        "outputId": "a8173b74-fc86-4c5e-829d-8435827f3fcd"
      },
      "outputs": [
        {
          "output_type": "execute_result",
          "data": {
            "text/plain": [
              "(1196, 2)"
            ]
          },
          "metadata": {},
          "execution_count": 6
        }
      ],
      "source": [
        "train_df.shape"
      ]
    },
    {
      "cell_type": "markdown",
      "metadata": {
        "id": "9LzkvBASc0Sx"
      },
      "source": [
        "#Create folders for storeing data"
      ]
    },
    {
      "cell_type": "code",
      "execution_count": null,
      "metadata": {
        "id": "5AejQQ_uTG0Q"
      },
      "outputs": [],
      "source": [
        "import os\n",
        "\n",
        "\n",
        "# The path to the directory where the original\n",
        "# dataset was uncompressed\n",
        "#original_dataset_dir = 'copy-of-shai-level-2-training'\n",
        "\n",
        "# The directory where we will\n",
        "# store our smaller dataset\n",
        "base_dir = '/content/drive/MyDrive/CNN'\n",
        "\n",
        "try:\n",
        "  os.mkdir(base_dir)\n",
        "except:\n",
        "  pass\n",
        "'''\n",
        "# Directories for our training and validation data\n",
        "train_dir = os.path.join(base_dir, 'train')\n",
        "try:\n",
        "  os.mkdir(train_dir)\n",
        "except:\n",
        "  pass'''\n",
        "\n",
        "############################################################################\n",
        "\n",
        "validation_dir = os.path.join(base_dir, 'validation')\n",
        "try:\n",
        "  os.mkdir(validation_dir)\n",
        "except:\n",
        "  pass\n",
        "\n",
        "############################################################################\n",
        "'''\n",
        "test_dir = os.path.join(base_dir, 'test')\n",
        "try:\n",
        "  os.mkdir(test_dir)\n",
        "except:\n",
        "  pass'''\n",
        "\n",
        "############################################################################\n",
        "'''\n",
        "# Directory with our \"training covid\" pictures\n",
        "train_covid_dir = os.path.join(train_dir, 'covid')\n",
        "try:\n",
        "  os.mkdir(train_covid_dir)\n",
        "except:\n",
        "  pass\n",
        "\n",
        "# Directory with our \"training normal\" pictures\n",
        "train_normal_dir = os.path.join(train_dir, 'normal')\n",
        "try:\n",
        "  os.mkdir(train_normal_dir)\n",
        "except:\n",
        "  pass\n",
        "\n",
        "# Directory with our \"training virus\" pictures\n",
        "train_virus_dir = os.path.join(train_dir, 'virus')\n",
        "try:\n",
        "  os.mkdir(train_virus_dir)\n",
        "except:\n",
        "  pass\n",
        "\n",
        "'''\n",
        "\n",
        "############################################################################\n",
        "\n",
        "# Directory with our \"validation covid\" pictures\n",
        "validation_covid_dir = os.path.join(validation_dir, 'covid')\n",
        "try:\n",
        "  os.mkdir(validation_covid_dir)\n",
        "except:\n",
        "  pass\n",
        "\n",
        "\n",
        "\n",
        "# Directory with our \"validation normal\" pictures\n",
        "validation_normal_dir = os.path.join(validation_dir, 'normal')\n",
        "try:\n",
        "  os.mkdir(validation_normal_dir)\n",
        "except:\n",
        "  pass\n",
        "\n",
        "\n",
        "# Directory with our \"validation virus\" pictures\n",
        "validation_virus_dir = os.path.join(validation_dir, 'virus')\n",
        "try:\n",
        "  os.mkdir(validation_virus_dir)\n",
        "except:\n",
        "  pass\n",
        "\n",
        "\n"
      ]
    },
    {
      "cell_type": "markdown",
      "metadata": {
        "id": "SvOxdUn2Vvcf"
      },
      "source": [
        "# Load the data into new folders"
      ]
    },
    {
      "cell_type": "code",
      "execution_count": null,
      "metadata": {
        "id": "gPdflv1kTI0C",
        "colab": {
          "base_uri": "https://localhost:8080/",
          "height": 72
        },
        "outputId": "60aa4ba6-ff1d-4224-86d5-b12493467240"
      },
      "outputs": [
        {
          "output_type": "execute_result",
          "data": {
            "text/plain": [
              "'\\nsource_folder = \"/content/train/covid\"\\ndestination_folder = train_covid_dir\\n\\nfile_path_type = [\"*.jpg\", \"*.jpeg\", \"*.png\"]\\n\\nimages = []\\nfor file_pattern in file_path_type:\\n    images.extend(glob.glob(os.path.join(source_folder, file_pattern)))\\n\\nrandom.shuffle(images)\\n\\nfor image_path in images[:236]:\\n    filename = os.path.basename(image_path)\\n    destination_path = os.path.join(destination_folder, filename)\\n    os.rename(image_path, destination_path) '"
            ],
            "application/vnd.google.colaboratory.intrinsic+json": {
              "type": "string"
            }
          },
          "metadata": {},
          "execution_count": 45
        }
      ],
      "source": [
        "import glob, random\n",
        "\n",
        "'''\n",
        "source_folder = \"/content/train/covid\"\n",
        "destination_folder = train_covid_dir\n",
        "\n",
        "file_path_type = [\"*.jpg\", \"*.jpeg\", \"*.png\"]\n",
        "\n",
        "images = []\n",
        "for file_pattern in file_path_type:\n",
        "    images.extend(glob.glob(os.path.join(source_folder, file_pattern)))\n",
        "\n",
        "random.shuffle(images)\n",
        "\n",
        "for image_path in images[:236]:\n",
        "    filename = os.path.basename(image_path)\n",
        "    destination_path = os.path.join(destination_folder, filename)\n",
        "    os.rename(image_path, destination_path) '''"
      ]
    },
    {
      "cell_type": "code",
      "execution_count": null,
      "metadata": {
        "colab": {
          "base_uri": "https://localhost:8080/"
        },
        "id": "kLxO7q3HTRNm",
        "outputId": "3cd07e07-7ff4-4fab-a359-812326786186"
      },
      "outputs": [
        {
          "output_type": "execute_result",
          "data": {
            "text/plain": [
              "400"
            ]
          },
          "metadata": {},
          "execution_count": 49
        }
      ],
      "source": [
        "len(os.listdir(train_covid_dir))"
      ]
    },
    {
      "cell_type": "code",
      "execution_count": null,
      "metadata": {
        "id": "jRp30lN8TULo"
      },
      "outputs": [],
      "source": [
        "source_folder = train_covid_dir\n",
        "destination_folder = validation_covid_dir\n",
        "\n",
        "file_path_type = ['*.png', '*.jpg', '*.jpeg', '*.tiff', '*.bmp', '*.gif']\n",
        "\n",
        "images = []\n",
        "for file_pattern in file_path_type:\n",
        "    images.extend(glob.glob(os.path.join(source_folder, file_pattern)))\n",
        "\n",
        "random.shuffle(images)\n",
        "\n",
        "for image_path in images[:100]:\n",
        "    filename = os.path.basename(image_path)\n",
        "    destination_path = os.path.join(destination_folder, filename)\n",
        "    os.rename(image_path, destination_path)"
      ]
    },
    {
      "cell_type": "code",
      "execution_count": null,
      "metadata": {
        "colab": {
          "base_uri": "https://localhost:8080/"
        },
        "id": "WXLbmusmTW7I",
        "outputId": "8272e3b4-cc15-4840-820c-0e801a00411a"
      },
      "outputs": [
        {
          "output_type": "execute_result",
          "data": {
            "text/plain": [
              "100"
            ]
          },
          "metadata": {},
          "execution_count": 48
        }
      ],
      "source": [
        "len(os.listdir(validation_covid_dir))"
      ]
    },
    {
      "cell_type": "code",
      "execution_count": null,
      "metadata": {
        "id": "tZBnG6zITnPx"
      },
      "outputs": [],
      "source": [
        "'''source_folder = \"/content/train/normal\"\n",
        "destination_folder = train_normal_dir\n",
        "\n",
        "file_path_type = [\"*.jpg\", \"*.jpeg\", \"*.png\"]\n",
        "\n",
        "images = []\n",
        "for file_pattern in file_path_type:\n",
        "    images.extend(glob.glob(os.path.join(source_folder, file_pattern)))\n",
        "\n",
        "random.shuffle(images)\n",
        "\n",
        "for image_path in images[:389]:\n",
        "    filename = os.path.basename(image_path)\n",
        "    destination_path = os.path.join(destination_folder, filename)\n",
        "    os.rename(image_path, destination_path)'''"
      ]
    },
    {
      "cell_type": "code",
      "execution_count": null,
      "metadata": {
        "colab": {
          "base_uri": "https://localhost:8080/"
        },
        "id": "Xwe1HVoXT-4B",
        "outputId": "4fb64d9b-0082-436a-9cfc-f36557ec6459"
      },
      "outputs": [
        {
          "output_type": "execute_result",
          "data": {
            "text/plain": [
              "400"
            ]
          },
          "metadata": {},
          "execution_count": 56
        }
      ],
      "source": [
        "len(os.listdir(train_normal_dir))"
      ]
    },
    {
      "cell_type": "code",
      "execution_count": null,
      "metadata": {
        "id": "mfD3jHlyT_j_"
      },
      "outputs": [],
      "source": [
        "source_folder = train_normal_dir\n",
        "destination_folder = validation_normal_dir\n",
        "\n",
        "file_path_type = ['*.png', '*.jpg', '*.jpeg', '*.tiff', '*.bmp', '*.gif']\n",
        "\n",
        "images = []\n",
        "for file_pattern in file_path_type:\n",
        "    images.extend(glob.glob(os.path.join(source_folder, file_pattern)))\n",
        "\n",
        "random.shuffle(images)\n",
        "\n",
        "for image_path in images[:21]:\n",
        "    filename = os.path.basename(image_path)\n",
        "    destination_path = os.path.join(destination_folder, filename)\n",
        "    os.rename(image_path, destination_path)"
      ]
    },
    {
      "cell_type": "code",
      "execution_count": null,
      "metadata": {
        "colab": {
          "base_uri": "https://localhost:8080/"
        },
        "id": "Tyxkk35dUU-S",
        "outputId": "836fceb9-4712-42c3-ed34-adc6f19bcb1e"
      },
      "outputs": [
        {
          "output_type": "execute_result",
          "data": {
            "text/plain": [
              "100"
            ]
          },
          "metadata": {},
          "execution_count": 55
        }
      ],
      "source": [
        "len(os.listdir(validation_normal_dir))"
      ]
    },
    {
      "cell_type": "code",
      "execution_count": null,
      "metadata": {
        "id": "BqfwTlrDUtwQ"
      },
      "outputs": [],
      "source": [
        "'''source_folder = \"/content/train/virus\"\n",
        "destination_folder = train_virus_dir\n",
        "\n",
        "file_path_type = [\"*.jpg\", \"*.jpeg\", \"*.png\"]\n",
        "\n",
        "images = []\n",
        "for file_pattern in file_path_type:\n",
        "    images.extend(glob.glob(os.path.join(source_folder, file_pattern)))\n",
        "\n",
        "random.shuffle(images)\n",
        "\n",
        "for image_path in images[:346]:\n",
        "    filename = os.path.basename(image_path)\n",
        "    destination_path = os.path.join(destination_folder, filename)\n",
        "    os.rename(image_path, destination_path)'''"
      ]
    },
    {
      "cell_type": "code",
      "execution_count": null,
      "metadata": {
        "colab": {
          "base_uri": "https://localhost:8080/"
        },
        "id": "XR1kG5T6VHAe",
        "outputId": "aa7759bf-82dc-411c-eb84-d81298a540ef"
      },
      "outputs": [
        {
          "output_type": "execute_result",
          "data": {
            "text/plain": [
              "400"
            ]
          },
          "metadata": {},
          "execution_count": 60
        }
      ],
      "source": [
        "len(os.listdir(train_virus_dir))"
      ]
    },
    {
      "cell_type": "code",
      "execution_count": null,
      "metadata": {
        "id": "9T9WlTkvVKfF"
      },
      "outputs": [],
      "source": [
        "source_folder = train_virus_dir\n",
        "destination_folder = validation_virus_dir\n",
        "\n",
        "file_path_type = ['*.png', '*.jpg', '*.jpeg', '*.tiff', '*.bmp', '*.gif']\n",
        "\n",
        "images = []\n",
        "for file_pattern in file_path_type:\n",
        "    images.extend(glob.glob(os.path.join(source_folder, file_pattern)))\n",
        "\n",
        "random.shuffle(images)\n",
        "\n",
        "for image_path in images[:100]:\n",
        "    filename = os.path.basename(image_path)\n",
        "    destination_path = os.path.join(destination_folder, filename)\n",
        "    os.rename(image_path, destination_path)"
      ]
    },
    {
      "cell_type": "code",
      "execution_count": null,
      "metadata": {
        "colab": {
          "base_uri": "https://localhost:8080/"
        },
        "id": "tER6mDEDU8cW",
        "outputId": "3ceeb5ff-0ddb-4ef4-f903-3cb5f32a172f"
      },
      "outputs": [
        {
          "output_type": "execute_result",
          "data": {
            "text/plain": [
              "100"
            ]
          },
          "metadata": {},
          "execution_count": 59
        }
      ],
      "source": [
        "len(os.listdir(validation_virus_dir))"
      ]
    },
    {
      "cell_type": "code",
      "execution_count": null,
      "metadata": {
        "id": "OV_E6zMIeI-E"
      },
      "outputs": [],
      "source": [
        "source_folder = \"/content/test\"\n",
        "destination_folder = test_dir\n",
        "\n",
        "file_path_type = [\"*.jpg\", \"*.jpeg\", \"*.png\"]\n",
        "\n",
        "images = []\n",
        "for file_pattern in file_path_type:\n",
        "    images.extend(glob.glob(os.path.join(source_folder, file_pattern)))\n",
        "\n",
        "random.shuffle(images)\n",
        "\n",
        "for image_path in images:\n",
        "    filename = os.path.basename(image_path)\n",
        "    destination_path = os.path.join(destination_folder, filename)\n",
        "    os.rename(image_path, destination_path)"
      ]
    },
    {
      "cell_type": "code",
      "execution_count": null,
      "metadata": {
        "colab": {
          "base_uri": "https://localhost:8080/"
        },
        "id": "stTKxMh7eJBD",
        "outputId": "2f6190c2-dc6d-4e27-8b5d-0d034be49e4e"
      },
      "outputs": [
        {
          "data": {
            "text/plain": [
              "513"
            ]
          },
          "execution_count": 24,
          "metadata": {},
          "output_type": "execute_result"
        }
      ],
      "source": [
        "len(os.listdir(test_dir))"
      ]
    },
    {
      "cell_type": "markdown",
      "source": [
        "### Make the dataset balance"
      ],
      "metadata": {
        "id": "uASf1ZDaK3fZ"
      }
    },
    {
      "cell_type": "code",
      "source": [
        "train_dir = \"/content/drive/MyDrive/CNN/train\""
      ],
      "metadata": {
        "id": "6jt1mx0tXMoG"
      },
      "execution_count": null,
      "outputs": []
    },
    {
      "cell_type": "markdown",
      "metadata": {
        "id": "Y95nVHYYWGb4"
      },
      "source": [
        "# preprocessing the data"
      ]
    },
    {
      "cell_type": "code",
      "source": [
        "\n",
        "from tensorflow.keras.preprocessing.image import ImageDataGenerator, img_to_array, load_img\n",
        "\n",
        "# ImageDataGenerator with augmentation for training and rescaling for validation\n",
        "train_datagen = ImageDataGenerator(\n",
        "    rescale=1./255,\n",
        "    rotation_range=40,\n",
        "    width_shift_range=0.2,\n",
        "    height_shift_range=0.2,\n",
        "    shear_range=0.2,\n",
        "    zoom_range=0.2,\n",
        "    horizontal_flip=True,\n",
        "    fill_mode='nearest'\n",
        ")\n",
        "\n",
        "validation_datagen = ImageDataGenerator(rescale=1./255)\n",
        "\n",
        "# Create data generators\n",
        "train_generator = train_datagen.flow_from_directory(\n",
        "    train_dir,\n",
        "    target_size=(224, 224),  # Use 224x224 for EfficientNetB0\n",
        "    batch_size=32,\n",
        "    class_mode='categorical'\n",
        ")\n",
        "\n",
        "validation_generator = validation_datagen.flow_from_directory(\n",
        "    validation_dir,\n",
        "    target_size=(224, 224),  # Use 224x224 for EfficientNetB0\n",
        "    batch_size=32,\n",
        "    class_mode='categorical',\n",
        "    shuffle=False\n",
        "\n",
        ")\n"
      ],
      "metadata": {
        "colab": {
          "base_uri": "https://localhost:8080/"
        },
        "id": "NwWWr2d3Ovcl",
        "outputId": "7e6eb859-4400-49b5-bdd1-55e287e3e2f4"
      },
      "execution_count": null,
      "outputs": [
        {
          "output_type": "stream",
          "name": "stdout",
          "text": [
            "Found 1200 images belonging to 3 classes.\n",
            "Found 300 images belonging to 3 classes.\n"
          ]
        }
      ]
    },
    {
      "cell_type": "code",
      "execution_count": null,
      "metadata": {
        "colab": {
          "base_uri": "https://localhost:8080/"
        },
        "id": "cKsjv_KtZ9kL",
        "outputId": "76cfc5c6-cc64-4b9b-9a74-84ac4a2b111f"
      },
      "outputs": [
        {
          "output_type": "stream",
          "name": "stdout",
          "text": [
            "{'covid': 0, 'normal': 1, 'virus': 2}\n"
          ]
        }
      ],
      "source": [
        "print(train_generator.class_indices)"
      ]
    },
    {
      "cell_type": "code",
      "execution_count": null,
      "metadata": {
        "colab": {
          "base_uri": "https://localhost:8080/"
        },
        "id": "HdpM74sMaBPl",
        "outputId": "4bde0704-7d81-4aa0-8d97-b68a28e7ac5a"
      },
      "outputs": [
        {
          "output_type": "stream",
          "name": "stdout",
          "text": [
            "{'covid': 0, 'normal': 1, 'virus': 2}\n"
          ]
        }
      ],
      "source": [
        "print(validation_generator.class_indices)"
      ]
    },
    {
      "cell_type": "code",
      "execution_count": null,
      "metadata": {
        "colab": {
          "base_uri": "https://localhost:8080/"
        },
        "id": "hCAUQIU7dh8S",
        "outputId": "abde7026-5f55-45f6-a3a0-fcb904a9ccac"
      },
      "outputs": [
        {
          "output_type": "stream",
          "name": "stdout",
          "text": [
            "38\n"
          ]
        }
      ],
      "source": [
        "print(len(train_generator))"
      ]
    },
    {
      "cell_type": "code",
      "execution_count": null,
      "metadata": {
        "colab": {
          "base_uri": "https://localhost:8080/"
        },
        "id": "wiHVkFaIdY18",
        "outputId": "993eab5f-60c8-4a39-b6a3-00a77fcba5d0"
      },
      "outputs": [
        {
          "output_type": "stream",
          "name": "stdout",
          "text": [
            "10\n"
          ]
        }
      ],
      "source": [
        "print(len(validation_generator))"
      ]
    },
    {
      "cell_type": "markdown",
      "metadata": {
        "id": "1-HjX2kxdoTv"
      },
      "source": [
        "# Get a batch of images and labels"
      ]
    },
    {
      "cell_type": "code",
      "execution_count": null,
      "metadata": {
        "id": "muZ6L0syX7No"
      },
      "outputs": [],
      "source": [
        "\n",
        "images, labels = next(train_generator)\n"
      ]
    },
    {
      "cell_type": "code",
      "execution_count": null,
      "metadata": {
        "colab": {
          "base_uri": "https://localhost:8080/"
        },
        "id": "XtlC2_Xnbbqm",
        "outputId": "529739f8-4501-4b77-d072-bdc29fff0178"
      },
      "outputs": [
        {
          "output_type": "execute_result",
          "data": {
            "text/plain": [
              "((32, 224, 224, 3), (32, 3))"
            ]
          },
          "metadata": {},
          "execution_count": 15
        }
      ],
      "source": [
        "images.shape, labels.shape"
      ]
    },
    {
      "cell_type": "code",
      "execution_count": null,
      "metadata": {
        "colab": {
          "base_uri": "https://localhost:8080/"
        },
        "id": "_6fwHbTib9kt",
        "outputId": "7ac33256-029b-497b-84f5-9ca139396a63"
      },
      "outputs": [
        {
          "output_type": "execute_result",
          "data": {
            "text/plain": [
              "(array([0., 1., 0.], dtype=float32),\n",
              " array([1., 0., 0.], dtype=float32),\n",
              " array([0., 0., 1.], dtype=float32))"
            ]
          },
          "metadata": {},
          "execution_count": 16
        }
      ],
      "source": [
        "# [0,0,1] ==> normal\n",
        "# [0,1,0] ==> virus\n",
        "# [1,0,0] ==>covid\n",
        "\n",
        "labels[0], labels[12], labels[9]"
      ]
    },
    {
      "cell_type": "code",
      "execution_count": null,
      "metadata": {
        "colab": {
          "base_uri": "https://localhost:8080/"
        },
        "id": "q3lTw3C7bb4t",
        "outputId": "ac2d39a4-034b-42e8-f3e8-94cc181530ed"
      },
      "outputs": [
        {
          "output_type": "stream",
          "name": "stdout",
          "text": [
            "Image matrix:\n",
            " [[[0.2797652  0.2797652  0.2797652 ]\n",
            "  [0.35914245 0.35914245 0.35914245]\n",
            "  [0.34234357 0.34234357 0.34234357]\n",
            "  ...\n",
            "  [0.         0.         0.        ]\n",
            "  [0.         0.         0.        ]\n",
            "  [0.         0.         0.        ]]\n",
            "\n",
            " [[0.24470998 0.24470998 0.24470998]\n",
            "  [0.32408726 0.32408726 0.32408726]\n",
            "  [0.36162394 0.36162394 0.36162394]\n",
            "  ...\n",
            "  [0.         0.         0.        ]\n",
            "  [0.         0.         0.        ]\n",
            "  [0.         0.         0.        ]]\n",
            "\n",
            " [[0.22508205 0.22508205 0.22508205]\n",
            "  [0.28903207 0.28903207 0.28903207]\n",
            "  [0.36840934 0.36840934 0.36840934]\n",
            "  ...\n",
            "  [0.         0.         0.        ]\n",
            "  [0.         0.         0.        ]\n",
            "  [0.         0.         0.        ]]\n",
            "\n",
            " ...\n",
            "\n",
            " [[0.         0.         0.        ]\n",
            "  [0.         0.         0.        ]\n",
            "  [0.         0.         0.        ]\n",
            "  ...\n",
            "  [0.5764706  0.5764706  0.5764706 ]\n",
            "  [0.56599844 0.56599844 0.56599844]\n",
            "  [0.5261347  0.5261347  0.5261347 ]]\n",
            "\n",
            " [[0.         0.         0.        ]\n",
            "  [0.         0.         0.        ]\n",
            "  [0.         0.         0.        ]\n",
            "  ...\n",
            "  [0.5764706  0.5764706  0.5764706 ]\n",
            "  [0.57300943 0.57300943 0.57300943]\n",
            "  [0.5489207  0.5489207  0.5489207 ]]\n",
            "\n",
            " [[0.         0.         0.        ]\n",
            "  [0.         0.         0.        ]\n",
            "  [0.         0.         0.        ]\n",
            "  ...\n",
            "  [0.5802097  0.5802097  0.5802097 ]\n",
            "  [0.5764706  0.5764706  0.5764706 ]\n",
            "  [0.564145   0.564145   0.564145  ]]]\n",
            "Image shape: (224, 224, 3)\n"
          ]
        }
      ],
      "source": [
        "print(\"Image matrix:\\n\", images[0])\n",
        "print(\"Image shape:\", images[0].shape)\n"
      ]
    },
    {
      "cell_type": "markdown",
      "metadata": {
        "id": "j3cVI-dDaItO"
      },
      "source": [
        "#### every image defined from 150 rows, evrey row contain 150 column (pixcel), evrey pixcel defined from 3 color chanels"
      ]
    },
    {
      "cell_type": "code",
      "execution_count": null,
      "metadata": {
        "colab": {
          "base_uri": "https://localhost:8080/"
        },
        "id": "73dicEQFYofN",
        "outputId": "922a6a2f-c10d-4d15-d1d7-7688a10dfa6b"
      },
      "outputs": [
        {
          "output_type": "execute_result",
          "data": {
            "text/plain": [
              "32"
            ]
          },
          "metadata": {},
          "execution_count": 18
        }
      ],
      "source": [
        "len(images)"
      ]
    },
    {
      "cell_type": "code",
      "execution_count": null,
      "metadata": {
        "colab": {
          "base_uri": "https://localhost:8080/",
          "height": 452
        },
        "id": "lBkOkd1KYzvw",
        "outputId": "0aed8af3-0b36-4abe-8e57-da1080b08586"
      },
      "outputs": [
        {
          "output_type": "display_data",
          "data": {
            "text/plain": [
              "<Figure size 640x480 with 1 Axes>"
            ],
            "image/png": "[encoded data removed]"
          },
          "metadata": {}
        }
      ],
      "source": [
        "import matplotlib.pyplot as plt\n",
        "\n",
        "plt.imshow(images[0])\n",
        "plt.title(f\"Label: {labels[0]}\")\n",
        "plt.show()"
      ]
    },
    {
      "cell_type": "code",
      "execution_count": null,
      "metadata": {
        "colab": {
          "base_uri": "https://localhost:8080/",
          "height": 452
        },
        "id": "M29MHt1tZG7x",
        "outputId": "5ec4b2e4-f6d1-4259-80d6-22045e1e6c8b"
      },
      "outputs": [
        {
          "output_type": "display_data",
          "data": {
            "text/plain": [
              "<Figure size 640x480 with 1 Axes>"
            ],
            "image/png": "[encoded data removed]"
          },
          "metadata": {}
        }
      ],
      "source": [
        "plt.imshow(images[12])\n",
        "plt.title(f\"Label: {labels[12]}\")\n",
        "plt.show()"
      ]
    },
    {
      "cell_type": "code",
      "execution_count": null,
      "metadata": {
        "colab": {
          "base_uri": "https://localhost:8080/",
          "height": 452
        },
        "id": "6JET-ALjdHWq",
        "outputId": "dd8a65c5-5332-40bb-9293-78f55bef6cd3"
      },
      "outputs": [
        {
          "output_type": "display_data",
          "data": {
            "text/plain": [
              "<Figure size 640x480 with 1 Axes>"
            ],
            "image/png": "[encoded data removed]"
          },
          "metadata": {}
        }
      ],
      "source": [
        "plt.imshow(images[9])\n",
        "plt.title(f\"Label: {labels[9]}\")\n",
        "plt.show()"
      ]
    },
    {
      "cell_type": "markdown",
      "metadata": {
        "id": "4gE3gYPJWGb6"
      },
      "source": [
        "# Building and evaluate models"
      ]
    },
    {
      "cell_type": "markdown",
      "metadata": {
        "id": "tfCcrlsQeuud"
      },
      "source": [
        "### 1) Multi classification model"
      ]
    },
    {
      "cell_type": "code",
      "execution_count": null,
      "metadata": {
        "id": "7rG7cUvJe0iR"
      },
      "outputs": [],
      "source": [
        "import numpy as np\n",
        "import tensorflow as tf\n",
        "from tensorflow.keras.models import Sequential\n",
        "from tensorflow.keras.layers import Conv2D, MaxPooling2D, Flatten, Dense, Dropout\n",
        "from tensorflow.keras import layers, models\n",
        "from sklearn.metrics import f1_score"
      ]
    },
    {
      "cell_type": "code",
      "execution_count": null,
      "metadata": {
        "id": "kfSDp55WaKPh"
      },
      "outputs": [],
      "source": [
        "\n",
        "input_shape = (224, 224, 3)  # Use 224x224 for EfficientNetB0\n",
        "\n",
        "num_classes = 3\n",
        "\n",
        "model = models.Sequential([\n",
        "        layers.Conv2D(32, (3, 3), activation='relu', input_shape=input_shape),\n",
        "        layers.MaxPooling2D((2, 2)),\n",
        "        layers.Conv2D(64, (3, 3), activation='relu'),\n",
        "        layers.MaxPooling2D((2, 2)),\n",
        "        layers.Conv2D(128, (3, 3), activation='relu'),\n",
        "        layers.MaxPooling2D((2, 2)),\n",
        "        layers.Conv2D(128, (3, 3), activation='relu'),\n",
        "        layers.MaxPooling2D((2, 2)),\n",
        "        layers.Flatten(),\n",
        "        layers.Dense(512, activation='relu'),\n",
        "        layers.Dense(num_classes, activation='softmax')\n",
        "    ])\n",
        "\n",
        "model.compile(optimizer='adam',\n",
        "                  loss='categorical_crossentropy',\n",
        "                  metrics=['accuracy'])\n"
      ]
    },
    {
      "cell_type": "code",
      "execution_count": null,
      "metadata": {
        "colab": {
          "base_uri": "https://localhost:8080/"
        },
        "id": "UQAdoxieg-tA",
        "outputId": "3bdce995-276a-4734-fec1-b0274571bf81"
      },
      "outputs": [
        {
          "output_type": "stream",
          "name": "stdout",
          "text": [
            "Model: \"sequential_2\"\n",
            "_________________________________________________________________\n",
            " Layer (type)                Output Shape              Param #   \n",
            "=================================================================\n",
            " conv2d_8 (Conv2D)           (None, 222, 222, 32)      896       \n",
            "                                                                 \n",
            " max_pooling2d_8 (MaxPoolin  (None, 111, 111, 32)      0         \n",
            " g2D)                                                            \n",
            "                                                                 \n",
            " conv2d_9 (Conv2D)           (None, 109, 109, 64)      18496     \n",
            "                                                                 \n",
            " max_pooling2d_9 (MaxPoolin  (None, 54, 54, 64)        0         \n",
            " g2D)                                                            \n",
            "                                                                 \n",
            " conv2d_10 (Conv2D)          (None, 52, 52, 128)       73856     \n",
            "                                                                 \n",
            " max_pooling2d_10 (MaxPooli  (None, 26, 26, 128)       0         \n",
            " ng2D)                                                           \n",
            "                                                                 \n",
            " conv2d_11 (Conv2D)          (None, 24, 24, 128)       147584    \n",
            "                                                                 \n",
            " max_pooling2d_11 (MaxPooli  (None, 12, 12, 128)       0         \n",
            " ng2D)                                                           \n",
            "                                                                 \n",
            " flatten_2 (Flatten)         (None, 18432)             0         \n",
            "                                                                 \n",
            " dense_4 (Dense)             (None, 512)               9437696   \n",
            "                                                                 \n",
            " dense_5 (Dense)             (None, 3)                 1539      \n",
            "                                                                 \n",
            "=================================================================\n",
            "Total params: 9680067 (36.93 MB)\n",
            "Trainable params: 9680067 (36.93 MB)\n",
            "Non-trainable params: 0 (0.00 Byte)\n",
            "_________________________________________________________________\n"
          ]
        }
      ],
      "source": [
        "model.summary()"
      ]
    },
    {
      "cell_type": "code",
      "source": [
        "from tensorflow.keras.callbacks import ModelCheckpoint\n",
        "import tensorflow as tf"
      ],
      "metadata": {
        "id": "CmpA-aLOZpNp"
      },
      "execution_count": null,
      "outputs": []
    },
    {
      "cell_type": "code",
      "source": [
        "checkpoint_callback = ModelCheckpoint(\n",
        "    filepath='/content/drive/MyDrive/CNN/models/best_model.h5',  # Filepath to save the model\n",
        "    monitor='val_loss',  # Metric to monitor\n",
        "    save_best_only=True,  # Save only the best model\n",
        "    save_weights_only=False,  # Save the full model\n",
        "    mode='min',  # Save the model with the minimum value of the monitored metric\n",
        "    verbose=1  # Verbosity mode, 0 or 1\n",
        ")"
      ],
      "metadata": {
        "id": "AZYHZ1eRYZZy"
      },
      "execution_count": null,
      "outputs": []
    },
    {
      "cell_type": "code",
      "execution_count": null,
      "metadata": {
        "colab": {
          "base_uri": "https://localhost:8080/"
        },
        "id": "XpO1RPsPil42",
        "outputId": "1ec36c62-715b-40da-db28-8b66123405ec",
        "scrolled": true
      },
      "outputs": [
        {
          "output_type": "stream",
          "name": "stdout",
          "text": [
            "Epoch 1/15\n",
            "31/31 [==============================] - ETA: 0s - loss: 1.1076 - accuracy: 0.4150\n",
            "Epoch 1: val_loss improved from inf to 0.86164, saving model to /content/drive/MyDrive/CNN/models/best_model.h5\n",
            "31/31 [==============================] - 348s 11s/step - loss: 1.1076 - accuracy: 0.4150 - val_loss: 0.8616 - val_accuracy: 0.5956\n",
            "Epoch 2/15\n"
          ]
        },
        {
          "output_type": "stream",
          "name": "stderr",
          "text": [
            "/usr/local/lib/python3.10/dist-packages/keras/src/engine/training.py:3103: UserWarning: You are saving your model as an HDF5 file via `model.save()`. This file format is considered legacy. We recommend using instead the native Keras format, e.g. `model.save('my_model.keras')`.\n",
            "  saving_api.save_model(\n"
          ]
        },
        {
          "output_type": "stream",
          "name": "stdout",
          "text": [
            "31/31 [==============================] - ETA: 0s - loss: 0.8921 - accuracy: 0.5551\n",
            "Epoch 2: val_loss did not improve from 0.86164\n",
            "31/31 [==============================] - 70s 2s/step - loss: 0.8921 - accuracy: 0.5551 - val_loss: 0.8871 - val_accuracy: 0.5333\n",
            "Epoch 3/15\n",
            "31/31 [==============================] - ETA: 0s - loss: 0.7925 - accuracy: 0.6241\n",
            "Epoch 3: val_loss improved from 0.86164 to 0.61346, saving model to /content/drive/MyDrive/CNN/models/best_model.h5\n",
            "31/31 [==============================] - 69s 2s/step - loss: 0.7925 - accuracy: 0.6241 - val_loss: 0.6135 - val_accuracy: 0.6533\n",
            "Epoch 4/15\n",
            "31/31 [==============================] - ETA: 0s - loss: 0.7017 - accuracy: 0.6684\n",
            "Epoch 4: val_loss did not improve from 0.61346\n",
            "31/31 [==============================] - 70s 2s/step - loss: 0.7017 - accuracy: 0.6684 - val_loss: 0.7365 - val_accuracy: 0.5822\n",
            "Epoch 5/15\n",
            "31/31 [==============================] - ETA: 0s - loss: 0.6524 - accuracy: 0.7322\n",
            "Epoch 5: val_loss improved from 0.61346 to 0.47368, saving model to /content/drive/MyDrive/CNN/models/best_model.h5\n",
            "31/31 [==============================] - 70s 2s/step - loss: 0.6524 - accuracy: 0.7322 - val_loss: 0.4737 - val_accuracy: 0.8489\n",
            "Epoch 6/15\n",
            "31/31 [==============================] - ETA: 0s - loss: 0.5476 - accuracy: 0.7673\n",
            "Epoch 6: val_loss improved from 0.47368 to 0.41281, saving model to /content/drive/MyDrive/CNN/models/best_model.h5\n",
            "31/31 [==============================] - 71s 2s/step - loss: 0.5476 - accuracy: 0.7673 - val_loss: 0.4128 - val_accuracy: 0.8533\n",
            "Epoch 7/15\n",
            "31/31 [==============================] - ETA: 0s - loss: 0.5075 - accuracy: 0.7920\n",
            "Epoch 7: val_loss did not improve from 0.41281\n",
            "31/31 [==============================] - 69s 2s/step - loss: 0.5075 - accuracy: 0.7920 - val_loss: 0.4681 - val_accuracy: 0.7867\n",
            "Epoch 8/15\n",
            "31/31 [==============================] - ETA: 0s - loss: 0.5841 - accuracy: 0.7497\n",
            "Epoch 8: val_loss did not improve from 0.41281\n",
            "31/31 [==============================] - 72s 2s/step - loss: 0.5841 - accuracy: 0.7497 - val_loss: 0.4250 - val_accuracy: 0.8533\n",
            "Epoch 9/15\n",
            "31/31 [==============================] - ETA: 0s - loss: 0.5040 - accuracy: 0.8012\n",
            "Epoch 9: val_loss improved from 0.41281 to 0.36961, saving model to /content/drive/MyDrive/CNN/models/best_model.h5\n",
            "31/31 [==============================] - 75s 2s/step - loss: 0.5040 - accuracy: 0.8012 - val_loss: 0.3696 - val_accuracy: 0.8800\n",
            "Epoch 10/15\n",
            "31/31 [==============================] - ETA: 0s - loss: 0.4627 - accuracy: 0.8126\n",
            "Epoch 10: val_loss did not improve from 0.36961\n",
            "31/31 [==============================] - 69s 2s/step - loss: 0.4627 - accuracy: 0.8126 - val_loss: 0.4498 - val_accuracy: 0.7956\n",
            "Epoch 11/15\n",
            "31/31 [==============================] - ETA: 0s - loss: 0.4568 - accuracy: 0.8249\n",
            "Epoch 11: val_loss did not improve from 0.36961\n",
            "31/31 [==============================] - 68s 2s/step - loss: 0.4568 - accuracy: 0.8249 - val_loss: 0.3886 - val_accuracy: 0.8933\n",
            "Epoch 12/15\n",
            "31/31 [==============================] - ETA: 0s - loss: 0.3984 - accuracy: 0.8507\n",
            "Epoch 12: val_loss improved from 0.36961 to 0.36356, saving model to /content/drive/MyDrive/CNN/models/best_model.h5\n",
            "31/31 [==============================] - 71s 2s/step - loss: 0.3984 - accuracy: 0.8507 - val_loss: 0.3636 - val_accuracy: 0.9156\n",
            "Epoch 13/15\n",
            "31/31 [==============================] - ETA: 0s - loss: 0.3659 - accuracy: 0.8805\n",
            "Epoch 13: val_loss did not improve from 0.36356\n",
            "31/31 [==============================] - 68s 2s/step - loss: 0.3659 - accuracy: 0.8805 - val_loss: 0.4725 - val_accuracy: 0.8533\n",
            "Epoch 14/15\n",
            "31/31 [==============================] - ETA: 0s - loss: 0.4689 - accuracy: 0.8198\n",
            "Epoch 14: val_loss improved from 0.36356 to 0.29100, saving model to /content/drive/MyDrive/CNN/models/best_model.h5\n",
            "31/31 [==============================] - 74s 2s/step - loss: 0.4689 - accuracy: 0.8198 - val_loss: 0.2910 - val_accuracy: 0.9200\n",
            "Epoch 15/15\n",
            "31/31 [==============================] - ETA: 0s - loss: 0.3616 - accuracy: 0.8836\n",
            "Epoch 15: val_loss did not improve from 0.29100\n",
            "31/31 [==============================] - 72s 2s/step - loss: 0.3616 - accuracy: 0.8836 - val_loss: 0.4800 - val_accuracy: 0.8222\n"
          ]
        }
      ],
      "source": [
        "history = model.fit(\n",
        "    train_generator,\n",
        "    steps_per_epoch = 31,\n",
        "    epochs = 15,\n",
        "    validation_data = validation_generator,\n",
        "    validation_steps = 8,\n",
        "    callbacks=[checkpoint_callback]\n",
        ")\n"
      ]
    },
    {
      "cell_type": "code",
      "execution_count": null,
      "metadata": {
        "colab": {
          "base_uri": "https://localhost:8080/"
        },
        "id": "wIT9zFrch44T",
        "outputId": "582ede0a-86ed-4e11-89ba-7cfb67648347"
      },
      "outputs": [
        {
          "output_type": "stream",
          "name": "stdout",
          "text": [
            "8/8 [==============================] - 8s 957ms/step - loss: 0.4800 - accuracy: 0.8222\n"
          ]
        },
        {
          "output_type": "execute_result",
          "data": {
            "text/plain": [
              "[0.4799899160861969, 0.8222222328186035]"
            ]
          },
          "metadata": {},
          "execution_count": 39
        }
      ],
      "source": [
        "model.evaluate(validation_generator)"
      ]
    },
    {
      "cell_type": "code",
      "execution_count": null,
      "metadata": {
        "colab": {
          "base_uri": "https://localhost:8080/",
          "height": 887
        },
        "id": "zdXbZRYWZK8i",
        "outputId": "46a30f57-99f9-4cd3-eac9-69e8052ef3e0"
      },
      "outputs": [
        {
          "output_type": "display_data",
          "data": {
            "text/plain": [
              "<Figure size 640x480 with 1 Axes>"
            ],
            "image/png": "[encoded data removed]"
          },
          "metadata": {}
        },
        {
          "output_type": "display_data",
          "data": {
            "text/plain": [
              "<Figure size 640x480 with 1 Axes>"
            ],
            "image/png": "[encoded data removed]"
          },
          "metadata": {}
        }
      ],
      "source": [
        "\n",
        "acc = history.history['accuracy']\n",
        "val_acc = history.history['val_accuracy']\n",
        "loss = history.history['loss']\n",
        "val_loss = history.history['val_loss']\n",
        "\n",
        "epochs = range(len(acc))\n",
        "\n",
        "plt.plot(epochs, acc, 'bo', label='Training acc')\n",
        "plt.plot(epochs, val_acc, 'b', label='Validation acc')\n",
        "plt.title('Training and validation accuracy')\n",
        "plt.legend()\n",
        "\n",
        "plt.figure()\n",
        "\n",
        "plt.plot(epochs, loss, 'bo', label='Training loss')\n",
        "plt.plot(epochs, val_loss, 'b', label='Validation loss')\n",
        "plt.title('Training and validation loss')\n",
        "plt.legend()\n",
        "\n",
        "plt.show()"
      ]
    },
    {
      "cell_type": "code",
      "execution_count": null,
      "metadata": {
        "colab": {
          "base_uri": "https://localhost:8080/"
        },
        "id": "RjwfhYIeiqGi",
        "outputId": "de8c7fee-c46e-4729-eeeb-c839e96f11d8"
      },
      "outputs": [
        {
          "output_type": "stream",
          "name": "stdout",
          "text": [
            "8/8 [==============================] - 6s 687ms/step\n"
          ]
        }
      ],
      "source": [
        "preds = model.predict(validation_generator)"
      ]
    },
    {
      "cell_type": "code",
      "execution_count": null,
      "metadata": {
        "colab": {
          "base_uri": "https://localhost:8080/"
        },
        "id": "C2mPw9Lor1E3",
        "outputId": "7db0c584-5d2d-46cf-879f-cd4f33ebd65a"
      },
      "outputs": [
        {
          "output_type": "execute_result",
          "data": {
            "text/plain": [
              "array([[0.9803724 , 0.01091938, 0.00870804],\n",
              "       [0.97814286, 0.01799729, 0.00385978],\n",
              "       [0.9310075 , 0.05850155, 0.01049095]], dtype=float32)"
            ]
          },
          "metadata": {},
          "execution_count": 42
        }
      ],
      "source": [
        "preds[:3]"
      ]
    },
    {
      "cell_type": "code",
      "execution_count": null,
      "metadata": {
        "colab": {
          "base_uri": "https://localhost:8080/"
        },
        "id": "scmEwi97r40b",
        "outputId": "f73493fe-0c2d-45d0-d0b0-a5cc8d90a1c4"
      },
      "outputs": [
        {
          "output_type": "execute_result",
          "data": {
            "text/plain": [
              "225"
            ]
          },
          "metadata": {},
          "execution_count": 43
        }
      ],
      "source": [
        "len(preds)"
      ]
    },
    {
      "cell_type": "code",
      "execution_count": null,
      "metadata": {
        "id": "_lod9mx_oR7i"
      },
      "outputs": [],
      "source": [
        "predlabels = np.argmax(preds, axis = 1)"
      ]
    },
    {
      "cell_type": "code",
      "execution_count": null,
      "metadata": {
        "colab": {
          "base_uri": "https://localhost:8080/"
        },
        "id": "EV4xe9n9oZAq",
        "outputId": "1156d45b-5ad5-402b-c732-d8ec469aadf0"
      },
      "outputs": [
        {
          "output_type": "execute_result",
          "data": {
            "text/plain": [
              "(array([0, 0, 0, 0, 0, 0, 0, 0, 0, 0, 0, 0, 0, 0, 0, 0, 0, 0, 0, 0, 0, 0,\n",
              "        0, 0, 0, 0, 0, 0, 1, 1, 0, 0, 0, 0, 0, 0, 0, 0, 0, 0, 0, 0, 0, 0,\n",
              "        1, 0, 0, 0, 0, 0, 0, 0, 0, 0, 0, 0, 0, 0, 0, 1, 1, 1, 1, 1, 1, 1,\n",
              "        1, 1, 1, 1, 1, 1, 1, 1, 1, 1, 1, 1, 1, 1, 1, 1, 1, 1, 1, 1, 1, 1,\n",
              "        1, 1, 1, 1, 1, 1, 1, 1, 1, 1, 1, 1, 1, 1, 1, 1, 1, 1, 1, 1, 1, 1,\n",
              "        1, 1, 1, 1, 1, 1, 1, 1, 1, 1, 1, 1, 1, 1, 1, 1, 1, 1, 1, 1, 1, 1,\n",
              "        1, 1, 1, 1, 1, 1, 2, 2, 2, 1, 2, 1, 1, 2, 2, 2, 2, 1, 1, 2, 1, 2,\n",
              "        2, 1, 2, 1, 2, 1, 2, 2, 2, 1, 2, 2, 1, 1, 2, 2, 1, 1, 1, 1, 2, 1,\n",
              "        2, 1, 1, 1, 2, 1, 1, 2, 1, 0, 2, 2, 2, 1, 2, 1, 1, 2, 1, 2, 1, 2,\n",
              "        2, 1, 2, 2, 2, 2, 2, 2, 1, 2, 2, 2, 2, 2, 1, 2, 2, 1, 2, 2, 2, 2,\n",
              "        1, 1, 2, 1, 0]),\n",
              " (225,))"
            ]
          },
          "metadata": {},
          "execution_count": 45
        }
      ],
      "source": [
        "predlabels, predlabels.shape"
      ]
    },
    {
      "cell_type": "code",
      "execution_count": null,
      "metadata": {
        "id": "q1NRVxdvpBvh"
      },
      "outputs": [],
      "source": [
        "truelabels = validation_generator.classes"
      ]
    },
    {
      "cell_type": "code",
      "execution_count": null,
      "metadata": {
        "colab": {
          "base_uri": "https://localhost:8080/"
        },
        "id": "PQpcK0ctpI_l",
        "outputId": "aba49b12-aede-434a-d8ff-30b314aab95b"
      },
      "outputs": [
        {
          "output_type": "execute_result",
          "data": {
            "text/plain": [
              "array([0, 0, 0, 0, 0, 0, 0, 0, 0, 0, 0, 0, 0, 0, 0, 0, 0, 0, 0, 0, 0, 0,\n",
              "       0, 0, 0, 0, 0, 0, 0, 0, 0, 0, 0, 0, 0, 0, 0, 0, 0, 0, 0, 0, 0, 0,\n",
              "       0, 0, 0, 0, 0, 0, 0, 0, 0, 0, 0, 0, 0, 0, 0, 0, 0, 0, 0, 0, 0, 0,\n",
              "       0, 0, 0, 0, 0, 0, 0, 0, 0, 0, 0, 0, 0, 0, 0, 0, 0, 0, 0, 0, 0, 0,\n",
              "       0, 0, 0, 0, 0, 0, 0, 0, 0, 0, 0, 0, 1, 1, 1, 1, 1, 1, 1, 1, 1, 1,\n",
              "       1, 1, 1, 1, 1, 1, 1, 1, 1, 1, 1, 1, 1, 1, 1, 1, 1, 1, 1, 1, 1, 1,\n",
              "       1, 1, 1, 1, 1, 1, 1, 1, 1, 1, 1, 1, 1, 1, 1, 1, 1, 1, 1, 1, 1, 1,\n",
              "       1, 1, 1, 1, 1, 1, 1, 1, 1, 1, 1, 1, 1, 1, 1, 1, 1, 1, 1, 1, 1, 1,\n",
              "       1, 1, 1, 1, 1, 1, 1, 1, 1, 1, 1, 1, 1, 1, 1, 1, 1, 1, 1, 1, 1, 1,\n",
              "       1, 1, 2, 2, 2, 2, 2, 2, 2, 2, 2, 2, 2, 2, 2, 2, 2, 2, 2, 2, 2, 2,\n",
              "       2, 2, 2, 2, 2, 2, 2, 2, 2, 2, 2, 2, 2, 2, 2, 2, 2, 2, 2, 2, 2, 2,\n",
              "       2, 2, 2, 2, 2, 2, 2, 2, 2, 2, 2, 2, 2, 2, 2, 2, 2, 2, 2, 2, 2, 2,\n",
              "       2, 2, 2, 2, 2, 2, 2, 2, 2, 2, 2, 2, 2, 2, 2, 2, 2, 2, 2, 2, 2, 2,\n",
              "       2, 2, 2, 2, 2, 2, 2, 2, 2, 2, 2, 2, 2, 2], dtype=int32)"
            ]
          },
          "metadata": {},
          "execution_count": 81
        }
      ],
      "source": [
        "truelabels"
      ]
    },
    {
      "cell_type": "code",
      "execution_count": null,
      "metadata": {
        "colab": {
          "base_uri": "https://localhost:8080/"
        },
        "id": "4WxRyampj-zt",
        "outputId": "fb25492f-3e3c-45c5-d1ae-e13db2b2d1d6"
      },
      "outputs": [
        {
          "output_type": "execute_result",
          "data": {
            "text/plain": [
              "0.8162931359246967"
            ]
          },
          "metadata": {},
          "execution_count": 48
        }
      ],
      "source": [
        "f1_score(truelabels, predlabels, average='weighted')\n"
      ]
    },
    {
      "cell_type": "code",
      "execution_count": null,
      "metadata": {
        "colab": {
          "base_uri": "https://localhost:8080/",
          "height": 72
        },
        "id": "N6TQXBpco14W",
        "outputId": "92a70526-77e4-4ee1-feb1-2ff24288b44f"
      },
      "outputs": [
        {
          "output_type": "execute_result",
          "data": {
            "text/plain": [
              "\"\\ncm = confusion_matrix(truelabels, predlabels)\\n\\nclasses = list(validation_generator.class_indices.keys())\\ndisp = ConfusionMatrixDisplay(confusion_matrix=cm, display_labels=classes)\\nplt.figure(figsize=(8, 6))\\ndisp.plot(cmap=plt.cm.Blues, values_format='d')\\nplt.title('Confusion Matrix')\\nplt.xlabel('Predicted Label')\\nplt.ylabel('True Label')\\nplt.xticks(rotation=45)\\nplt.yticks(rotation=45)\\nplt.show()\""
            ],
            "application/vnd.google.colaboratory.intrinsic+json": {
              "type": "string"
            }
          },
          "metadata": {},
          "execution_count": 82
        }
      ],
      "source": [
        "from sklearn.metrics import confusion_matrix, ConfusionMatrixDisplay\n",
        "\n",
        "\n",
        "cm = confusion_matrix(truelabels, predlabels)\n",
        "\n",
        "classes = list(validation_generator.class_indices.keys())\n",
        "disp = ConfusionMatrixDisplay(confusion_matrix=cm, display_labels=classes)\n",
        "plt.figure(figsize=(8, 6))\n",
        "disp.plot(cmap=plt.cm.Blues, values_format='d')\n",
        "plt.title('Confusion Matrix')\n",
        "plt.xlabel('Predicted Label')\n",
        "plt.ylabel('True Label')\n",
        "plt.xticks(rotation=45)\n",
        "plt.yticks(rotation=45)\n",
        "plt.show()"
      ]
    },
    {
      "cell_type": "markdown",
      "metadata": {
        "id": "GqfPOnXfwdq7"
      },
      "source": [
        "*******************************************"
      ]
    },
    {
      "cell_type": "markdown",
      "metadata": {
        "id": "H5Ceg7i2fmMU"
      },
      "source": [
        "### 2) Multilabeld classification"
      ]
    },
    {
      "cell_type": "code",
      "execution_count": null,
      "metadata": {
        "id": "eSH5gMlviO76"
      },
      "outputs": [],
      "source": [
        "multilabelmodel = models.Sequential([\n",
        "    Conv2D(32, (3, 3), activation='relu', input_shape=(224, 224, 3)),\n",
        "    MaxPooling2D((2, 2)),\n",
        "    Conv2D(64, (3, 3), activation='relu'),\n",
        "    MaxPooling2D((2, 2)),\n",
        "    Conv2D(128, (3, 3), activation='relu'),\n",
        "    MaxPooling2D((2, 2)),\n",
        "    Conv2D(128, (3, 3), activation='relu'),\n",
        "    MaxPooling2D((2, 2)),\n",
        "    Flatten(),\n",
        "    Dense(512, activation='relu'),\n",
        "    Dropout(0.5),\n",
        "    Dense(3, activation='sigmoid') # in multilabel classification, the activation function\n",
        "                                            # in the output layer must be for binary classification, like \"sigmiod\"\n",
        "])\n",
        "\n",
        "\n",
        "\n",
        "multilabelmodel.compile(optimizer = 'adam',\n",
        "                        loss = 'binary_crossentropy',\n",
        "                        metrics = ['accuracy'])\n"
      ]
    },
    {
      "cell_type": "code",
      "execution_count": null,
      "metadata": {
        "colab": {
          "base_uri": "https://localhost:8080/"
        },
        "id": "1VhZTfFyjzMP",
        "outputId": "3d202e2d-e902-4ff7-a2a6-574fc5d33ce9"
      },
      "outputs": [
        {
          "output_type": "stream",
          "name": "stdout",
          "text": [
            "Model: \"sequential_3\"\n",
            "_________________________________________________________________\n",
            " Layer (type)                Output Shape              Param #   \n",
            "=================================================================\n",
            " conv2d_12 (Conv2D)          (None, 222, 222, 32)      896       \n",
            "                                                                 \n",
            " max_pooling2d_12 (MaxPooli  (None, 111, 111, 32)      0         \n",
            " ng2D)                                                           \n",
            "                                                                 \n",
            " conv2d_13 (Conv2D)          (None, 109, 109, 64)      18496     \n",
            "                                                                 \n",
            " max_pooling2d_13 (MaxPooli  (None, 54, 54, 64)        0         \n",
            " ng2D)                                                           \n",
            "                                                                 \n",
            " conv2d_14 (Conv2D)          (None, 52, 52, 128)       73856     \n",
            "                                                                 \n",
            " max_pooling2d_14 (MaxPooli  (None, 26, 26, 128)       0         \n",
            " ng2D)                                                           \n",
            "                                                                 \n",
            " conv2d_15 (Conv2D)          (None, 24, 24, 128)       147584    \n",
            "                                                                 \n",
            " max_pooling2d_15 (MaxPooli  (None, 12, 12, 128)       0         \n",
            " ng2D)                                                           \n",
            "                                                                 \n",
            " flatten_3 (Flatten)         (None, 18432)             0         \n",
            "                                                                 \n",
            " dense_6 (Dense)             (None, 512)               9437696   \n",
            "                                                                 \n",
            " dropout (Dropout)           (None, 512)               0         \n",
            "                                                                 \n",
            " dense_7 (Dense)             (None, 3)                 1539      \n",
            "                                                                 \n",
            "=================================================================\n",
            "Total params: 9680067 (36.93 MB)\n",
            "Trainable params: 9680067 (36.93 MB)\n",
            "Non-trainable params: 0 (0.00 Byte)\n",
            "_________________________________________________________________\n"
          ]
        }
      ],
      "source": [
        "multilabelmodel.summary()"
      ]
    },
    {
      "cell_type": "code",
      "source": [
        "checkpoint_callback2 = ModelCheckpoint(\n",
        "    filepath='/content/drive/MyDrive/CNN/models/multilabelmodel2.h5',  # Filepath to save the model\n",
        "    monitor='val_accuracy',  # Metric to monitor\n",
        "    save_best_only=True,  # Save only the best model\n",
        "    save_weights_only=False,  # Save the full model\n",
        "    mode='min',  # Save the model with the minimum value of the monitored metric\n",
        "    verbose=1  # Verbosity mode, 0 or 1\n",
        ")"
      ],
      "metadata": {
        "id": "Yd8_H6cFazzg"
      },
      "execution_count": null,
      "outputs": []
    },
    {
      "cell_type": "code",
      "execution_count": null,
      "metadata": {
        "colab": {
          "base_uri": "https://localhost:8080/"
        },
        "id": "UKZlNLmTj3Aw",
        "outputId": "c4d015ad-39ce-4faa-f15b-82be6764398f"
      },
      "outputs": [
        {
          "output_type": "stream",
          "name": "stdout",
          "text": [
            "Epoch 1/30\n",
            "38/38 [==============================] - ETA: 0s - loss: 0.6080 - accuracy: 0.4492\n",
            "Epoch 1: val_loss improved from inf to 0.54744, saving model to /content/drive/MyDrive/CNN/models/multilabelmodel2.h5\n"
          ]
        },
        {
          "output_type": "stream",
          "name": "stderr",
          "text": [
            "/usr/local/lib/python3.10/dist-packages/keras/src/engine/training.py:3103: UserWarning: You are saving your model as an HDF5 file via `model.save()`. This file format is considered legacy. We recommend using instead the native Keras format, e.g. `model.save('my_model.keras')`.\n",
            "  saving_api.save_model(\n"
          ]
        },
        {
          "output_type": "stream",
          "name": "stdout",
          "text": [
            "\b\b\b\b\b\b\b\b\b\b\b\b\b\b\b\b\b\b\b\b\b\b\b\b\b\b\b\b\b\b\b\b\b\b\b\b\b\b\b\b\b\b\b\b\b\b\b\b\b\b\b\b\b\b\b\b\b\b\b\b\b\b\b\b\b\b\b\b\b\b\b\b\b\b\b\b\b\b\b\b\b\b\r38/38 [==============================] - 408s 11s/step - loss: 0.6080 - accuracy: 0.4492 - val_loss: 0.5474 - val_accuracy: 0.5533\n",
            "Epoch 2/30\n",
            "38/38 [==============================] - ETA: 0s - loss: 0.4833 - accuracy: 0.6467\n",
            "Epoch 2: val_loss improved from 0.54744 to 0.43299, saving model to /content/drive/MyDrive/CNN/models/multilabelmodel2.h5\n",
            "38/38 [==============================] - 205s 5s/step - loss: 0.4833 - accuracy: 0.6467 - val_loss: 0.4330 - val_accuracy: 0.6967\n",
            "Epoch 3/30\n",
            "38/38 [==============================] - ETA: 0s - loss: 0.3931 - accuracy: 0.7400\n",
            "Epoch 3: val_loss improved from 0.43299 to 0.39570, saving model to /content/drive/MyDrive/CNN/models/multilabelmodel2.h5\n",
            "38/38 [==============================] - 208s 5s/step - loss: 0.3931 - accuracy: 0.7400 - val_loss: 0.3957 - val_accuracy: 0.7200\n",
            "Epoch 4/30\n",
            "38/38 [==============================] - ETA: 0s - loss: 0.3711 - accuracy: 0.7567\n",
            "Epoch 4: val_loss did not improve from 0.39570\n",
            "38/38 [==============================] - 199s 5s/step - loss: 0.3711 - accuracy: 0.7567 - val_loss: 0.4245 - val_accuracy: 0.7067\n",
            "Epoch 5/30\n",
            "38/38 [==============================] - ETA: 0s - loss: 0.3793 - accuracy: 0.7367\n",
            "Epoch 5: val_loss improved from 0.39570 to 0.34995, saving model to /content/drive/MyDrive/CNN/models/multilabelmodel2.h5\n",
            "38/38 [==============================] - 201s 5s/step - loss: 0.3793 - accuracy: 0.7367 - val_loss: 0.3499 - val_accuracy: 0.7367\n",
            "Epoch 6/30\n",
            "38/38 [==============================] - ETA: 0s - loss: 0.3453 - accuracy: 0.7742\n",
            "Epoch 6: val_loss did not improve from 0.34995\n",
            "38/38 [==============================] - 206s 5s/step - loss: 0.3453 - accuracy: 0.7742 - val_loss: 0.3631 - val_accuracy: 0.7600\n",
            "Epoch 7/30\n",
            "38/38 [==============================] - ETA: 0s - loss: 0.3347 - accuracy: 0.7833\n",
            "Epoch 7: val_loss did not improve from 0.34995\n",
            "38/38 [==============================] - 199s 5s/step - loss: 0.3347 - accuracy: 0.7833 - val_loss: 0.3588 - val_accuracy: 0.7267\n",
            "Epoch 8/30\n",
            "38/38 [==============================] - ETA: 0s - loss: 0.3176 - accuracy: 0.7942\n",
            "Epoch 8: val_loss improved from 0.34995 to 0.31120, saving model to /content/drive/MyDrive/CNN/models/multilabelmodel2.h5\n",
            "38/38 [==============================] - 203s 5s/step - loss: 0.3176 - accuracy: 0.7942 - val_loss: 0.3112 - val_accuracy: 0.8267\n",
            "Epoch 9/30\n",
            "38/38 [==============================] - ETA: 0s - loss: 0.3145 - accuracy: 0.7917\n",
            "Epoch 9: val_loss improved from 0.31120 to 0.29340, saving model to /content/drive/MyDrive/CNN/models/multilabelmodel2.h5\n",
            "38/38 [==============================] - 208s 5s/step - loss: 0.3145 - accuracy: 0.7917 - val_loss: 0.2934 - val_accuracy: 0.8233\n",
            "Epoch 10/30\n",
            "38/38 [==============================] - ETA: 0s - loss: 0.3030 - accuracy: 0.8267\n",
            "Epoch 10: val_loss improved from 0.29340 to 0.25579, saving model to /content/drive/MyDrive/CNN/models/multilabelmodel2.h5\n",
            "38/38 [==============================] - 206s 5s/step - loss: 0.3030 - accuracy: 0.8267 - val_loss: 0.2558 - val_accuracy: 0.8667\n",
            "Epoch 11/30\n",
            "38/38 [==============================] - ETA: 0s - loss: 0.2935 - accuracy: 0.8108"
          ]
        }
      ],
      "source": [
        "history2 = multilabelmodel.fit(\n",
        "    train_generator,\n",
        "    steps_per_epoch = 38,\n",
        "    epochs = 30,\n",
        "    validation_data = validation_generator,\n",
        "    validation_steps = 10,\n",
        "    callbacks=[checkpoint_callback2]\n",
        ")\n"
      ]
    },
    {
      "cell_type": "code",
      "execution_count": null,
      "metadata": {
        "colab": {
          "base_uri": "https://localhost:8080/"
        },
        "id": "MZ_3QfsxkxUN",
        "outputId": "8700dd5f-1a1c-4524-b637-03dec8a8aa06"
      },
      "outputs": [
        {
          "output_type": "stream",
          "name": "stdout",
          "text": [
            "10/10 [==============================] - 4s 439ms/step - loss: 0.1250 - accuracy: 0.9367\n"
          ]
        },
        {
          "output_type": "execute_result",
          "data": {
            "text/plain": [
              "[0.12496381253004074, 0.9366666674613953]"
            ]
          },
          "metadata": {},
          "execution_count": 93
        }
      ],
      "source": [
        "multilabelmodel.evaluate(validation_generator)"
      ]
    },
    {
      "cell_type": "code",
      "execution_count": null,
      "metadata": {
        "colab": {
          "base_uri": "https://localhost:8080/",
          "height": 887
        },
        "id": "6apc6vMDlD20",
        "outputId": "11b00015-9700-469d-b2b0-eeab397f72ca"
      },
      "outputs": [
        {
          "output_type": "display_data",
          "data": {
            "text/plain": [
              "<Figure size 640x480 with 1 Axes>"
            ],
            "image/png": "[encoded data removed]"
          },
          "metadata": {}
        },
        {
          "output_type": "display_data",
          "data": {
            "text/plain": [
              "<Figure size 640x480 with 1 Axes>"
            ],
            "image/png": "[encoded data removed]"
          },
          "metadata": {}
        }
      ],
      "source": [
        "\n",
        "acc = history2.history['accuracy']\n",
        "val_acc = history2.history['val_accuracy']\n",
        "loss = history2.history['loss']\n",
        "val_loss = history2.history['val_loss']\n",
        "\n",
        "epochs = range(len(acc))\n",
        "\n",
        "plt.plot(epochs, acc, 'bo', label='Training acc')\n",
        "plt.plot(epochs, val_acc, 'b', label='Validation acc')\n",
        "plt.title('Training and validation accuracy')\n",
        "plt.legend()\n",
        "\n",
        "plt.figure()\n",
        "\n",
        "plt.plot(epochs, loss, 'bo', label='Training loss')\n",
        "plt.plot(epochs, val_loss, 'b', label='Validation loss')\n",
        "plt.title('Training and validation loss')\n",
        "plt.legend()\n",
        "\n",
        "plt.show()"
      ]
    },
    {
      "cell_type": "code",
      "execution_count": null,
      "metadata": {
        "colab": {
          "base_uri": "https://localhost:8080/"
        },
        "id": "yis0WhuIk-YG",
        "outputId": "c43222a5-0884-450d-ba7a-e4db035d4bc0"
      },
      "outputs": [
        {
          "output_type": "stream",
          "name": "stdout",
          "text": [
            "10/10 [==============================] - 5s 406ms/step\n"
          ]
        }
      ],
      "source": [
        "pred2 = multilabelmodel.predict(validation_generator)"
      ]
    },
    {
      "cell_type": "code",
      "execution_count": null,
      "metadata": {
        "colab": {
          "base_uri": "https://localhost:8080/"
        },
        "id": "9ACuNixlwpXl",
        "outputId": "3e605ee6-c8d2-4e8c-d99e-af62df71d39c"
      },
      "outputs": [
        {
          "output_type": "execute_result",
          "data": {
            "text/plain": [
              "array([[4.7167140e-04, 5.6614866e-04, 9.9839431e-01],\n",
              "       [1.2826041e-03, 9.7283530e-01, 1.8931396e-02],\n",
              "       [1.0602630e-03, 7.8839757e-02, 9.1964078e-01],\n",
              "       [5.2228258e-03, 1.4931310e-02, 9.7676760e-01]], dtype=float32)"
            ]
          },
          "metadata": {},
          "execution_count": 96
        }
      ],
      "source": [
        "pred2[:4]"
      ]
    },
    {
      "cell_type": "code",
      "execution_count": null,
      "metadata": {
        "id": "ktdY03X5n9mF"
      },
      "outputs": [],
      "source": [
        "predlabels2 = np.argmax(pred2, axis = 1)"
      ]
    },
    {
      "cell_type": "code",
      "execution_count": null,
      "metadata": {
        "colab": {
          "base_uri": "https://localhost:8080/"
        },
        "id": "WotCDBzIoDDu",
        "outputId": "341d3160-1e6f-4c8c-c10b-27a309e47108"
      },
      "outputs": [
        {
          "output_type": "execute_result",
          "data": {
            "text/plain": [
              "(array([0, 0, 0, 0, 0, 0, 0, 0, 0, 0, 0, 0, 0, 0, 0, 0, 0, 0, 0, 0, 0, 0,\n",
              "        0, 0, 0, 0, 0, 0, 2, 1, 0, 0, 0, 0, 0, 0, 0, 0, 0, 0, 0, 0, 0, 0,\n",
              "        1, 0, 0, 0, 0, 0, 0, 0, 0, 0, 0, 0, 0, 0, 0, 2, 1, 1, 1, 1, 1, 1,\n",
              "        1, 0, 0, 1, 1, 1, 1, 1, 1, 1, 1, 1, 1, 1, 1, 1, 1, 1, 1, 1, 1, 1,\n",
              "        1, 1, 1, 1, 1, 1, 1, 1, 1, 1, 1, 1, 1, 1, 1, 1, 1, 1, 1, 1, 1, 1,\n",
              "        1, 1, 1, 1, 1, 1, 1, 1, 1, 1, 1, 1, 1, 1, 1, 1, 1, 1, 1, 1, 1, 1,\n",
              "        1, 1, 2, 1, 1, 1, 2, 2, 2, 2, 2, 1, 2, 2, 2, 2, 2, 2, 2, 2, 2, 2,\n",
              "        2, 2, 2, 2, 2, 2, 2, 2, 2, 1, 2, 2, 2, 2, 2, 2, 2, 2, 2, 1, 2, 2,\n",
              "        2, 2, 1, 2, 2, 2, 2, 2, 2, 0, 2, 2, 2, 0, 2, 2, 2, 2, 2, 2, 2, 2,\n",
              "        2, 2, 2, 2, 2, 2, 2, 2, 2, 2, 2, 2, 2, 2, 2, 2, 2, 2, 2, 2, 2, 2,\n",
              "        1, 2, 2, 1, 0]),\n",
              " (225,))"
            ]
          },
          "metadata": {},
          "execution_count": 72
        }
      ],
      "source": [
        "predlabels2, predlabels2.shape"
      ]
    },
    {
      "cell_type": "code",
      "execution_count": null,
      "metadata": {
        "colab": {
          "base_uri": "https://localhost:8080/"
        },
        "id": "gN8eK3YNgVdG",
        "outputId": "5ad2b029-3ba7-40be-948b-0ad4a34e02b5"
      },
      "outputs": [
        {
          "output_type": "execute_result",
          "data": {
            "text/plain": [
              "array([0, 0, 0, 0, 0, 0, 0, 0, 0, 0, 0, 0, 0, 0, 0, 0, 0, 0, 0, 0, 0, 0,\n",
              "       0, 0, 0, 0, 0, 0, 0, 0, 0, 0, 0, 0, 0, 0, 0, 0, 0, 0, 0, 0, 0, 0,\n",
              "       0, 0, 0, 0, 0, 0, 0, 0, 0, 0, 0, 0, 0, 0, 0, 1, 1, 1, 1, 1, 1, 1,\n",
              "       1, 1, 1, 1, 1, 1, 1, 1, 1, 1, 1, 1, 1, 1, 1, 1, 1, 1, 1, 1, 1, 1,\n",
              "       1, 1, 1, 1, 1, 1, 1, 1, 1, 1, 1, 1, 1, 1, 1, 1, 1, 1, 1, 1, 1, 1,\n",
              "       1, 1, 1, 1, 1, 1, 1, 1, 1, 1, 1, 1, 1, 1, 1, 1, 1, 1, 1, 1, 1, 1,\n",
              "       1, 1, 1, 1, 1, 1, 2, 2, 2, 2, 2, 2, 2, 2, 2, 2, 2, 2, 2, 2, 2, 2,\n",
              "       2, 2, 2, 2, 2, 2, 2, 2, 2, 2, 2, 2, 2, 2, 2, 2, 2, 2, 2, 2, 2, 2,\n",
              "       2, 2, 2, 2, 2, 2, 2, 2, 2, 2, 2, 2, 2, 2, 2, 2, 2, 2, 2, 2, 2, 2,\n",
              "       2, 2, 2, 2, 2, 2, 2, 2, 2, 2, 2, 2, 2, 2, 2, 2, 2, 2, 2, 2, 2, 2,\n",
              "       2, 2, 2, 2, 2], dtype=int32)"
            ]
          },
          "metadata": {},
          "execution_count": 73
        }
      ],
      "source": [
        "truelabels"
      ]
    },
    {
      "cell_type": "code",
      "execution_count": null,
      "metadata": {
        "colab": {
          "base_uri": "https://localhost:8080/"
        },
        "id": "oyY6_tHlrJHg",
        "outputId": "74f053fa-bfed-486f-f73e-f75f9885a9c4"
      },
      "outputs": [
        {
          "output_type": "execute_result",
          "data": {
            "text/plain": [
              "0.9288912404467959"
            ]
          },
          "metadata": {},
          "execution_count": 74
        }
      ],
      "source": [
        "f1_score(truelabels, predlabels2, average='weighted')\n"
      ]
    },
    {
      "cell_type": "code",
      "execution_count": null,
      "metadata": {
        "colab": {
          "base_uri": "https://localhost:8080/",
          "height": 520
        },
        "id": "9DfmPpLMn4hj",
        "outputId": "38cc81f2-2440-4e53-de86-aeae94c2fe3c"
      },
      "outputs": [
        {
          "output_type": "display_data",
          "data": {
            "text/plain": [
              "<Figure size 800x600 with 0 Axes>"
            ]
          },
          "metadata": {}
        },
        {
          "output_type": "display_data",
          "data": {
            "text/plain": [
              "<Figure size 640x480 with 2 Axes>"
            ],
            "image/png": "[encoded data removed]"
          },
          "metadata": {}
        }
      ],
      "source": [
        "cm2 = confusion_matrix(truelabels, predlabels2)\n",
        "\n",
        "classes = list(validation_generator.class_indices.keys())\n",
        "disp = ConfusionMatrixDisplay(confusion_matrix=cm2, display_labels=classes)\n",
        "plt.figure(figsize=(8, 6))\n",
        "disp.plot(cmap=plt.cm.Blues, values_format='d')\n",
        "plt.title('Confusion Matrix')\n",
        "plt.xlabel('Predicted Label')\n",
        "plt.ylabel('True Label')\n",
        "plt.xticks(rotation=45)\n",
        "plt.yticks(rotation=45)\n",
        "plt.show()"
      ]
    },
    {
      "cell_type": "code",
      "source": [],
      "metadata": {
        "id": "YHTuk69klXHe"
      },
      "execution_count": null,
      "outputs": []
    },
    {
      "cell_type": "code",
      "source": [
        "from tensorflow.keras.applications import EfficientNetB0\n",
        "from tensorflow.keras.layers import GlobalAveragePooling2D, Dropout, Dense\n",
        "from tensorflow.keras.models import Sequential\n",
        "from tensorflow.keras.callbacks import ReduceLROnPlateau\n",
        "\n",
        "# Using a pre-trained model\n",
        "base_model = EfficientNetB0(weights='imagenet', include_top=False, input_shape=(224, 224, 3))\n",
        "\n",
        "model3 = Sequential([\n",
        "    base_model,\n",
        "    GlobalAveragePooling2D(),\n",
        "    Dropout(0.5),\n",
        "    Dense(512, activation='relu'),\n",
        "    Dropout(0.5),\n",
        "    Dense(3, activation='sigmoid')  # Adjust based on your label count\n",
        "])\n",
        "\n",
        "model3.compile(optimizer='adam', loss='binary_crossentropy', metrics=['accuracy'])\n",
        "\n",
        "\n"
      ],
      "metadata": {
        "id": "OuvQa3wPlXEj"
      },
      "execution_count": null,
      "outputs": []
    },
    {
      "cell_type": "code",
      "source": [
        "model_checkpoint = ModelCheckpoint(\n",
        "\n",
        "    filepath='/content/drive/MyDrive/CNN/models/multilabelmodel3.h5',\n",
        "    monitor='val_accuracy',  # Monitor validation accuracy\n",
        "    save_best_only=True,     # Save only the best model\n",
        "    mode='max',               # Maximize the monitored quantity\n",
        "    verbose=1\n",
        ")\n",
        "\n",
        "# Learning rate scheduler\n",
        "lr_scheduler = ReduceLROnPlateau(  # Filepath to save the model\n",
        "                                 monitor='val_loss',\n",
        "                                 factor=0.5,\n",
        "                                 patience=3,\n",
        "                                 min_lr=1e-6,\n",
        "                                save_best_only=True,  # Save only the best model\n",
        ")"
      ],
      "metadata": {
        "id": "kBSIkJ31l50-"
      },
      "execution_count": null,
      "outputs": []
    },
    {
      "cell_type": "code",
      "source": [
        "# Train the model\n",
        "history3 = model3.fit(\n",
        "    train_generator,\n",
        "    validation_data=validation_generator,\n",
        "    epochs=30,\n",
        "    callbacks=[model_checkpoint, lr_scheduler]\n",
        ")"
      ],
      "metadata": {
        "id": "YuJGFjRXlkKa"
      },
      "execution_count": null,
      "outputs": []
    },
    {
      "cell_type": "markdown",
      "metadata": {
        "id": "8tj5qMXQxEvr"
      },
      "source": [
        "# Try the models"
      ]
    },
    {
      "cell_type": "markdown",
      "metadata": {
        "id": "W9UmqFJ-gnA8"
      },
      "source": [
        "#### Try the multi classification model"
      ]
    },
    {
      "cell_type": "code",
      "execution_count": null,
      "metadata": {
        "id": "E3GA3eyAwqVa"
      },
      "outputs": [],
      "source": [
        "from PIL import Image\n",
        "\n",
        "image_path = 'cov.png'\n",
        "image = Image.open(image_path)\n",
        "\n",
        "image = image.resize((150, 150))\n",
        "\n",
        "image_array1 = np.array(image) / 255.0\n",
        "image_array1 = np.expand_dims(image_array1, axis=0)"
      ]
    },
    {
      "cell_type": "code",
      "execution_count": null,
      "metadata": {
        "colab": {
          "base_uri": "https://localhost:8080/"
        },
        "id": "7Ptp3dlSxh0q",
        "outputId": "9f1e77cf-0491-42bc-9790-bcae57e45ea1"
      },
      "outputs": [
        {
          "data": {
            "text/plain": [
              "(array([[[[0.        , 0.        , 0.        ],\n",
              "          [0.        , 0.        , 0.        ],\n",
              "          [0.        , 0.        , 0.        ],\n",
              "          ...,\n",
              "          [0.        , 0.        , 0.        ],\n",
              "          [0.        , 0.        , 0.        ],\n",
              "          [0.        , 0.        , 0.        ]],\n",
              " \n",
              "         [[0.        , 0.        , 0.        ],\n",
              "          [0.        , 0.        , 0.        ],\n",
              "          [0.        , 0.        , 0.        ],\n",
              "          ...,\n",
              "          [0.        , 0.        , 0.        ],\n",
              "          [0.        , 0.        , 0.        ],\n",
              "          [0.        , 0.        , 0.        ]],\n",
              " \n",
              "         [[0.        , 0.        , 0.        ],\n",
              "          [0.        , 0.        , 0.        ],\n",
              "          [0.        , 0.        , 0.        ],\n",
              "          ...,\n",
              "          [0.        , 0.        , 0.        ],\n",
              "          [0.        , 0.        , 0.        ],\n",
              "          [0.        , 0.        , 0.        ]],\n",
              " \n",
              "         ...,\n",
              " \n",
              "         [[0.57254902, 0.57254902, 0.57254902],\n",
              "          [0.56862745, 0.56862745, 0.56862745],\n",
              "          [0.56470588, 0.56470588, 0.56470588],\n",
              "          ...,\n",
              "          [0.        , 0.        , 0.        ],\n",
              "          [0.        , 0.        , 0.        ],\n",
              "          [0.        , 0.        , 0.        ]],\n",
              " \n",
              "         [[0.58823529, 0.58823529, 0.58823529],\n",
              "          [0.58431373, 0.58431373, 0.58431373],\n",
              "          [0.58039216, 0.58039216, 0.58039216],\n",
              "          ...,\n",
              "          [0.        , 0.        , 0.        ],\n",
              "          [0.        , 0.        , 0.        ],\n",
              "          [0.        , 0.        , 0.        ]],\n",
              " \n",
              "         [[0.63137255, 0.63137255, 0.63137255],\n",
              "          [0.62745098, 0.62745098, 0.62745098],\n",
              "          [0.62352941, 0.62352941, 0.62352941],\n",
              "          ...,\n",
              "          [0.        , 0.        , 0.        ],\n",
              "          [0.        , 0.        , 0.        ],\n",
              "          [0.        , 0.        , 0.        ]]]]),\n",
              " (1, 150, 150, 3))"
            ]
          },
          "execution_count": 77,
          "metadata": {},
          "output_type": "execute_result"
        }
      ],
      "source": [
        "image_array1, image_array1.shape"
      ]
    },
    {
      "cell_type": "code",
      "execution_count": null,
      "metadata": {
        "colab": {
          "base_uri": "https://localhost:8080/"
        },
        "id": "24Dyi2FOxtjT",
        "outputId": "298dadf4-70f8-4dde-d235-ccdfa012d0b9"
      },
      "outputs": [
        {
          "name": "stdout",
          "output_type": "stream",
          "text": [
            "1/1 [==============================] - 0s 113ms/step\n"
          ]
        }
      ],
      "source": [
        "prediction = model.predict(image_array1)"
      ]
    },
    {
      "cell_type": "code",
      "execution_count": null,
      "metadata": {
        "colab": {
          "base_uri": "https://localhost:8080/"
        },
        "id": "PRoOl8JIx1MA",
        "outputId": "58445bfc-fb8c-4211-d1ce-41bed944b18f"
      },
      "outputs": [
        {
          "name": "stdout",
          "output_type": "stream",
          "text": [
            "[0.9964592  0.00119328 0.00234751] \n",
            "\n",
            "Covid-19\n"
          ]
        }
      ],
      "source": [
        "print(prediction[0], '\\n')\n",
        "\n",
        "if np.argmax(prediction[0]) == 0:\n",
        "  print('Covid-19')\n",
        "elif np.argmax(prediction[0]) == 1:\n",
        "  print('Normal')\n",
        "elif np.argmax(prediction[0]) == 2:\n",
        "  print('Virus')\n",
        "else:\n",
        "  print(\"Other\")"
      ]
    },
    {
      "cell_type": "markdown",
      "metadata": {
        "id": "tL5n7oZBguuW"
      },
      "source": [
        "*****************************************************"
      ]
    },
    {
      "cell_type": "code",
      "execution_count": null,
      "metadata": {
        "id": "sOTJprpy7iZY"
      },
      "outputs": [],
      "source": [
        "image_path = 'other.jfif'\n",
        "image = Image.open(image_path)\n",
        "\n",
        "image = image.resize((150, 150))\n",
        "\n",
        "image_array2 = np.array(image) / 255.0\n",
        "image_array2 = np.expand_dims(image_array2, axis=0)"
      ]
    },
    {
      "cell_type": "code",
      "execution_count": null,
      "metadata": {
        "colab": {
          "base_uri": "https://localhost:8080/"
        },
        "id": "DJKTGwKd-CcZ",
        "outputId": "75a0234f-5df1-494f-d589-022cfa607e84"
      },
      "outputs": [
        {
          "name": "stdout",
          "output_type": "stream",
          "text": [
            "1/1 [==============================] - 0s 35ms/step\n"
          ]
        }
      ],
      "source": [
        "prediction2 = model.predict(image_array2)"
      ]
    },
    {
      "cell_type": "code",
      "execution_count": null,
      "metadata": {
        "colab": {
          "base_uri": "https://localhost:8080/"
        },
        "id": "4116USN1-IPU",
        "outputId": "f636557d-6f26-47b5-efbf-acaa7debbac2"
      },
      "outputs": [
        {
          "name": "stdout",
          "output_type": "stream",
          "text": [
            "[0.06793183 0.78742355 0.14464463] \n",
            "\n",
            "Normal\n"
          ]
        }
      ],
      "source": [
        "print(prediction2[0], '\\n')\n",
        "\n",
        "if np.argmax(prediction2[0]) == 0:\n",
        "  print('Covid-19')\n",
        "elif np.argmax(prediction2[0]) == 1:\n",
        "  print('Normal')\n",
        "elif np.argmax(prediction2[0]) == 2:\n",
        "  print('Virus')\n",
        "else:\n",
        "  print(\"Other\")"
      ]
    },
    {
      "cell_type": "markdown",
      "metadata": {
        "id": "c4MZovCWg9vH"
      },
      "source": [
        "*****************************************************************************"
      ]
    },
    {
      "cell_type": "markdown",
      "metadata": {
        "id": "WojuN_9Og2wB"
      },
      "source": [
        "#### Try the multilabel classification model"
      ]
    },
    {
      "cell_type": "code",
      "execution_count": null,
      "metadata": {
        "colab": {
          "base_uri": "https://localhost:8080/"
        },
        "id": "SaNqgiKm7iSz",
        "outputId": "33157415-3368-4219-d278-8591eaec0503"
      },
      "outputs": [
        {
          "name": "stdout",
          "output_type": "stream",
          "text": [
            "1/1 [==============================] - 0s 103ms/step\n"
          ]
        }
      ],
      "source": [
        "pred = multilabelmodel.predict(image_array1)"
      ]
    },
    {
      "cell_type": "code",
      "execution_count": null,
      "metadata": {
        "colab": {
          "base_uri": "https://localhost:8080/"
        },
        "id": "yYWG06TV7iPY",
        "outputId": "d3834f3a-dbc1-4aa9-fb5f-aa1093670649"
      },
      "outputs": [
        {
          "name": "stdout",
          "output_type": "stream",
          "text": [
            "[9.9858457e-01 1.2983469e-03 1.8353749e-04] \n",
            "\n",
            "Covid-19\n"
          ]
        }
      ],
      "source": [
        "print(pred[0], '\\n')\n",
        "\n",
        "if np.argmax(pred[0]) == 0:\n",
        "  print('Covid-19')\n",
        "elif np.argmax(pred[0]) == 1:\n",
        "  print('Normal')\n",
        "elif np.argmax(pred[0]) == 2:\n",
        "  print('Virus')\n",
        "else:\n",
        "  print(\"Other\")"
      ]
    },
    {
      "cell_type": "markdown",
      "metadata": {
        "id": "ezuW18cthJqa"
      },
      "source": [
        "******************************************************"
      ]
    },
    {
      "cell_type": "code",
      "execution_count": null,
      "metadata": {
        "colab": {
          "base_uri": "https://localhost:8080/"
        },
        "id": "lBg9F-Og7iLl",
        "outputId": "0dd98de7-46d1-4eef-9581-d6e5dfcb450e"
      },
      "outputs": [
        {
          "name": "stdout",
          "output_type": "stream",
          "text": [
            "1/1 [==============================] - 0s 31ms/step\n"
          ]
        }
      ],
      "source": [
        "pred2 = multilabelmodel.predict(image_array2)"
      ]
    },
    {
      "cell_type": "code",
      "execution_count": null,
      "metadata": {
        "colab": {
          "base_uri": "https://localhost:8080/"
        },
        "id": "Ong62A9a7iHa",
        "outputId": "bb867267-3064-4498-db81-2f8cca38c308"
      },
      "outputs": [
        {
          "name": "stdout",
          "output_type": "stream",
          "text": [
            "[0.23389949 0.55986685 0.05088022] \n",
            "\n",
            "Other\n"
          ]
        }
      ],
      "source": [
        "print(pred2[0], '\\n')\n",
        "\n",
        "if pred2[0][np.argmax(pred2[0])] >= 0.8:\n",
        "  print(f'The class is {np.argmax(pred2[0])}')\n",
        "else:\n",
        "  print(\"Other\")"
      ]
    },
    {
      "cell_type": "markdown",
      "metadata": {
        "id": "9cmP40qAhNor"
      },
      "source": [
        "******************************************"
      ]
    },
    {
      "cell_type": "code",
      "execution_count": null,
      "metadata": {
        "id": "k6tNNRuNDvWI"
      },
      "outputs": [],
      "source": [
        "image_path = 'oth.jfif'\n",
        "image = Image.open(image_path)\n",
        "\n",
        "image = image.resize((150, 150))\n",
        "\n",
        "image_array3 = np.array(image) / 255.0\n",
        "image_array3 = np.expand_dims(image_array3, axis=0)"
      ]
    },
    {
      "cell_type": "code",
      "execution_count": null,
      "metadata": {
        "colab": {
          "base_uri": "https://localhost:8080/"
        },
        "id": "UPTdwaTqD8go",
        "outputId": "1d65df49-5af6-443e-d116-cde33ce71c78"
      },
      "outputs": [
        {
          "name": "stdout",
          "output_type": "stream",
          "text": [
            "1/1 [==============================] - 0s 54ms/step\n"
          ]
        }
      ],
      "source": [
        "pred3 = multilabelmodel.predict(image_array3)"
      ]
    },
    {
      "cell_type": "code",
      "execution_count": null,
      "metadata": {
        "colab": {
          "base_uri": "https://localhost:8080/"
        },
        "id": "ElTkcZZ8EBkj",
        "outputId": "2a4a2bca-348f-41ac-c87c-853537823a54"
      },
      "outputs": [
        {
          "name": "stdout",
          "output_type": "stream",
          "text": [
            "[4.6169460e-01 2.7381787e-01 3.1406088e-07] \n",
            "\n",
            "Other\n"
          ]
        }
      ],
      "source": [
        "print(pred3[0], '\\n')\n",
        "\n",
        "if pred3[0][np.argmax(pred3[0])] >= 0.6:\n",
        "  print(f'The class is {np.argmax(pred3[0])}')\n",
        "else:\n",
        "  print(\"Other\")"
      ]
    },
    {
      "cell_type": "markdown",
      "metadata": {
        "id": "Pz1NXm4_hSot"
      },
      "source": [
        "********************************************************************************************************************"
      ]
    },
    {
      "cell_type": "markdown",
      "metadata": {
        "id": "yFU8AZ1dDoSV"
      },
      "source": [
        "#ppppppp"
      ]
    },
    {
      "cell_type": "code",
      "execution_count": null,
      "metadata": {
        "id": "qsFaR2OIzXjE"
      },
      "outputs": [],
      "source": [
        "df = pd.read_csv('sample_submission.csv')"
      ]
    },
    {
      "cell_type": "code",
      "execution_count": null,
      "metadata": {
        "colab": {
          "base_uri": "https://localhost:8080/",
          "height": 206
        },
        "id": "CIB8dqVtzexD",
        "outputId": "3f009ee7-b2ea-4aac-e175-2e6f5278bba3"
      },
      "outputs": [
        {
          "data": {
            "application/vnd.google.colaboratory.intrinsic+json": {
              "summary": "{\n  \"name\": \"df\",\n  \"rows\": 513,\n  \"fields\": [\n    {\n      \"column\": \"Image\",\n      \"properties\": {\n        \"dtype\": \"string\",\n        \"num_unique_values\": 513,\n        \"samples\": [\n          \"263695595.jpeg\",\n          \"280574781.png\",\n          \"387926609.png\"\n        ],\n        \"semantic_type\": \"\",\n        \"description\": \"\"\n      }\n    },\n    {\n      \"column\": \"Label\",\n      \"properties\": {\n        \"dtype\": \"number\",\n        \"std\": null,\n        \"min\": null,\n        \"max\": null,\n        \"num_unique_values\": 0,\n        \"samples\": [],\n        \"semantic_type\": \"\",\n        \"description\": \"\"\n      }\n    }\n  ]\n}",
              "type": "dataframe",
              "variable_name": "df"
            },
            "text/html": [
              "\n",
              "  <div id=\"df-ea915306-912a-4884-9b9a-87dfe60fa4f8\" class=\"colab-df-container\">\n",
              "    <div>\n",
              "<style scoped>\n",
              "    .dataframe tbody tr th:only-of-type {\n",
              "        vertical-align: middle;\n",
              "    }\n",
              "\n",
              "    .dataframe tbody tr th {\n",
              "        vertical-align: top;\n",
              "    }\n",
              "\n",
              "    .dataframe thead th {\n",
              "        text-align: right;\n",
              "    }\n",
              "</style>\n",
              "<table border=\"1\" class=\"dataframe\">\n",
              "  <thead>\n",
              "    <tr style=\"text-align: right;\">\n",
              "      <th></th>\n",
              "      <th>Image</th>\n",
              "      <th>Label</th>\n",
              "    </tr>\n",
              "  </thead>\n",
              "  <tbody>\n",
              "    <tr>\n",
              "      <th>0</th>\n",
              "      <td>402124007.png</td>\n",
              "      <td>NaN</td>\n",
              "    </tr>\n",
              "    <tr>\n",
              "      <th>1</th>\n",
              "      <td>20328626.jpeg</td>\n",
              "      <td>NaN</td>\n",
              "    </tr>\n",
              "    <tr>\n",
              "      <th>2</th>\n",
              "      <td>21235419.jpeg</td>\n",
              "      <td>NaN</td>\n",
              "    </tr>\n",
              "    <tr>\n",
              "      <th>3</th>\n",
              "      <td>188238579.png</td>\n",
              "      <td>NaN</td>\n",
              "    </tr>\n",
              "    <tr>\n",
              "      <th>4</th>\n",
              "      <td>266831585.jpeg</td>\n",
              "      <td>NaN</td>\n",
              "    </tr>\n",
              "  </tbody>\n",
              "</table>\n",
              "</div>\n",
              "    <div class=\"colab-df-buttons\">\n",
              "\n",
              "  <div class=\"colab-df-container\">\n",
              "    <button class=\"colab-df-convert\" onclick=\"convertToInteractive('df-ea915306-912a-4884-9b9a-87dfe60fa4f8')\"\n",
              "            title=\"Convert this dataframe to an interactive table.\"\n",
              "            style=\"display:none;\">\n",
              "\n",
              "  <svg xmlns=\"http://www.w3.org/2000/svg\" height=\"24px\" viewBox=\"0 -960 960 960\">\n",
              "    <path d=\"M120-120v-720h720v720H120Zm60-500h600v-160H180v160Zm220 220h160v-160H400v160Zm0 220h160v-160H400v160ZM180-400h160v-160H180v160Zm440 0h160v-160H620v160ZM180-180h160v-160H180v160Zm440 0h160v-160H620v160Z\"/>\n",
              "  </svg>\n",
              "    </button>\n",
              "\n",
              "  <style>\n",
              "    .colab-df-container {\n",
              "      display:flex;\n",
              "      gap: 12px;\n",
              "    }\n",
              "\n",
              "    .colab-df-convert {\n",
              "      background-color: #E8F0FE;\n",
              "      border: none;\n",
              "      border-radius: 50%;\n",
              "      cursor: pointer;\n",
              "      display: none;\n",
              "      fill: #1967D2;\n",
              "      height: 32px;\n",
              "      padding: 0 0 0 0;\n",
              "      width: 32px;\n",
              "    }\n",
              "\n",
              "    .colab-df-convert:hover {\n",
              "      background-color: #E2EBFA;\n",
              "      box-shadow: 0px 1px 2px rgba(60, 64, 67, 0.3), 0px 1px 3px 1px rgba(60, 64, 67, 0.15);\n",
              "      fill: #174EA6;\n",
              "    }\n",
              "\n",
              "    .colab-df-buttons div {\n",
              "      margin-bottom: 4px;\n",
              "    }\n",
              "\n",
              "    [theme=dark] .colab-df-convert {\n",
              "      background-color: #3B4455;\n",
              "      fill: #D2E3FC;\n",
              "    }\n",
              "\n",
              "    [theme=dark] .colab-df-convert:hover {\n",
              "      background-color: #434B5C;\n",
              "      box-shadow: 0px 1px 3px 1px rgba(0, 0, 0, 0.15);\n",
              "      filter: drop-shadow(0px 1px 2px rgba(0, 0, 0, 0.3));\n",
              "      fill: #FFFFFF;\n",
              "    }\n",
              "  </style>\n",
              "\n",
              "    <script>\n",
              "      const buttonEl =\n",
              "        document.querySelector('#df-ea915306-912a-4884-9b9a-87dfe60fa4f8 button.colab-df-convert');\n",
              "      buttonEl.style.display =\n",
              "        google.colab.kernel.accessAllowed ? 'block' : 'none';\n",
              "\n",
              "      async function convertToInteractive(key) {\n",
              "        const element = document.querySelector('#df-ea915306-912a-4884-9b9a-87dfe60fa4f8');\n",
              "        const dataTable =\n",
              "          await google.colab.kernel.invokeFunction('convertToInteractive',\n",
              "                                                    [key], {});\n",
              "        if (!dataTable) return;\n",
              "\n",
              "        const docLinkHtml = 'Like what you see? Visit the ' +\n",
              "          '<a target=\"_blank\" href=https://colab.research.google.com/notebooks/data_table.ipynb>data table notebook</a>'\n",
              "          + ' to learn more about interactive tables.';\n",
              "        element.innerHTML = '';\n",
              "        dataTable['output_type'] = 'display_data';\n",
              "        await google.colab.output.renderOutput(dataTable, element);\n",
              "        const docLink = document.createElement('div');\n",
              "        docLink.innerHTML = docLinkHtml;\n",
              "        element.appendChild(docLink);\n",
              "      }\n",
              "    </script>\n",
              "  </div>\n",
              "\n",
              "\n",
              "<div id=\"df-103a253d-e261-4fc9-88b5-63c64d2bd53b\">\n",
              "  <button class=\"colab-df-quickchart\" onclick=\"quickchart('df-103a253d-e261-4fc9-88b5-63c64d2bd53b')\"\n",
              "            title=\"Suggest charts\"\n",
              "            style=\"display:none;\">\n",
              "\n",
              "<svg xmlns=\"http://www.w3.org/2000/svg\" height=\"24px\"viewBox=\"0 0 24 24\"\n",
              "     width=\"24px\">\n",
              "    <g>\n",
              "        <path d=\"M19 3H5c-1.1 0-2 .9-2 2v14c0 1.1.9 2 2 2h14c1.1 0 2-.9 2-2V5c0-1.1-.9-2-2-2zM9 17H7v-7h2v7zm4 0h-2V7h2v10zm4 0h-2v-4h2v4z\"/>\n",
              "    </g>\n",
              "</svg>\n",
              "  </button>\n",
              "\n",
              "<style>\n",
              "  .colab-df-quickchart {\n",
              "      --bg-color: #E8F0FE;\n",
              "      --fill-color: #1967D2;\n",
              "      --hover-bg-color: #E2EBFA;\n",
              "      --hover-fill-color: #174EA6;\n",
              "      --disabled-fill-color: #AAA;\n",
              "      --disabled-bg-color: #DDD;\n",
              "  }\n",
              "\n",
              "  [theme=dark] .colab-df-quickchart {\n",
              "      --bg-color: #3B4455;\n",
              "      --fill-color: #D2E3FC;\n",
              "      --hover-bg-color: #434B5C;\n",
              "      --hover-fill-color: #FFFFFF;\n",
              "      --disabled-bg-color: #3B4455;\n",
              "      --disabled-fill-color: #666;\n",
              "  }\n",
              "\n",
              "  .colab-df-quickchart {\n",
              "    background-color: var(--bg-color);\n",
              "    border: none;\n",
              "    border-radius: 50%;\n",
              "    cursor: pointer;\n",
              "    display: none;\n",
              "    fill: var(--fill-color);\n",
              "    height: 32px;\n",
              "    padding: 0;\n",
              "    width: 32px;\n",
              "  }\n",
              "\n",
              "  .colab-df-quickchart:hover {\n",
              "    background-color: var(--hover-bg-color);\n",
              "    box-shadow: 0 1px 2px rgba(60, 64, 67, 0.3), 0 1px 3px 1px rgba(60, 64, 67, 0.15);\n",
              "    fill: var(--button-hover-fill-color);\n",
              "  }\n",
              "\n",
              "  .colab-df-quickchart-complete:disabled,\n",
              "  .colab-df-quickchart-complete:disabled:hover {\n",
              "    background-color: var(--disabled-bg-color);\n",
              "    fill: var(--disabled-fill-color);\n",
              "    box-shadow: none;\n",
              "  }\n",
              "\n",
              "  .colab-df-spinner {\n",
              "    border: 2px solid var(--fill-color);\n",
              "    border-color: transparent;\n",
              "    border-bottom-color: var(--fill-color);\n",
              "    animation:\n",
              "      spin 1s steps(1) infinite;\n",
              "  }\n",
              "\n",
              "  @keyframes spin {\n",
              "    0% {\n",
              "      border-color: transparent;\n",
              "      border-bottom-color: var(--fill-color);\n",
              "      border-left-color: var(--fill-color);\n",
              "    }\n",
              "    20% {\n",
              "      border-color: transparent;\n",
              "      border-left-color: var(--fill-color);\n",
              "      border-top-color: var(--fill-color);\n",
              "    }\n",
              "    30% {\n",
              "      border-color: transparent;\n",
              "      border-left-color: var(--fill-color);\n",
              "      border-top-color: var(--fill-color);\n",
              "      border-right-color: var(--fill-color);\n",
              "    }\n",
              "    40% {\n",
              "      border-color: transparent;\n",
              "      border-right-color: var(--fill-color);\n",
              "      border-top-color: var(--fill-color);\n",
              "    }\n",
              "    60% {\n",
              "      border-color: transparent;\n",
              "      border-right-color: var(--fill-color);\n",
              "    }\n",
              "    80% {\n",
              "      border-color: transparent;\n",
              "      border-right-color: var(--fill-color);\n",
              "      border-bottom-color: var(--fill-color);\n",
              "    }\n",
              "    90% {\n",
              "      border-color: transparent;\n",
              "      border-bottom-color: var(--fill-color);\n",
              "    }\n",
              "  }\n",
              "</style>\n",
              "\n",
              "  <script>\n",
              "    async function quickchart(key) {\n",
              "      const quickchartButtonEl =\n",
              "        document.querySelector('#' + key + ' button');\n",
              "      quickchartButtonEl.disabled = true;  // To prevent multiple clicks.\n",
              "      quickchartButtonEl.classList.add('colab-df-spinner');\n",
              "      try {\n",
              "        const charts = await google.colab.kernel.invokeFunction(\n",
              "            'suggestCharts', [key], {});\n",
              "      } catch (error) {\n",
              "        console.error('Error during call to suggestCharts:', error);\n",
              "      }\n",
              "      quickchartButtonEl.classList.remove('colab-df-spinner');\n",
              "      quickchartButtonEl.classList.add('colab-df-quickchart-complete');\n",
              "    }\n",
              "    (() => {\n",
              "      let quickchartButtonEl =\n",
              "        document.querySelector('#df-103a253d-e261-4fc9-88b5-63c64d2bd53b button');\n",
              "      quickchartButtonEl.style.display =\n",
              "        google.colab.kernel.accessAllowed ? 'block' : 'none';\n",
              "    })();\n",
              "  </script>\n",
              "</div>\n",
              "\n",
              "    </div>\n",
              "  </div>\n"
            ],
            "text/plain": [
              "            Image  Label\n",
              "0   402124007.png    NaN\n",
              "1   20328626.jpeg    NaN\n",
              "2   21235419.jpeg    NaN\n",
              "3   188238579.png    NaN\n",
              "4  266831585.jpeg    NaN"
            ]
          },
          "execution_count": 35,
          "metadata": {},
          "output_type": "execute_result"
        }
      ],
      "source": [
        "df.head()"
      ]
    },
    {
      "cell_type": "code",
      "execution_count": null,
      "metadata": {
        "id": "h8ZFba-Jz6Bt"
      },
      "outputs": [],
      "source": [
        "from tensorflow.keras.preprocessing.image import load_img, img_to_array\n",
        "from tensorflow.keras.models import load_model\n",
        "\n",
        "\n",
        "# Define the path to your test data folder\n",
        "test_data_folder = test_dir"
      ]
    },
    {
      "cell_type": "code",
      "execution_count": null,
      "metadata": {
        "colab": {
          "base_uri": "https://localhost:8080/"
        },
        "id": "4blvlnj8RAV6",
        "outputId": "553e8034-6f07-4bfb-9053-7028ff4d30d2"
      },
      "outputs": [
        {
          "name": "stdout",
          "output_type": "stream",
          "text": [
            "1/1 [==============================] - 0s 118ms/step\n",
            "1/1 [==============================] - 0s 34ms/step\n",
            "1/1 [==============================] - 0s 32ms/step\n",
            "1/1 [==============================] - 0s 45ms/step\n",
            "1/1 [==============================] - 0s 38ms/step\n",
            "1/1 [==============================] - 0s 42ms/step\n",
            "1/1 [==============================] - 0s 38ms/step\n",
            "1/1 [==============================] - 0s 34ms/step\n",
            "1/1 [==============================] - 0s 35ms/step\n",
            "1/1 [==============================] - 0s 31ms/step\n",
            "1/1 [==============================] - 0s 33ms/step\n",
            "1/1 [==============================] - 0s 32ms/step\n",
            "1/1 [==============================] - 0s 33ms/step\n",
            "1/1 [==============================] - 0s 36ms/step\n",
            "1/1 [==============================] - 0s 33ms/step\n",
            "1/1 [==============================] - 0s 34ms/step\n",
            "1/1 [==============================] - 0s 33ms/step\n",
            "1/1 [==============================] - 0s 33ms/step\n",
            "1/1 [==============================] - 0s 39ms/step\n",
            "1/1 [==============================] - 0s 35ms/step\n",
            "1/1 [==============================] - 0s 51ms/step\n",
            "1/1 [==============================] - 0s 50ms/step\n",
            "1/1 [==============================] - 0s 60ms/step\n",
            "1/1 [==============================] - 0s 51ms/step\n",
            "1/1 [==============================] - 0s 51ms/step\n",
            "1/1 [==============================] - 0s 51ms/step\n",
            "1/1 [==============================] - 0s 50ms/step\n",
            "1/1 [==============================] - 0s 56ms/step\n",
            "1/1 [==============================] - 0s 48ms/step\n",
            "1/1 [==============================] - 0s 55ms/step\n",
            "1/1 [==============================] - 0s 51ms/step\n",
            "1/1 [==============================] - 0s 62ms/step\n",
            "1/1 [==============================] - 0s 50ms/step\n",
            "1/1 [==============================] - 0s 63ms/step\n",
            "1/1 [==============================] - 0s 60ms/step\n",
            "1/1 [==============================] - 0s 36ms/step\n",
            "1/1 [==============================] - 0s 33ms/step\n",
            "1/1 [==============================] - 0s 33ms/step\n",
            "1/1 [==============================] - 0s 33ms/step\n",
            "1/1 [==============================] - 0s 34ms/step\n",
            "1/1 [==============================] - 0s 33ms/step\n",
            "1/1 [==============================] - 0s 36ms/step\n",
            "1/1 [==============================] - 0s 32ms/step\n",
            "1/1 [==============================] - 0s 35ms/step\n",
            "1/1 [==============================] - 0s 37ms/step\n",
            "1/1 [==============================] - 0s 33ms/step\n",
            "1/1 [==============================] - 0s 32ms/step\n",
            "1/1 [==============================] - 0s 44ms/step\n",
            "1/1 [==============================] - 0s 35ms/step\n",
            "1/1 [==============================] - 0s 33ms/step\n",
            "1/1 [==============================] - 0s 36ms/step\n",
            "1/1 [==============================] - 0s 33ms/step\n",
            "1/1 [==============================] - 0s 45ms/step\n",
            "1/1 [==============================] - 0s 33ms/step\n",
            "1/1 [==============================] - 0s 35ms/step\n",
            "1/1 [==============================] - 0s 34ms/step\n",
            "1/1 [==============================] - 0s 41ms/step\n",
            "1/1 [==============================] - 0s 34ms/step\n",
            "1/1 [==============================] - 0s 34ms/step\n",
            "1/1 [==============================] - 0s 33ms/step\n",
            "1/1 [==============================] - 0s 33ms/step\n",
            "1/1 [==============================] - 0s 37ms/step\n",
            "1/1 [==============================] - 0s 53ms/step\n",
            "1/1 [==============================] - 0s 53ms/step\n",
            "1/1 [==============================] - 0s 52ms/step\n",
            "1/1 [==============================] - 0s 52ms/step\n",
            "1/1 [==============================] - 0s 47ms/step\n",
            "1/1 [==============================] - 0s 50ms/step\n",
            "1/1 [==============================] - 0s 75ms/step\n",
            "1/1 [==============================] - 0s 51ms/step\n",
            "1/1 [==============================] - 0s 54ms/step\n",
            "1/1 [==============================] - 0s 65ms/step\n",
            "1/1 [==============================] - 0s 54ms/step\n",
            "1/1 [==============================] - 0s 57ms/step\n",
            "1/1 [==============================] - 0s 53ms/step\n",
            "1/1 [==============================] - 0s 56ms/step\n",
            "1/1 [==============================] - 0s 52ms/step\n",
            "1/1 [==============================] - 0s 34ms/step\n",
            "1/1 [==============================] - 0s 33ms/step\n",
            "1/1 [==============================] - 0s 33ms/step\n",
            "1/1 [==============================] - 0s 34ms/step\n",
            "1/1 [==============================] - 0s 33ms/step\n",
            "1/1 [==============================] - 0s 35ms/step\n",
            "1/1 [==============================] - 0s 33ms/step\n",
            "1/1 [==============================] - 0s 41ms/step\n",
            "1/1 [==============================] - 0s 33ms/step\n",
            "1/1 [==============================] - 0s 33ms/step\n",
            "1/1 [==============================] - 0s 35ms/step\n",
            "1/1 [==============================] - 0s 35ms/step\n",
            "1/1 [==============================] - 0s 33ms/step\n",
            "1/1 [==============================] - 0s 33ms/step\n",
            "1/1 [==============================] - 0s 37ms/step\n",
            "1/1 [==============================] - 0s 33ms/step\n",
            "1/1 [==============================] - 0s 34ms/step\n",
            "1/1 [==============================] - 0s 44ms/step\n",
            "1/1 [==============================] - 0s 33ms/step\n",
            "1/1 [==============================] - 0s 35ms/step\n",
            "1/1 [==============================] - 0s 33ms/step\n",
            "1/1 [==============================] - 0s 32ms/step\n",
            "1/1 [==============================] - 0s 36ms/step\n",
            "1/1 [==============================] - 0s 33ms/step\n",
            "1/1 [==============================] - 0s 33ms/step\n",
            "1/1 [==============================] - 0s 33ms/step\n",
            "1/1 [==============================] - 0s 40ms/step\n",
            "1/1 [==============================] - 0s 33ms/step\n",
            "1/1 [==============================] - 0s 36ms/step\n",
            "1/1 [==============================] - 0s 35ms/step\n",
            "1/1 [==============================] - 0s 36ms/step\n",
            "1/1 [==============================] - 0s 44ms/step\n",
            "1/1 [==============================] - 0s 33ms/step\n",
            "1/1 [==============================] - 0s 34ms/step\n",
            "1/1 [==============================] - 0s 33ms/step\n",
            "1/1 [==============================] - 0s 34ms/step\n",
            "1/1 [==============================] - 0s 33ms/step\n",
            "1/1 [==============================] - 0s 32ms/step\n",
            "1/1 [==============================] - 0s 32ms/step\n",
            "1/1 [==============================] - 0s 35ms/step\n",
            "1/1 [==============================] - 0s 33ms/step\n",
            "1/1 [==============================] - 0s 33ms/step\n",
            "1/1 [==============================] - 0s 32ms/step\n",
            "1/1 [==============================] - 0s 36ms/step\n",
            "1/1 [==============================] - 0s 33ms/step\n",
            "1/1 [==============================] - 0s 53ms/step\n",
            "1/1 [==============================] - 0s 50ms/step\n",
            "1/1 [==============================] - 0s 59ms/step\n",
            "1/1 [==============================] - 0s 50ms/step\n",
            "1/1 [==============================] - 0s 51ms/step\n",
            "1/1 [==============================] - 0s 54ms/step\n",
            "1/1 [==============================] - 0s 53ms/step\n",
            "1/1 [==============================] - 0s 67ms/step\n",
            "1/1 [==============================] - 0s 49ms/step\n",
            "1/1 [==============================] - 0s 49ms/step\n",
            "1/1 [==============================] - 0s 55ms/step\n",
            "1/1 [==============================] - 0s 54ms/step\n",
            "1/1 [==============================] - 0s 55ms/step\n",
            "1/1 [==============================] - 0s 54ms/step\n",
            "1/1 [==============================] - 0s 33ms/step\n",
            "1/1 [==============================] - 0s 34ms/step\n",
            "1/1 [==============================] - 0s 33ms/step\n",
            "1/1 [==============================] - 0s 33ms/step\n",
            "1/1 [==============================] - 0s 34ms/step\n",
            "1/1 [==============================] - 0s 33ms/step\n",
            "1/1 [==============================] - 0s 36ms/step\n",
            "1/1 [==============================] - 0s 34ms/step\n",
            "1/1 [==============================] - 0s 33ms/step\n",
            "1/1 [==============================] - 0s 37ms/step\n",
            "1/1 [==============================] - 0s 34ms/step\n",
            "1/1 [==============================] - 0s 33ms/step\n",
            "1/1 [==============================] - 0s 37ms/step\n",
            "1/1 [==============================] - 0s 33ms/step\n",
            "1/1 [==============================] - 0s 35ms/step\n",
            "1/1 [==============================] - 0s 33ms/step\n",
            "1/1 [==============================] - 0s 33ms/step\n",
            "1/1 [==============================] - 0s 33ms/step\n",
            "1/1 [==============================] - 0s 33ms/step\n",
            "1/1 [==============================] - 0s 44ms/step\n",
            "1/1 [==============================] - 0s 35ms/step\n",
            "1/1 [==============================] - 0s 34ms/step\n",
            "1/1 [==============================] - 0s 33ms/step\n",
            "1/1 [==============================] - 0s 36ms/step\n",
            "1/1 [==============================] - 0s 33ms/step\n",
            "1/1 [==============================] - 0s 35ms/step\n",
            "1/1 [==============================] - 0s 34ms/step\n",
            "1/1 [==============================] - 0s 33ms/step\n",
            "1/1 [==============================] - 0s 38ms/step\n",
            "1/1 [==============================] - 0s 36ms/step\n",
            "1/1 [==============================] - 0s 33ms/step\n",
            "1/1 [==============================] - 0s 33ms/step\n",
            "1/1 [==============================] - 0s 34ms/step\n",
            "1/1 [==============================] - 0s 36ms/step\n",
            "1/1 [==============================] - 0s 34ms/step\n",
            "1/1 [==============================] - 0s 33ms/step\n",
            "1/1 [==============================] - 0s 34ms/step\n",
            "1/1 [==============================] - 0s 33ms/step\n",
            "1/1 [==============================] - 0s 33ms/step\n",
            "1/1 [==============================] - 0s 33ms/step\n",
            "1/1 [==============================] - 0s 36ms/step\n",
            "1/1 [==============================] - 0s 32ms/step\n",
            "1/1 [==============================] - 0s 33ms/step\n",
            "1/1 [==============================] - 0s 37ms/step\n",
            "1/1 [==============================] - 0s 34ms/step\n",
            "1/1 [==============================] - 0s 32ms/step\n",
            "1/1 [==============================] - 0s 34ms/step\n",
            "1/1 [==============================] - 0s 34ms/step\n",
            "1/1 [==============================] - 0s 33ms/step\n",
            "1/1 [==============================] - 0s 34ms/step\n",
            "1/1 [==============================] - 0s 33ms/step\n",
            "1/1 [==============================] - 0s 33ms/step\n",
            "1/1 [==============================] - 0s 33ms/step\n",
            "1/1 [==============================] - 0s 34ms/step\n",
            "1/1 [==============================] - 0s 33ms/step\n",
            "1/1 [==============================] - 0s 34ms/step\n",
            "1/1 [==============================] - 0s 33ms/step\n",
            "1/1 [==============================] - 0s 34ms/step\n",
            "1/1 [==============================] - 0s 34ms/step\n",
            "1/1 [==============================] - 0s 35ms/step\n",
            "1/1 [==============================] - 0s 34ms/step\n",
            "1/1 [==============================] - 0s 36ms/step\n",
            "1/1 [==============================] - 0s 36ms/step\n",
            "1/1 [==============================] - 0s 33ms/step\n",
            "1/1 [==============================] - 0s 37ms/step\n",
            "1/1 [==============================] - 0s 36ms/step\n",
            "1/1 [==============================] - 0s 35ms/step\n",
            "1/1 [==============================] - 0s 34ms/step\n",
            "1/1 [==============================] - 0s 34ms/step\n",
            "1/1 [==============================] - 0s 33ms/step\n",
            "1/1 [==============================] - 0s 35ms/step\n",
            "1/1 [==============================] - 0s 33ms/step\n",
            "1/1 [==============================] - 0s 33ms/step\n",
            "1/1 [==============================] - 0s 34ms/step\n",
            "1/1 [==============================] - 0s 33ms/step\n",
            "1/1 [==============================] - 0s 36ms/step\n",
            "1/1 [==============================] - 0s 34ms/step\n",
            "1/1 [==============================] - 0s 35ms/step\n",
            "1/1 [==============================] - 0s 33ms/step\n",
            "1/1 [==============================] - 0s 35ms/step\n",
            "1/1 [==============================] - 0s 33ms/step\n",
            "1/1 [==============================] - 0s 32ms/step\n",
            "1/1 [==============================] - 0s 33ms/step\n",
            "1/1 [==============================] - 0s 34ms/step\n",
            "1/1 [==============================] - 0s 34ms/step\n",
            "1/1 [==============================] - 0s 36ms/step\n",
            "1/1 [==============================] - 0s 46ms/step\n",
            "1/1 [==============================] - 0s 34ms/step\n",
            "1/1 [==============================] - 0s 34ms/step\n",
            "1/1 [==============================] - 0s 34ms/step\n",
            "1/1 [==============================] - 0s 33ms/step\n",
            "1/1 [==============================] - 0s 34ms/step\n",
            "1/1 [==============================] - 0s 33ms/step\n",
            "1/1 [==============================] - 0s 53ms/step\n",
            "1/1 [==============================] - 0s 47ms/step\n",
            "1/1 [==============================] - 0s 52ms/step\n",
            "1/1 [==============================] - 0s 55ms/step\n",
            "1/1 [==============================] - 0s 51ms/step\n",
            "1/1 [==============================] - 0s 51ms/step\n",
            "1/1 [==============================] - 0s 59ms/step\n",
            "1/1 [==============================] - 0s 53ms/step\n",
            "1/1 [==============================] - 0s 70ms/step\n",
            "1/1 [==============================] - 0s 60ms/step\n",
            "1/1 [==============================] - 0s 57ms/step\n",
            "1/1 [==============================] - 0s 58ms/step\n",
            "1/1 [==============================] - 0s 59ms/step\n",
            "1/1 [==============================] - 0s 57ms/step\n",
            "1/1 [==============================] - 0s 40ms/step\n",
            "1/1 [==============================] - 0s 33ms/step\n",
            "1/1 [==============================] - 0s 34ms/step\n",
            "1/1 [==============================] - 0s 33ms/step\n",
            "1/1 [==============================] - 0s 35ms/step\n",
            "1/1 [==============================] - 0s 33ms/step\n",
            "1/1 [==============================] - 0s 38ms/step\n",
            "1/1 [==============================] - 0s 33ms/step\n",
            "1/1 [==============================] - 0s 34ms/step\n",
            "1/1 [==============================] - 0s 37ms/step\n",
            "1/1 [==============================] - 0s 32ms/step\n",
            "1/1 [==============================] - 0s 33ms/step\n",
            "1/1 [==============================] - 0s 35ms/step\n",
            "1/1 [==============================] - 0s 33ms/step\n",
            "1/1 [==============================] - 0s 34ms/step\n",
            "1/1 [==============================] - 0s 35ms/step\n",
            "1/1 [==============================] - 0s 33ms/step\n",
            "1/1 [==============================] - 0s 33ms/step\n",
            "1/1 [==============================] - 0s 37ms/step\n",
            "1/1 [==============================] - 0s 33ms/step\n",
            "1/1 [==============================] - 0s 32ms/step\n",
            "1/1 [==============================] - 0s 33ms/step\n",
            "1/1 [==============================] - 0s 34ms/step\n",
            "1/1 [==============================] - 0s 36ms/step\n",
            "1/1 [==============================] - 0s 33ms/step\n",
            "1/1 [==============================] - 0s 33ms/step\n",
            "1/1 [==============================] - 0s 35ms/step\n",
            "1/1 [==============================] - 0s 32ms/step\n",
            "1/1 [==============================] - 0s 34ms/step\n",
            "1/1 [==============================] - 0s 35ms/step\n",
            "1/1 [==============================] - 0s 31ms/step\n",
            "1/1 [==============================] - 0s 32ms/step\n",
            "1/1 [==============================] - 0s 33ms/step\n",
            "1/1 [==============================] - 0s 33ms/step\n",
            "1/1 [==============================] - 0s 33ms/step\n",
            "1/1 [==============================] - 0s 32ms/step\n",
            "1/1 [==============================] - 0s 35ms/step\n",
            "1/1 [==============================] - 0s 37ms/step\n",
            "1/1 [==============================] - 0s 37ms/step\n",
            "1/1 [==============================] - 0s 32ms/step\n",
            "1/1 [==============================] - 0s 33ms/step\n",
            "1/1 [==============================] - 0s 40ms/step\n",
            "1/1 [==============================] - 0s 35ms/step\n",
            "1/1 [==============================] - 0s 33ms/step\n",
            "1/1 [==============================] - 0s 32ms/step\n",
            "1/1 [==============================] - 0s 36ms/step\n",
            "1/1 [==============================] - 0s 35ms/step\n",
            "1/1 [==============================] - 0s 37ms/step\n",
            "1/1 [==============================] - 0s 34ms/step\n",
            "1/1 [==============================] - 0s 33ms/step\n",
            "1/1 [==============================] - 0s 37ms/step\n",
            "1/1 [==============================] - 0s 44ms/step\n",
            "1/1 [==============================] - 0s 34ms/step\n",
            "1/1 [==============================] - 0s 37ms/step\n",
            "1/1 [==============================] - 0s 34ms/step\n",
            "1/1 [==============================] - 0s 32ms/step\n",
            "1/1 [==============================] - 0s 40ms/step\n",
            "1/1 [==============================] - 0s 33ms/step\n",
            "1/1 [==============================] - 0s 35ms/step\n",
            "1/1 [==============================] - 0s 34ms/step\n",
            "1/1 [==============================] - 0s 33ms/step\n",
            "1/1 [==============================] - 0s 45ms/step\n",
            "1/1 [==============================] - 0s 34ms/step\n",
            "1/1 [==============================] - 0s 36ms/step\n",
            "1/1 [==============================] - 0s 33ms/step\n",
            "1/1 [==============================] - 0s 33ms/step\n",
            "1/1 [==============================] - 0s 33ms/step\n",
            "1/1 [==============================] - 0s 38ms/step\n",
            "1/1 [==============================] - 0s 33ms/step\n",
            "1/1 [==============================] - 0s 32ms/step\n",
            "1/1 [==============================] - 0s 35ms/step\n",
            "1/1 [==============================] - 0s 32ms/step\n",
            "1/1 [==============================] - 0s 35ms/step\n",
            "1/1 [==============================] - 0s 37ms/step\n",
            "1/1 [==============================] - 0s 33ms/step\n",
            "1/1 [==============================] - 0s 41ms/step\n",
            "1/1 [==============================] - 0s 38ms/step\n",
            "1/1 [==============================] - 0s 34ms/step\n",
            "1/1 [==============================] - 0s 36ms/step\n",
            "1/1 [==============================] - 0s 33ms/step\n",
            "1/1 [==============================] - 0s 33ms/step\n",
            "1/1 [==============================] - 0s 44ms/step\n",
            "1/1 [==============================] - 0s 33ms/step\n",
            "1/1 [==============================] - 0s 33ms/step\n",
            "1/1 [==============================] - 0s 33ms/step\n",
            "1/1 [==============================] - 0s 33ms/step\n",
            "1/1 [==============================] - 0s 34ms/step\n",
            "1/1 [==============================] - 0s 38ms/step\n",
            "1/1 [==============================] - 0s 33ms/step\n",
            "1/1 [==============================] - 0s 34ms/step\n",
            "1/1 [==============================] - 0s 45ms/step\n",
            "1/1 [==============================] - 0s 35ms/step\n",
            "1/1 [==============================] - 0s 32ms/step\n",
            "1/1 [==============================] - 0s 35ms/step\n",
            "1/1 [==============================] - 0s 34ms/step\n",
            "1/1 [==============================] - 0s 35ms/step\n",
            "1/1 [==============================] - 0s 53ms/step\n",
            "1/1 [==============================] - 0s 50ms/step\n",
            "1/1 [==============================] - 0s 58ms/step\n",
            "1/1 [==============================] - 0s 53ms/step\n",
            "1/1 [==============================] - 0s 51ms/step\n",
            "1/1 [==============================] - 0s 54ms/step\n",
            "1/1 [==============================] - 0s 57ms/step\n",
            "1/1 [==============================] - 0s 50ms/step\n",
            "1/1 [==============================] - 0s 60ms/step\n",
            "1/1 [==============================] - 0s 58ms/step\n",
            "1/1 [==============================] - 0s 55ms/step\n",
            "1/1 [==============================] - 0s 58ms/step\n",
            "1/1 [==============================] - 0s 54ms/step\n",
            "1/1 [==============================] - 0s 51ms/step\n",
            "1/1 [==============================] - 0s 33ms/step\n",
            "1/1 [==============================] - 0s 32ms/step\n",
            "1/1 [==============================] - 0s 37ms/step\n",
            "1/1 [==============================] - 0s 34ms/step\n",
            "1/1 [==============================] - 0s 34ms/step\n",
            "1/1 [==============================] - 0s 33ms/step\n",
            "1/1 [==============================] - 0s 33ms/step\n",
            "1/1 [==============================] - 0s 34ms/step\n",
            "1/1 [==============================] - 0s 32ms/step\n",
            "1/1 [==============================] - 0s 32ms/step\n",
            "1/1 [==============================] - 0s 33ms/step\n",
            "1/1 [==============================] - 0s 33ms/step\n",
            "1/1 [==============================] - 0s 34ms/step\n",
            "1/1 [==============================] - 0s 36ms/step\n",
            "1/1 [==============================] - 0s 33ms/step\n",
            "1/1 [==============================] - 0s 33ms/step\n",
            "1/1 [==============================] - 0s 32ms/step\n",
            "1/1 [==============================] - 0s 32ms/step\n",
            "1/1 [==============================] - 0s 33ms/step\n",
            "1/1 [==============================] - 0s 33ms/step\n",
            "1/1 [==============================] - 0s 33ms/step\n",
            "1/1 [==============================] - 0s 40ms/step\n",
            "1/1 [==============================] - 0s 39ms/step\n",
            "1/1 [==============================] - 0s 61ms/step\n",
            "1/1 [==============================] - 0s 69ms/step\n",
            "1/1 [==============================] - 0s 65ms/step\n",
            "1/1 [==============================] - 0s 58ms/step\n",
            "1/1 [==============================] - 0s 64ms/step\n",
            "1/1 [==============================] - 0s 71ms/step\n",
            "1/1 [==============================] - 0s 92ms/step\n",
            "1/1 [==============================] - 0s 79ms/step\n",
            "1/1 [==============================] - 0s 34ms/step\n",
            "1/1 [==============================] - 0s 34ms/step\n",
            "1/1 [==============================] - 0s 34ms/step\n",
            "1/1 [==============================] - 0s 43ms/step\n",
            "1/1 [==============================] - 0s 36ms/step\n",
            "1/1 [==============================] - 0s 32ms/step\n",
            "1/1 [==============================] - 0s 33ms/step\n",
            "1/1 [==============================] - 0s 36ms/step\n",
            "1/1 [==============================] - 0s 34ms/step\n",
            "1/1 [==============================] - 0s 33ms/step\n",
            "1/1 [==============================] - 0s 38ms/step\n",
            "1/1 [==============================] - 0s 34ms/step\n",
            "1/1 [==============================] - 0s 46ms/step\n",
            "1/1 [==============================] - 0s 35ms/step\n",
            "1/1 [==============================] - 0s 40ms/step\n",
            "1/1 [==============================] - 0s 35ms/step\n",
            "1/1 [==============================] - 0s 36ms/step\n",
            "1/1 [==============================] - 0s 32ms/step\n",
            "1/1 [==============================] - 0s 33ms/step\n",
            "1/1 [==============================] - 0s 32ms/step\n",
            "1/1 [==============================] - 0s 34ms/step\n",
            "1/1 [==============================] - 0s 36ms/step\n",
            "1/1 [==============================] - 0s 32ms/step\n",
            "1/1 [==============================] - 0s 38ms/step\n",
            "1/1 [==============================] - 0s 33ms/step\n",
            "1/1 [==============================] - 0s 32ms/step\n",
            "1/1 [==============================] - 0s 40ms/step\n",
            "1/1 [==============================] - 0s 34ms/step\n",
            "1/1 [==============================] - 0s 37ms/step\n",
            "1/1 [==============================] - 0s 33ms/step\n",
            "1/1 [==============================] - 0s 33ms/step\n",
            "1/1 [==============================] - 0s 33ms/step\n",
            "1/1 [==============================] - 0s 44ms/step\n",
            "1/1 [==============================] - 0s 33ms/step\n",
            "1/1 [==============================] - 0s 33ms/step\n",
            "1/1 [==============================] - 0s 36ms/step\n",
            "1/1 [==============================] - 0s 34ms/step\n",
            "1/1 [==============================] - 0s 35ms/step\n",
            "1/1 [==============================] - 0s 33ms/step\n",
            "1/1 [==============================] - 0s 33ms/step\n",
            "1/1 [==============================] - 0s 34ms/step\n",
            "1/1 [==============================] - 0s 36ms/step\n",
            "1/1 [==============================] - 0s 33ms/step\n",
            "1/1 [==============================] - 0s 36ms/step\n",
            "1/1 [==============================] - 0s 35ms/step\n",
            "1/1 [==============================] - 0s 36ms/step\n",
            "1/1 [==============================] - 0s 34ms/step\n",
            "1/1 [==============================] - 0s 33ms/step\n",
            "1/1 [==============================] - 0s 32ms/step\n",
            "1/1 [==============================] - 0s 35ms/step\n",
            "1/1 [==============================] - 0s 32ms/step\n",
            "1/1 [==============================] - 0s 33ms/step\n",
            "1/1 [==============================] - 0s 32ms/step\n",
            "1/1 [==============================] - 0s 38ms/step\n",
            "1/1 [==============================] - 0s 34ms/step\n",
            "1/1 [==============================] - 0s 33ms/step\n",
            "1/1 [==============================] - 0s 55ms/step\n",
            "1/1 [==============================] - 0s 51ms/step\n",
            "1/1 [==============================] - 0s 56ms/step\n",
            "1/1 [==============================] - 0s 53ms/step\n",
            "1/1 [==============================] - 0s 56ms/step\n",
            "1/1 [==============================] - 0s 51ms/step\n",
            "1/1 [==============================] - 0s 51ms/step\n",
            "1/1 [==============================] - 0s 58ms/step\n",
            "1/1 [==============================] - 0s 54ms/step\n",
            "1/1 [==============================] - 0s 48ms/step\n",
            "1/1 [==============================] - 0s 52ms/step\n",
            "1/1 [==============================] - 0s 60ms/step\n",
            "1/1 [==============================] - 0s 48ms/step\n",
            "1/1 [==============================] - 0s 57ms/step\n",
            "1/1 [==============================] - 0s 32ms/step\n",
            "1/1 [==============================] - 0s 34ms/step\n",
            "1/1 [==============================] - 0s 33ms/step\n",
            "1/1 [==============================] - 0s 35ms/step\n",
            "1/1 [==============================] - 0s 36ms/step\n",
            "1/1 [==============================] - 0s 33ms/step\n",
            "1/1 [==============================] - 0s 33ms/step\n",
            "1/1 [==============================] - 0s 35ms/step\n",
            "1/1 [==============================] - 0s 33ms/step\n",
            "1/1 [==============================] - 0s 32ms/step\n",
            "1/1 [==============================] - 0s 34ms/step\n",
            "1/1 [==============================] - 0s 33ms/step\n",
            "1/1 [==============================] - 0s 32ms/step\n",
            "1/1 [==============================] - 0s 35ms/step\n",
            "1/1 [==============================] - 0s 33ms/step\n",
            "1/1 [==============================] - 0s 39ms/step\n",
            "1/1 [==============================] - 0s 33ms/step\n",
            "1/1 [==============================] - 0s 33ms/step\n",
            "1/1 [==============================] - 0s 32ms/step\n",
            "1/1 [==============================] - 0s 34ms/step\n",
            "1/1 [==============================] - 0s 41ms/step\n",
            "1/1 [==============================] - 0s 36ms/step\n",
            "1/1 [==============================] - 0s 33ms/step\n",
            "1/1 [==============================] - 0s 36ms/step\n",
            "1/1 [==============================] - 0s 33ms/step\n",
            "1/1 [==============================] - 0s 34ms/step\n",
            "1/1 [==============================] - 0s 36ms/step\n",
            "1/1 [==============================] - 0s 33ms/step\n",
            "1/1 [==============================] - 0s 34ms/step\n",
            "1/1 [==============================] - 0s 38ms/step\n",
            "1/1 [==============================] - 0s 33ms/step\n",
            "1/1 [==============================] - 0s 35ms/step\n",
            "1/1 [==============================] - 0s 33ms/step\n",
            "1/1 [==============================] - 0s 32ms/step\n",
            "1/1 [==============================] - 0s 33ms/step\n",
            "1/1 [==============================] - 0s 37ms/step\n",
            "1/1 [==============================] - 0s 32ms/step\n",
            "1/1 [==============================] - 0s 36ms/step\n",
            "1/1 [==============================] - 0s 34ms/step\n",
            "1/1 [==============================] - 0s 33ms/step\n",
            "1/1 [==============================] - 0s 33ms/step\n",
            "1/1 [==============================] - 0s 35ms/step\n",
            "1/1 [==============================] - 0s 34ms/step\n",
            "1/1 [==============================] - 0s 35ms/step\n",
            "1/1 [==============================] - 0s 32ms/step\n",
            "1/1 [==============================] - 0s 33ms/step\n",
            "1/1 [==============================] - 0s 39ms/step\n",
            "1/1 [==============================] - 0s 37ms/step\n",
            "1/1 [==============================] - 0s 33ms/step\n",
            "1/1 [==============================] - 0s 45ms/step\n",
            "1/1 [==============================] - 0s 33ms/step\n",
            "1/1 [==============================] - 0s 33ms/step\n",
            "1/1 [==============================] - 0s 34ms/step\n",
            "1/1 [==============================] - 0s 32ms/step\n",
            "1/1 [==============================] - 0s 36ms/step\n",
            "1/1 [==============================] - 0s 35ms/step\n",
            "1/1 [==============================] - 0s 34ms/step\n",
            "1/1 [==============================] - 0s 35ms/step\n",
            "1/1 [==============================] - 0s 44ms/step\n"
          ]
        }
      ],
      "source": [
        "image_width, image_height = 150, 150\n",
        "\n",
        "predictions = []\n",
        "\n",
        "# Iterate over the test data folder\n",
        "for image_file in os.listdir(test_data_folder):\n",
        "    # Load and preprocess each test image\n",
        "    image_path = os.path.join(test_data_folder, image_file)\n",
        "    img = load_img(image_path, target_size=(image_width, image_height))\n",
        "    img_array = img_to_array(img)\n",
        "    img_array = np.expand_dims(img_array, axis=0)  # Add batch dimension\n",
        "    img_array /= 255.0  # Normalize pixel values\n",
        "\n",
        "    # Make predictions on the preprocessed image\n",
        "    prediction = model.predict(img_array)\n",
        "    predicted_class = np.argmax(prediction)  # Get the index of the class with highest probability\n",
        "    predictions.append(predicted_class)\n",
        "\n",
        "# Convert predictions to class labels based on your class mapping\n",
        "# Assuming 0: COVID, 1: Normal, 2: Virus\n",
        "class_mapping = {0: 'covid', 1: 'normal', 2: 'virus'}\n",
        "predicted_labels = [class_mapping[prediction] for prediction in predictions]"
      ]
    },
    {
      "cell_type": "code",
      "execution_count": null,
      "metadata": {
        "colab": {
          "base_uri": "https://localhost:8080/"
        },
        "id": "f1UZFCpRqAi9",
        "outputId": "aa10f162-5012-4753-cee6-e10320fa730f"
      },
      "outputs": [
        {
          "data": {
            "text/plain": [
              "513"
            ]
          },
          "execution_count": 38,
          "metadata": {},
          "output_type": "execute_result"
        }
      ],
      "source": [
        "len(predicted_labels)"
      ]
    },
    {
      "cell_type": "markdown",
      "metadata": {
        "id": "h8pzKiJ8WGcG"
      },
      "source": [
        "### Sve the test result into csv file"
      ]
    },
    {
      "cell_type": "code",
      "execution_count": null,
      "metadata": {
        "colab": {
          "base_uri": "https://localhost:8080/"
        },
        "id": "XdIZqHnyhy_d",
        "outputId": "d197126d-19d4-49f2-d380-2f2f13e76979"
      },
      "outputs": [
        {
          "name": "stdout",
          "output_type": "stream",
          "text": [
            "Predictions saved to predictions.csv.\n"
          ]
        }
      ],
      "source": [
        "import csv\n",
        "\n",
        "output_file = 'predictions.csv'\n",
        "\n",
        "with open(output_file, 'w', newline='') as csvfile:\n",
        "    writer = csv.writer(csvfile)\n",
        "    writer.writerow(['Image', 'Label'])  # Write header\n",
        "    for image_file, predicted_label in zip(os.listdir(test_data_folder), predicted_labels):\n",
        "        writer.writerow([image_file, predicted_label])\n",
        "\n",
        "print(f\"Predictions saved to {output_file}.\")"
      ]
    },
    {
      "cell_type": "markdown",
      "metadata": {
        "id": "G89xV9rJGN7h"
      },
      "source": [
        "************************************************************"
      ]
    },
    {
      "cell_type": "markdown",
      "metadata": {
        "id": "V_ro_vLFQqOY"
      },
      "source": [
        "# Transfer learning"
      ]
    },
    {
      "cell_type": "markdown",
      "metadata": {
        "id": "hJDtt7qVWGcH"
      },
      "source": [
        "### ResNet50 Model"
      ]
    },
    {
      "cell_type": "code",
      "execution_count": null,
      "metadata": {
        "id": "UeBosJ4KIiiS"
      },
      "outputs": [],
      "source": [
        "from tensorflow.keras.applications import ResNet50\n",
        "from tensorflow.keras.models import Model\n",
        "from tensorflow.keras.layers import Dense, GlobalAveragePooling2D\n",
        "\n",
        "# Load pre-trained ResNet50 model\n",
        "base_model = ResNet50(weights='imagenet', include_top=False)\n",
        "\n",
        "# Freeze the base model layers\n",
        "for layer in base_model.layers:\n",
        "    layer.trainable = False\n",
        "\n",
        "# Add custom classification layers\n",
        "x = base_model.output\n",
        "x = GlobalAveragePooling2D()(x)\n",
        "x = Dense(256, activation='relu')(x)\n",
        "predictions = Dense(3, activation='softmax')(x)\n",
        "\n",
        "ResNet50_model = Model(inputs=base_model.input, outputs=predictions)\n",
        "\n",
        "ResNet50_model.compile(optimizer='adam', loss='categorical_crossentropy', metrics=['accuracy'])\n"
      ]
    },
    {
      "cell_type": "code",
      "execution_count": null,
      "metadata": {
        "id": "yidYt3AqIieI"
      },
      "outputs": [],
      "source": [
        "#ResNet50_model.summary()"
      ]
    },
    {
      "cell_type": "code",
      "execution_count": null,
      "metadata": {
        "colab": {
          "base_uri": "https://localhost:8080/"
        },
        "id": "XCs7AbRzIibq",
        "outputId": "1684afe8-0ed0-4bed-9fe9-39e22a6192a6",
        "scrolled": true
      },
      "outputs": [
        {
          "name": "stderr",
          "output_type": "stream",
          "text": [
            "<ipython-input-47-11ab237fda5a>:1: UserWarning: `Model.fit_generator` is deprecated and will be removed in a future version. Please use `Model.fit`, which supports generators.\n",
            "  ResNet50_model.fit_generator(\n"
          ]
        },
        {
          "name": "stdout",
          "output_type": "stream",
          "text": [
            "Epoch 1/5\n",
            "31/31 [==============================] - 121s 4s/step - loss: 1.0945 - accuracy: 0.3903 - val_loss: 1.0338 - val_accuracy: 0.3956\n",
            "Epoch 2/5\n",
            "31/31 [==============================] - 114s 4s/step - loss: 1.0398 - accuracy: 0.4305 - val_loss: 1.0226 - val_accuracy: 0.3911\n",
            "Epoch 3/5\n",
            "31/31 [==============================] - 115s 4s/step - loss: 1.0145 - accuracy: 0.4521 - val_loss: 0.9647 - val_accuracy: 0.5244\n",
            "Epoch 4/5\n",
            "31/31 [==============================] - 123s 4s/step - loss: 0.9764 - accuracy: 0.5108 - val_loss: 0.9909 - val_accuracy: 0.5244\n",
            "Epoch 5/5\n",
            "31/31 [==============================] - 141s 5s/step - loss: 0.9557 - accuracy: 0.5283 - val_loss: 0.9236 - val_accuracy: 0.4889\n"
          ]
        },
        {
          "data": {
            "text/plain": [
              "<keras.src.callbacks.History at 0x7e496fbb7df0>"
            ]
          },
          "execution_count": 47,
          "metadata": {},
          "output_type": "execute_result"
        }
      ],
      "source": [
        "ResNet50_model.fit_generator(\n",
        "    train_generator,\n",
        "    steps_per_epoch=31,\n",
        "    epochs=5,\n",
        "    validation_data=validation_generator,\n",
        "    validation_steps=12\n",
        ")"
      ]
    },
    {
      "cell_type": "markdown",
      "metadata": {
        "id": "JJvhG81MWGcJ"
      },
      "source": [
        "### VGG16 Model"
      ]
    },
    {
      "cell_type": "code",
      "execution_count": null,
      "metadata": {
        "colab": {
          "base_uri": "https://localhost:8080/"
        },
        "id": "c5-d4vr_IztE",
        "outputId": "340e2ebd-507f-492e-b0b1-2bdd411ccbf4"
      },
      "outputs": [
        {
          "name": "stdout",
          "output_type": "stream",
          "text": [
            "Downloading data from https://storage.googleapis.com/tensorflow/keras-applications/vgg16/vgg16_weights_tf_dim_ordering_tf_kernels_notop.h5\n",
            "58889256/58889256 [==============================] - 0s 0us/step\n"
          ]
        }
      ],
      "source": [
        "from tensorflow.keras.applications import VGG16\n",
        "\n",
        "# Load pre-trained VGG16 model\n",
        "base_model = VGG16(weights='imagenet', include_top=False)\n",
        "\n",
        "# Freeze the base model layers (optional)\n",
        "for layer in base_model.layers:\n",
        "    layer.trainable = False\n",
        "\n",
        "x = base_model.output\n",
        "x = GlobalAveragePooling2D()(x)\n",
        "x = Dense(256, activation='relu')(x)\n",
        "predictions = Dense(3, activation='softmax')(x)\n",
        "\n",
        "VGG16_model = Model(inputs=base_model.input, outputs=predictions)\n",
        "\n",
        "VGG16_model.compile(optimizer='adam', loss='categorical_crossentropy', metrics=['accuracy'])\n"
      ]
    },
    {
      "cell_type": "code",
      "execution_count": null,
      "metadata": {
        "colab": {
          "base_uri": "https://localhost:8080/"
        },
        "id": "KotaMLZRQHBk",
        "outputId": "b6be571e-10ae-4aaa-ddcb-b0ac12b87a0c"
      },
      "outputs": [
        {
          "name": "stderr",
          "output_type": "stream",
          "text": [
            "<ipython-input-49-9b8b716f3ed3>:1: UserWarning: `Model.fit_generator` is deprecated and will be removed in a future version. Please use `Model.fit`, which supports generators.\n",
            "  hist = VGG16_model.fit_generator(\n"
          ]
        },
        {
          "name": "stdout",
          "output_type": "stream",
          "text": [
            "Epoch 1/5\n",
            "31/31 [==============================] - 314s 10s/step - loss: 0.9059 - accuracy: 0.5819 - val_loss: 0.7033 - val_accuracy: 0.7200\n",
            "Epoch 2/5\n",
            "31/31 [==============================] - 311s 10s/step - loss: 0.6454 - accuracy: 0.7827 - val_loss: 0.5685 - val_accuracy: 0.7689\n",
            "Epoch 3/5\n",
            "31/31 [==============================] - 340s 11s/step - loss: 0.5193 - accuracy: 0.8280 - val_loss: 0.4498 - val_accuracy: 0.8222\n",
            "Epoch 4/5\n",
            "31/31 [==============================] - 337s 11s/step - loss: 0.4663 - accuracy: 0.8311 - val_loss: 0.3625 - val_accuracy: 0.8533\n",
            "Epoch 5/5\n",
            "31/31 [==============================] - 342s 11s/step - loss: 0.3798 - accuracy: 0.8867 - val_loss: 0.3533 - val_accuracy: 0.8711\n"
          ]
        }
      ],
      "source": [
        "hist = VGG16_model.fit_generator(\n",
        "    train_generator,\n",
        "    steps_per_epoch=31,\n",
        "    epochs=5,\n",
        "    validation_data=validation_generator,\n",
        "    validation_steps=12\n",
        ")"
      ]
    },
    {
      "cell_type": "markdown",
      "metadata": {
        "id": "YiKQbCW9WGcK"
      },
      "source": [
        "### VGG19 Model"
      ]
    },
    {
      "cell_type": "code",
      "execution_count": null,
      "metadata": {
        "colab": {
          "base_uri": "https://localhost:8080/"
        },
        "id": "ChLQFBvyj-Q8",
        "outputId": "3f9d4565-e36b-4e6b-cddf-2c2fbebb3fde"
      },
      "outputs": [
        {
          "name": "stdout",
          "output_type": "stream",
          "text": [
            "Downloading data from https://storage.googleapis.com/tensorflow/keras-applications/vgg19/vgg19_weights_tf_dim_ordering_tf_kernels_notop.h5\n",
            "80134624/80134624 [==============================] - 1s 0us/step\n"
          ]
        }
      ],
      "source": [
        "from tensorflow.keras.applications import VGG19\n",
        "\n",
        "# Load pre-trained VGG19 model\n",
        "base_model = VGG19(weights='imagenet', include_top=False, input_shape=(150, 150, 3))\n",
        "\n",
        "for layer in base_model.layers:\n",
        "    layer.trainable = False\n",
        "\n",
        "x = base_model.output\n",
        "x = GlobalAveragePooling2D()(x)\n",
        "x = Dense(256, activation='relu')(x)\n",
        "predictions = Dense(3, activation='softmax')(x)\n",
        "\n",
        "VGG19_model = Model(inputs=base_model.input, outputs=predictions)\n",
        "\n",
        "VGG19_model.compile(optimizer='adam', loss='categorical_crossentropy', metrics=['accuracy'])\n",
        "\n"
      ]
    },
    {
      "cell_type": "code",
      "execution_count": null,
      "metadata": {
        "colab": {
          "base_uri": "https://localhost:8080/"
        },
        "id": "C6rE1ukDkv0T",
        "outputId": "e9306821-cfb2-459b-d1df-123b5dfc22c8"
      },
      "outputs": [
        {
          "name": "stderr",
          "output_type": "stream",
          "text": [
            "<ipython-input-51-fb403bcfad90>:1: UserWarning: `Model.fit_generator` is deprecated and will be removed in a future version. Please use `Model.fit`, which supports generators.\n",
            "  histo = VGG19_model.fit_generator(\n"
          ]
        },
        {
          "name": "stdout",
          "output_type": "stream",
          "text": [
            "Epoch 1/5\n",
            "31/31 [==============================] - 409s 13s/step - loss: 0.8735 - accuracy: 0.5963 - val_loss: 0.6623 - val_accuracy: 0.7422\n",
            "Epoch 2/5\n",
            "31/31 [==============================] - 396s 13s/step - loss: 0.6287 - accuracy: 0.7662 - val_loss: 0.5243 - val_accuracy: 0.8133\n",
            "Epoch 3/5\n",
            "31/31 [==============================] - 396s 13s/step - loss: 0.5398 - accuracy: 0.7878 - val_loss: 0.4572 - val_accuracy: 0.8533\n",
            "Epoch 4/5\n",
            "31/31 [==============================] - 396s 13s/step - loss: 0.4979 - accuracy: 0.8095 - val_loss: 0.4193 - val_accuracy: 0.8533\n",
            "Epoch 5/5\n",
            "31/31 [==============================] - 395s 13s/step - loss: 0.4686 - accuracy: 0.8198 - val_loss: 0.4720 - val_accuracy: 0.8400\n"
          ]
        }
      ],
      "source": [
        "histo = VGG19_model.fit_generator(\n",
        "    train_generator,\n",
        "    steps_per_epoch=31,\n",
        "    epochs=5,\n",
        "    validation_data=validation_generator,\n",
        "    validation_steps=12\n",
        ")"
      ]
    },
    {
      "cell_type": "markdown",
      "metadata": {
        "id": "hYtxyxv0k6lw"
      },
      "source": [
        ":)"
      ]
    },
    {
      "cell_type": "code",
      "execution_count": null,
      "metadata": {
        "id": "gBxffMR2P8yD"
      },
      "outputs": [],
      "source": []
    },
    {
      "cell_type": "code",
      "execution_count": null,
      "metadata": {
        "id": "Nr7-NlgwP2vK"
      },
      "outputs": [],
      "source": []
    }
  ],
  "metadata": {
    "accelerator": "GPU",
    "colab": {
      "collapsed_sections": [
        "dtWo9Ap5LQZl",
        "9LzkvBASc0Sx",
        "SvOxdUn2Vvcf",
        "yFU8AZ1dDoSV",
        "V_ro_vLFQqOY",
        "hJDtt7qVWGcH",
        "JJvhG81MWGcJ",
        "YiKQbCW9WGcK"
      ],
      "gpuType": "T4",
      "provenance": []
    },
    "kernelspec": {
      "display_name": "Python 3",
      "name": "python3"
    },
    "language_info": {
      "codemirror_mode": {
        "name": "ipython",
        "version": 3
      },
      "file_extension": ".py",
      "mimetype": "text/x-python",
      "name": "python",
      "nbconvert_exporter": "python",
      "pygments_lexer": "ipython3",
      "version": "3.11.3"
    }
  },
  "nbformat": 4,
  "nbformat_minor": 0
}